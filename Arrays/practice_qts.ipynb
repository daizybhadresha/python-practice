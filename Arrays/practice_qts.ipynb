{
 "cells": [
  {
   "cell_type": "markdown",
   "metadata": {},
   "source": [
    "WAP to find all pairs of integers whose sum == given number"
   ]
  },
  {
   "cell_type": "code",
   "execution_count": 11,
   "metadata": {},
   "outputs": [
    {
     "name": "stdout",
     "output_type": "stream",
     "text": [
      "(-1, -9)\n",
      "(-9, -1)\n",
      "(2, 5)\n",
      "(5, 2)\n",
      "(7, 0)\n",
      "(0, 7)\n"
     ]
    }
   ],
   "source": [
    "\n",
    "def find_pairs_with_sum(array1, target):\n",
    "    for i in range(len(array1)):\n",
    "        for j in range(len(array1)):\n",
    "            if array1[i] == array1[j]:\n",
    "                continue\n",
    "            elif array1[i]+array1[j] == target:\n",
    "                print(\"({}, {})\".format(array1[i], array1[j]))\n",
    "            # print(\"{} + {} = {}\".format(array1[i], array1[j], array1[i]+array1[j]))\n",
    "                \n",
    "array1 = [-1, 2, 5, 7, -9, 0]\n",
    "find_pairs_with_sum(array1, -10)\n",
    "\n",
    "find_pairs_with_sum(array1, 7)"
   ]
  }
 ],
 "metadata": {
  "kernelspec": {
   "display_name": ".venv",
   "language": "python",
   "name": "python3"
  },
  "language_info": {
   "codemirror_mode": {
    "name": "ipython",
    "version": 3
   },
   "file_extension": ".py",
   "mimetype": "text/x-python",
   "name": "python",
   "nbconvert_exporter": "python",
   "pygments_lexer": "ipython3",
   "version": "3.9.6"
  }
 },
 "nbformat": 4,
 "nbformat_minor": 2
}
