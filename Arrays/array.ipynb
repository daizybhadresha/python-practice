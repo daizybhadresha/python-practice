{
 "cells": [
  {
   "cell_type": "markdown",
   "metadata": {},
   "source": [
    "╒══════════╤══════════════╤════════════════════╤════════════════════╕\n",
    "│   result │ NaN          │ Infinity           │ -Infinity          │\n",
    "│ module   │              │                    │                    │\n",
    "╞══════════╪══════════════╪════════════════════╪════════════════════╡\n",
    "│ built-in │ float(\"nan\") │ float(\"inf\")       │ -float(\"inf\")      │\n",
    "│          │              │ float(\"infinity\")  │ -float(\"infinity\") │\n",
    "│          │              │ float(\"+inf\")      │ float(\"-inf\")      │\n",
    "│          │              │ float(\"+infinity\") │ float(\"-infinity\") │\n",
    "├──────────┼──────────────┼────────────────────┼────────────────────┤\n",
    "│ math     │ math.nan     │ math.inf           │ -math.inf          │\n",
    "├──────────┼──────────────┼────────────────────┼────────────────────┤\n",
    "│ cmath    │ cmath.nan    │ cmath.inf          │ -cmath.inf         │\n",
    "├──────────┼──────────────┼────────────────────┼────────────────────┤\n",
    "│ numpy    │ numpy.nan    │ numpy.PINF         │ numpy.NINF         │\n",
    "│          │ numpy.NaN    │ numpy.inf          │ -numpy.inf         │\n",
    "│          │ numpy.NAN    │ numpy.infty        │ -numpy.infty       │\n",
    "│          │              │ numpy.Inf          │ -numpy.Inf         │\n",
    "│          │              │ numpy.Infinity     │ -numpy.Infinity    │\n",
    "╘══════════╧══════════════╧════════════════════╧════════════════════╛\n"
   ]
  },
  {
   "cell_type": "markdown",
   "metadata": {},
   "source": [
    "https://docs.python.org/3/library/array.html#module-array\n",
    "\n",
    "1D array, homogenous type (all elems of same type else error comes up)"
   ]
  },
  {
   "cell_type": "code",
   "execution_count": 8,
   "metadata": {},
   "outputs": [
    {
     "name": "stdout",
     "output_type": "stream",
     "text": [
      "array('l')\n",
      "array('u', 'hello ♁')\n",
      "array('l', [1, 2, 3, 4, 5])\n",
      "array('d', [1.0, 2.0, 3.14, -inf, nan])\n"
     ]
    }
   ],
   "source": [
    "from array import *\n",
    "import numpy as np\n",
    "\n",
    "print(array('l'))\n",
    "print(array('u', 'hello \\u2641'))\n",
    "print(array('l', [1, 2, 3, 4, 5]))\n",
    "print(array('d', [1.0, 2.0, 3.14, float('-inf'), np.nan]))"
   ]
  },
  {
   "cell_type": "code",
   "execution_count": null,
   "metadata": {},
   "outputs": [],
   "source": []
  }
 ],
 "metadata": {
  "kernelspec": {
   "display_name": ".venv",
   "language": "python",
   "name": "python3"
  },
  "language_info": {
   "codemirror_mode": {
    "name": "ipython",
    "version": 3
   },
   "file_extension": ".py",
   "mimetype": "text/x-python",
   "name": "python",
   "nbconvert_exporter": "python",
   "pygments_lexer": "ipython3",
   "version": "3.9.6"
  }
 },
 "nbformat": 4,
 "nbformat_minor": 2
}
