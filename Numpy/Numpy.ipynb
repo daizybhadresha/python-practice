{
  "nbformat": 4,
  "nbformat_minor": 0,
  "metadata": {
    "colab": {
      "name": "Numpy.ipynb",
      "provenance": [],
      "collapsed_sections": [],
      "toc_visible": true,
      "include_colab_link": true
    },
    "kernelspec": {
      "name": "python3",
      "display_name": "Python 3"
    }
  },
  "cells": [
    {
      "cell_type": "markdown",
      "metadata": {
        "id": "view-in-github",
        "colab_type": "text"
      },
      "source": [
        "<a href=\"https://colab.research.google.com/github/daizybhadresha/python_data_science/blob/main/Numpy.ipynb\" target=\"_parent\"><img src=\"https://colab.research.google.com/assets/colab-badge.svg\" alt=\"Open In Colab\"/></a>"
      ]
    },
    {
      "cell_type": "markdown",
      "metadata": {
        "id": "giEvzf9bjgrm"
      },
      "source": [
        "### Creation"
      ]
    },
    {
      "cell_type": "code",
      "metadata": {
        "id": "5eZAnvTgoJ6G",
        "colab": {
          "base_uri": "https://localhost:8080/"
        },
        "outputId": "6104218a-72a4-4b89-e416-b09a18b5d826"
      },
      "source": [
        "#### Creating with Numerical Ranges\n",
        "\n",
        "import numpy as np\n",
        "\n",
        "# NumPy array from 1 to 19 with step size 2\n",
        "print(np.arange(1,20,2,dtype='int8'))\n",
        "\n",
        "# Diff element type can be created but at the end it will be of same type\n",
        "narray = np.array([1,2,3,4,'sum'])\n",
        "print(narray)\n"
      ],
      "execution_count": 11,
      "outputs": [
        {
          "output_type": "stream",
          "text": [
            "[ 1  3  5  7  9 11 13 15 17 19]\n",
            "['1' '2' '3' '4' 'sum']\n"
          ],
          "name": "stdout"
        }
      ]
    },
    {
      "cell_type": "code",
      "metadata": {
        "colab": {
          "base_uri": "https://localhost:8080/"
        },
        "id": "zglGxI1BYzK1",
        "outputId": "dde3b804-ff48-46a0-b22b-5df11f425526"
      },
      "source": [
        "import numpy as np\n",
        "import sys\n",
        "\n",
        "narray = np.array([1,2,3,4])\n",
        "\n",
        "my_list = [1,2,3,4]\n",
        "\n",
        "print(narray.__sizeof__())\n",
        "print(my_list.__sizeof__())\n",
        "print(sys.getsizeof(narray))\n",
        "print(sys.getsizeof(my_list))"
      ],
      "execution_count": 5,
      "outputs": [
        {
          "output_type": "stream",
          "text": [
            "128\n",
            "72\n",
            "128\n",
            "104\n"
          ],
          "name": "stdout"
        }
      ]
    },
    {
      "cell_type": "code",
      "metadata": {
        "id": "_mCaJMduofz-",
        "colab": {
          "base_uri": "https://localhost:8080/"
        },
        "collapsed": true,
        "cellView": "code",
        "outputId": "ee2f7d46-d3be-4bdc-89a3-f2f3490c5ca2"
      },
      "source": [
        "#### Initial Placeholders : Ways of creating arrays\n",
        "\n",
        "import numpy as np\n",
        "\n",
        "# arbitrary array of specified shape and dtype  --- new values will occur as many times we run\n",
        "print(np.empty((3,4),dtype='string_'))\n",
        "\n",
        "# Creates a new array of specified size and type, filled with 0\n",
        "print(np.zeros((3,4),dtype='int8'))\n",
        "\n",
        "# Creates a new array of specified size and type, filled with 1\n",
        "print(np.ones((3,4),dtype='int8'))\n",
        "\n",
        "# Creates a new array of given shape and type, filled with a constant value\n",
        "print(np.full((2,2),5))\n",
        "print(np.full((1,5),5))\n",
        "\n",
        "# Creates a 2-D array with ones on the diagonal and zeros elsewhere  -- by default float\n",
        "# 5*5\n",
        "np.eye(5, dtype=int)\n"
      ],
      "execution_count": 18,
      "outputs": [
        {
          "output_type": "stream",
          "text": [
            "[[b'`' b'\\x94' b'[' b'\\x06']\n",
            " [b'j' b'U' b'' b'']\n",
            " [b'\\x02' b'' b'' b'']]\n",
            "[[0 0 0 0]\n",
            " [0 0 0 0]\n",
            " [0 0 0 0]]\n",
            "[[1 1 1 1]\n",
            " [1 1 1 1]\n",
            " [1 1 1 1]]\n",
            "[[5 5]\n",
            " [5 5]]\n",
            "[[5 5 5 5 5]]\n"
          ],
          "name": "stdout"
        },
        {
          "output_type": "execute_result",
          "data": {
            "text/plain": [
              "array([[1, 0, 0, 0, 0],\n",
              "       [0, 1, 0, 0, 0],\n",
              "       [0, 0, 1, 0, 0],\n",
              "       [0, 0, 0, 1, 0],\n",
              "       [0, 0, 0, 0, 1]])"
            ]
          },
          "metadata": {
            "tags": []
          },
          "execution_count": 18
        }
      ]
    },
    {
      "cell_type": "code",
      "metadata": {
        "id": "Q22oBSOrmc0v",
        "colab": {
          "base_uri": "https://localhost:8080/"
        },
        "outputId": "f573c9eb-5cb8-4c46-eedb-75272f39966b"
      },
      "source": [
        "#### Creating with an existing Data\n",
        "\n",
        "import numpy as np\n",
        "\n",
        "#python list\n",
        "a=[1,2,3]\n",
        "\n",
        "#convert to NumPy array\n",
        "b=np.asarray(a)\n",
        "print(b)\n",
        "\n",
        "#python tuples\n",
        "a=((1,2),(3,4))\n",
        "\n",
        "#convery to NumPy array\n",
        "b=np.asarray(a)\n",
        "print(b)\n",
        "\n",
        "#creates a NumPy ndarray from an iterable. creating arrays from list a, tuple b, range( ) and finally a string d\n",
        "a=np.fromiter([1,2,3,4],dtype='int8')\n",
        "b=np.fromiter((1,2,3,4),dtype='int8')\n",
        "c=np.fromiter(range(1,5),dtype='int8')\n",
        "d=np.fromiter('string',dtype='S50')\n",
        "\n",
        "print(\"Array a is \",a)\n",
        "print(\"Array b is \",b)\n",
        "print(\"Array c is \",c)\n",
        "print(\"Array d is \",d)"
      ],
      "execution_count": 19,
      "outputs": [
        {
          "output_type": "stream",
          "text": [
            "[1 2 3]\n",
            "[[1 2]\n",
            " [3 4]]\n",
            "Array a is  [1 2 3 4]\n",
            "Array b is  [1 2 3 4]\n",
            "Array c is  [1 2 3 4]\n",
            "Array d is  [b's' b't' b'r' b'i' b'n' b'g']\n"
          ],
          "name": "stdout"
        }
      ]
    },
    {
      "cell_type": "code",
      "metadata": {
        "id": "nc3xftaIr89D",
        "colab": {
          "base_uri": "https://localhost:8080/"
        },
        "outputId": "627d21d7-1758-4583-e254-0e1792cb8ca6"
      },
      "source": [
        "#### Creating with Numerical Ranges\n",
        "\n",
        "import numpy as np             \n",
        "\n",
        "# NumPy array from 1 to 19 with step size 2\n",
        "print(np.arange(5))\n",
        "print(np.arange(1,20,2,dtype='int8'))          # numpy.arange(start, stop, step, dtype)\n",
        "\n",
        "\n",
        "# Returns an array within a range according to the number of values we want within that range. \n",
        "\n",
        "# NumPy array from 1 to 20 with 100 numbers in between\n",
        "print(np.linspace(1,20,100))                   # numpy.linspace(start, stop, num, endpoint, retstep, dtype)\n",
        "\n",
        "\n",
        "# returns an array containing numbers that are evenly spaced on a log scale. Start and stop endpoints of the scale are indices of the base, usually 10. \n",
        "\n",
        "# NumPy array from 10^0 to 10^2 with 100 numbers in log scale - There are 100 values in the range of [10^0, 10^2]. \n",
        "print(np.logspace(0,2,100))                    # numpy.logspace(start, stop, num, endpoint, base, dtype)\n",
        "\n"
      ],
      "execution_count": 20,
      "outputs": [
        {
          "output_type": "stream",
          "text": [
            "[0 1 2 3 4]\n",
            "[ 1  3  5  7  9 11 13 15 17 19]\n",
            "[ 1.          1.19191919  1.38383838  1.57575758  1.76767677  1.95959596\n",
            "  2.15151515  2.34343434  2.53535354  2.72727273  2.91919192  3.11111111\n",
            "  3.3030303   3.49494949  3.68686869  3.87878788  4.07070707  4.26262626\n",
            "  4.45454545  4.64646465  4.83838384  5.03030303  5.22222222  5.41414141\n",
            "  5.60606061  5.7979798   5.98989899  6.18181818  6.37373737  6.56565657\n",
            "  6.75757576  6.94949495  7.14141414  7.33333333  7.52525253  7.71717172\n",
            "  7.90909091  8.1010101   8.29292929  8.48484848  8.67676768  8.86868687\n",
            "  9.06060606  9.25252525  9.44444444  9.63636364  9.82828283 10.02020202\n",
            " 10.21212121 10.4040404  10.5959596  10.78787879 10.97979798 11.17171717\n",
            " 11.36363636 11.55555556 11.74747475 11.93939394 12.13131313 12.32323232\n",
            " 12.51515152 12.70707071 12.8989899  13.09090909 13.28282828 13.47474747\n",
            " 13.66666667 13.85858586 14.05050505 14.24242424 14.43434343 14.62626263\n",
            " 14.81818182 15.01010101 15.2020202  15.39393939 15.58585859 15.77777778\n",
            " 15.96969697 16.16161616 16.35353535 16.54545455 16.73737374 16.92929293\n",
            " 17.12121212 17.31313131 17.50505051 17.6969697  17.88888889 18.08080808\n",
            " 18.27272727 18.46464646 18.65656566 18.84848485 19.04040404 19.23232323\n",
            " 19.42424242 19.61616162 19.80808081 20.        ]\n",
            "[  1.           1.04761575   1.09749877   1.149757     1.20450354\n",
            "   1.26185688   1.32194115   1.38488637   1.45082878   1.51991108\n",
            "   1.59228279   1.66810054   1.7475284    1.83073828   1.91791026\n",
            "   2.009233     2.10490414   2.20513074   2.3101297    2.42012826\n",
            "   2.53536449   2.65608778   2.7825594    2.91505306   3.05385551\n",
            "   3.19926714   3.35160265   3.51119173   3.67837977   3.85352859\n",
            "   4.03701726   4.22924287   4.43062146   4.64158883   4.86260158\n",
            "   5.09413801   5.33669923   5.59081018   5.85702082   6.13590727\n",
            "   6.42807312   6.73415066   7.05480231   7.39072203   7.74263683\n",
            "   8.11130831   8.49753436   8.90215085   9.32603347   9.77009957\n",
            "  10.23531022  10.72267222  11.23324033  11.76811952  12.32846739\n",
            "  12.91549665  13.53047775  14.17474163  14.84968262  15.55676144\n",
            "  16.29750835  17.07352647  17.88649529  18.73817423  19.6304065\n",
            "  20.56512308  21.5443469   22.5701972   23.64489413  24.77076356\n",
            "  25.95024211  27.18588243  28.48035868  29.8364724   31.2571585\n",
            "  32.74549163  34.30469286  35.93813664  37.64935807  39.44206059\n",
            "  41.320124    43.28761281  45.34878508  47.50810162  49.77023564\n",
            "  52.14008288  54.62277218  57.22367659  59.94842503  62.80291442\n",
            "  65.79332247  68.92612104  72.20809018  75.64633276  79.24828984\n",
            "  83.02175681  86.97490026  91.11627561  95.45484567 100.        ]\n"
          ],
          "name": "stdout"
        }
      ]
    },
    {
      "cell_type": "markdown",
      "metadata": {
        "id": "RnhK5JJMlKmn"
      },
      "source": [
        "### Methods & Attributes"
      ]
    },
    {
      "cell_type": "code",
      "metadata": {
        "id": "f1HjINjdT0MT",
        "colab": {
          "base_uri": "https://localhost:8080/"
        },
        "outputId": "0dc968e8-631a-4dfb-bcf3-0e353afeb446"
      },
      "source": [
        "##### Numpy Exploration Methods\n",
        "\n",
        "import numpy as np\n",
        "\n",
        "# initialize NumPy array\n",
        "array = np.arange(1, 11)\n",
        "print(array)\n",
        "\n",
        "# check dimensions : Total no of demension\n",
        "dim = array.ndim\n",
        "print(\"Dimension : \", dim)"
      ],
      "execution_count": 10,
      "outputs": [
        {
          "output_type": "stream",
          "text": [
            "[ 1  2  3  4  5  6  7  8  9 10]\n",
            "Dimension :  1\n"
          ],
          "name": "stdout"
        }
      ]
    },
    {
      "cell_type": "code",
      "metadata": {
        "colab": {
          "base_uri": "https://localhost:8080/"
        },
        "id": "-FV8n9_fb457",
        "outputId": "02f00018-0ff6-44b5-eaeb-ed592de1b7ac"
      },
      "source": [
        "array = np.arange(1, 11)\n",
        "# reshaped array\n",
        "reshaped = array.reshape(5,2)\n",
        "print(\"Reshaped array\\n\",reshaped)\n",
        "\n",
        "# check dimensions\n",
        "sha = reshaped.shape\n",
        "print(\"Dimension : \", reshaped.ndim)\n",
        "print(\"Shape : \", sha)\n",
        "\n",
        "# Total elements\n",
        "print(\"Length:\",len(array))\n",
        "print(\"Size:\",array.size)\n",
        "\n",
        "# get the number of bytes in each element of the array\n",
        "print(\"Itemsize:\",array.itemsize)"
      ],
      "execution_count": 12,
      "outputs": [
        {
          "output_type": "stream",
          "text": [
            "Reshaped array\n",
            " [[ 1  2]\n",
            " [ 3  4]\n",
            " [ 5  6]\n",
            " [ 7  8]\n",
            " [ 9 10]]\n",
            "Dimension :  2\n",
            "Shape :  (5, 2)\n",
            "Length: 10\n",
            "Size: 10\n",
            "Itemsize: 8\n"
          ],
          "name": "stdout"
        }
      ]
    },
    {
      "cell_type": "code",
      "metadata": {
        "colab": {
          "base_uri": "https://localhost:8080/"
        },
        "id": "CPdpl_zWcXhu",
        "outputId": "19e9a5c7-5586-484f-d5c5-18a85919d659"
      },
      "source": [
        "# can reshape as well as resize(can add new elements i.e. 0) array\n",
        "a = np.array([[0, 1], [2, 3]])\n",
        "a.resize((5,3))\n",
        "print(\"Resized array\\n\",a)"
      ],
      "execution_count": 13,
      "outputs": [
        {
          "output_type": "stream",
          "text": [
            "Resized array\n",
            " [[0 1 2]\n",
            " [3 0 0]\n",
            " [0 0 0]\n",
            " [0 0 0]\n",
            " [0 0 0]]\n"
          ],
          "name": "stdout"
        }
      ]
    },
    {
      "cell_type": "code",
      "metadata": {
        "id": "GpNSjcsDAu92",
        "colab": {
          "base_uri": "https://localhost:8080/",
          "height": 68
        },
        "outputId": "cf7b696b-dffb-4b77-dab3-7eacaaa59f3f"
      },
      "source": [
        "#### Find a 3x3 Non Singular Matrix\n",
        "\n",
        "I = np.identity(3)\n",
        "print(I)"
      ],
      "execution_count": null,
      "outputs": [
        {
          "output_type": "stream",
          "text": [
            "[[1. 0. 0.]\n",
            " [0. 1. 0.]\n",
            " [0. 0. 1.]]\n"
          ],
          "name": "stdout"
        }
      ]
    },
    {
      "cell_type": "markdown",
      "metadata": {
        "id": "N5hTXgrCnK4X"
      },
      "source": [
        "### Mathematical Operations"
      ]
    },
    {
      "cell_type": "code",
      "metadata": {
        "id": "XSOt7sD_O6gh"
      },
      "source": [
        "#### Vectorization : Operations on entire array rather than single element\n",
        "# Add, Sub, Mult, Div, Sqrt, Log\n",
        "# Agg Function : Min, Max, Mean, Mode, Median, std, corr coeff, cum sum(cumulative sum of elems)\n",
        "# Array comp : np.array_equal(a,b)\n",
        "# Axes notation : By changing axis you can compute across dimensions, whereas not specifying axis will result in computation over the entire array.\n",
        "\n",
        "# Boolean indexing\n",
        "import numpy as np\n",
        "a = np.array([1,2,3,4,5,6,7])\n",
        "print(a[a > 2])\n",
        "print(a[a - 2])\n",
        "\n",
        "a = np.array([[1,2,3],[4,5,6],[7,8,9]])\n",
        "b=np.array([[10,11,12],[13,14,15],[16,17,18]])\n",
        "\n",
        "print(a+b)\n",
        "print(np.add(a,b))\n",
        "\n",
        "print(a-b)\n",
        "print(np.subtract(a,b))\n",
        "\n",
        "print(a*b)\n",
        "print(np.multiply(a,b))\n",
        "\n",
        "print(a/b)\n",
        "print(np.divide(a,b))\n",
        "\n",
        "print(np.sqrt(a))\n",
        "\n",
        "print(np.log(a))\n",
        "\n",
        "print(np.array_equal(a,b))\n",
        "\n",
        "# Axes notation : using agg function\n",
        "print(a.min(axis=0))                  # axis = 0 -> row wise "
      ],
      "execution_count": null,
      "outputs": []
    },
    {
      "cell_type": "code",
      "metadata": {
        "id": "FNN9KD53sc5_"
      },
      "source": [
        "#  Agg Function : Min, Max, Mean, Mode, Median, std, corr coeff, cum sum(cumulative sum of elems)\n",
        "import numpy as np\n",
        "a = np.array([1,2,3,4,5,6,7])"
      ],
      "execution_count": 21,
      "outputs": []
    },
    {
      "cell_type": "code",
      "metadata": {
        "id": "qxGcLcI4IQ_G",
        "colab": {
          "base_uri": "https://localhost:8080/",
          "height": 85
        },
        "outputId": "02076b27-8723-4d85-e3d2-7fc7065ebb0f"
      },
      "source": [
        "a = np.array([[0, 1, 2], [3, 4, 5]])\n",
        "b = a.sum(axis=1)\n",
        "print (b)\n",
        "\n",
        "a = np.array([[0, 1, 0], [1, 0, 1]])\n",
        "a += 3\n",
        "b = a + 3\n",
        "print (a[1,2] + b[1,2])\n",
        "\n",
        "a = np.zeros(6)\n",
        "b = np.arange(0,10,2)\n",
        "print(a,b)\n",
        "#c = a + b\n",
        "#print (c[4])\n",
        "\n",
        "a = np.array([[1,2,3],[0,1,4]])\n",
        "b = np.zeros((2,3), dtype=np.int16)\n",
        "c = np.ones((2,3), dtype=np.int16)\n",
        "d = a + b + c\n",
        "print(d[1,2])"
      ],
      "execution_count": null,
      "outputs": [
        {
          "output_type": "stream",
          "text": [
            "[ 3 12]\n",
            "11\n",
            "[0. 0. 0. 0. 0. 0.] [0 2 4 6 8]\n",
            "5\n"
          ],
          "name": "stdout"
        }
      ]
    },
    {
      "cell_type": "code",
      "metadata": {
        "id": "euvmWK9CjnnF",
        "colab": {
          "base_uri": "https://localhost:8080/",
          "height": 153
        },
        "outputId": "386a8359-325e-4072-c353-838d7c5803e8"
      },
      "source": [
        "print(np.random.seed(22))\n",
        "z = np.random.random((5,5))\n",
        "print(z)\n",
        "print(type(z))\n",
        "zmax = z.min()\n",
        "zmin = z.max()\n",
        "print(zmax,zmin)"
      ],
      "execution_count": null,
      "outputs": [
        {
          "output_type": "stream",
          "text": [
            "None\n",
            "[[0.20846054 0.48168106 0.42053804 0.859182   0.17116155]\n",
            " [0.33886396 0.27053283 0.69104135 0.22040452 0.81195092]\n",
            " [0.01052687 0.5612037  0.81372619 0.7451003  0.18911136]\n",
            " [0.00614087 0.77204387 0.95783217 0.70193788 0.29757827]\n",
            " [0.76799274 0.68821832 0.38718348 0.61520583 0.42755524]]\n",
            "<class 'numpy.ndarray'>\n",
            "0.006140866346098228 0.9578321680932752\n"
          ],
          "name": "stdout"
        }
      ]
    },
    {
      "cell_type": "markdown",
      "metadata": {
        "id": "qoSge5l8k63K"
      },
      "source": [
        "Similarities between NumPy arrays and lists\n",
        "NumPy arrays and Python lists are in fact very similar to one another in many aspects. \n",
        "Numpy arrays with more than a single dimension can be thought of as nested lists. \n",
        "\n",
        "Other common similarities are:\n",
        "\n",
        "1.   Both are used for storing data\n",
        "2.   Both are mutable\n",
        "1.   Both can be indexed and iterated through\n",
        "2.   Both can be sliced\n",
        "\n",
        "Advantages of using NumPy\n",
        "\n",
        "\n",
        "Numpy data structures perform better in:\n",
        "\n",
        "\n",
        "\n",
        "*   Size: Numpy data structures take up less space\n",
        "*   Performance: They have a need for speed and are faster than lists\n",
        "*   Functionality: NumPy have optimized functions such as linear algebra operations built in.\n",
        "\n",
        "\n",
        "\n",
        "\n",
        "\n",
        "\n",
        "\n"
      ]
    },
    {
      "cell_type": "markdown",
      "metadata": {
        "id": "tzghIgORvYEy"
      },
      "source": [
        "### Broadcasting"
      ]
    },
    {
      "cell_type": "code",
      "metadata": {
        "colab": {
          "base_uri": "https://localhost:8080/"
        },
        "id": "LtZuF0ccvd5G",
        "outputId": "24bb9507-5993-4fc9-87d5-9f87a91df7f1"
      },
      "source": [
        "import numpy as np\n",
        "\n",
        "# Either r=r  or  c=c  or  r*c=c*r\n",
        "print(np.arange(3) + 5)                                 #  1*3 + 1*1 \n",
        "print(np.ones((4,3)) + np.arange(3))                    #  4*3 + 1*3\n",
        "#print(np.ones((4,3)) + np.arange(4))                   #  4*3 + 1*4  # error\n",
        "print(np.ones((4,3)) + np.a range(4).reshape(4,1))       #  4*3 + 4*1\n",
        "print(np.ones((4,3)) + np.arange(4).reshape(4,1))       #  4*3 + 4*1\n",
        "print(np.arange(4).reshape(4,1) + np.ones((4)))         #  4*1 + 1*4"
      ],
      "execution_count": 9,
      "outputs": [
        {
          "output_type": "stream",
          "text": [
            "[5 6 7]\n",
            "[[1. 2. 3.]\n",
            " [1. 2. 3.]\n",
            " [1. 2. 3.]\n",
            " [1. 2. 3.]]\n",
            "[[1. 1. 1.]\n",
            " [2. 2. 2.]\n",
            " [3. 3. 3.]\n",
            " [4. 4. 4.]]\n",
            "[[1. 1. 1.]\n",
            " [2. 2. 2.]\n",
            " [3. 3. 3.]\n",
            " [4. 4. 4.]]\n",
            "[[1. 1. 1. 1.]\n",
            " [2. 2. 2. 2.]\n",
            " [3. 3. 3. 3.]\n",
            " [4. 4. 4. 4.]]\n"
          ],
          "name": "stdout"
        }
      ]
    },
    {
      "cell_type": "markdown",
      "metadata": {
        "id": "lqf0WW2WjntZ"
      },
      "source": [
        "### dir"
      ]
    },
    {
      "cell_type": "code",
      "metadata": {
        "id": "2AjFMczpdkhG"
      },
      "source": [
        "import numpy as np\n",
        "narray = np.array([1,2,3,4])\n",
        "dir(narray)"
      ],
      "execution_count": null,
      "outputs": []
    },
    {
      "cell_type": "markdown",
      "metadata": {
        "id": "esA7zSxhkI-h"
      },
      "source": [
        "### Indexing & Slicing"
      ]
    },
    {
      "cell_type": "code",
      "metadata": {
        "id": "WJozK9_wvqJI",
        "colab": {
          "base_uri": "https://localhost:8080/",
          "height": 221
        },
        "outputId": "09edb63c-a6e6-41d8-da83-37317c29b242"
      },
      "source": [
        "#### Indexing & Slicing\n",
        "\n",
        "import numpy as np\n",
        "\n",
        "a = np.array([[1,2,3],[4,5,6],[7,8,9]])\n",
        "\n",
        "\n",
        "print(a[2][1])   # 3rd elem 2nd row\n",
        "print(a[:2,:2])  # 1st 2 rows & 1st 2 cols\n",
        "print(a[2,:])    # all elements of the third row (0 1 2)\n",
        "\n",
        "# integer array indexing\n",
        "a=np.array([[1,2],[3,4],[5,6]])\n",
        "\n",
        "print(a[[0,1,2],[0,1,0]])\n",
        "print(np.array([a[0,0],a[1,1],a[2,0]]))\n",
        "\n",
        "print(a[[0,0],[1,1]])\n",
        "print(np.array([a[0,1],a[0,1]]))\n",
        "\n",
        "a = np.array([[4,7,1],[2,5,7],[7,1,1]])\n",
        "\n",
        "# Boolean indexing\n",
        "\n",
        "mask = a ? 3     # Boolean condition for values greater than 3\n",
        "print(mask)\n",
        "print(a[mask])   # Masking for the above boolean condition in the array  -- return only true elems"
      ],
      "execution_count": null,
      "outputs": [
        {
          "output_type": "stream",
          "text": [
            "8\n",
            "[[1 2]\n",
            " [4 5]]\n",
            "[7 8 9]\n",
            "[1 4 5]\n",
            "[1 4 5]\n",
            "[2 2]\n",
            "[2 2]\n",
            "[[False False False]\n",
            " [False False False]\n",
            " [False False False]]\n",
            "[]\n"
          ],
          "name": "stdout"
        }
      ]
    },
    {
      "cell_type": "markdown",
      "metadata": {
        "id": "WffudZxykcT-"
      },
      "source": [
        "## Implementations"
      ]
    },
    {
      "cell_type": "code",
      "metadata": {
        "id": "T6BHedhu2O0v",
        "colab": {
          "base_uri": "https://localhost:8080/"
        },
        "outputId": "537f76fa-0923-4878-c977-994b7454761b"
      },
      "source": [
        "#### Find roots of quadratic equation\n",
        "\n",
        "# import packages\n",
        "import numpy as np\n",
        "\n",
        "# Code starts here\n",
        "\n",
        "# co-efficients of x\n",
        "coeff  = np.array([1, -4, 4])\n",
        "\n",
        "# roots of equation\n",
        "roots = np.roots(coeff)\n",
        "\n",
        "# display roots\n",
        "print(roots)\n",
        "\n",
        "# Code ends here"
      ],
      "execution_count": 17,
      "outputs": [
        {
          "output_type": "stream",
          "text": [
            "[2. 2.]\n"
          ],
          "name": "stdout"
        }
      ]
    },
    {
      "cell_type": "markdown",
      "metadata": {
        "id": "x6O7lcwTkQHM"
      },
      "source": [
        "### Quadratic Equation"
      ]
    },
    {
      "cell_type": "markdown",
      "metadata": {
        "id": "PohxmA_H2ZgH"
      },
      "source": [
        "![alt text](https://storage.googleapis.com/ga-commit-live-prod-live-data/account/b92/11111111-1111-1111-1111-000000000000/b-235/99134bce-ccc8-49eb-9ff9-cb3c765dc1f9/file.jpg)"
      ]
    },
    {
      "cell_type": "markdown",
      "metadata": {
        "id": "Ko-hq2VrljfX"
      },
      "source": [
        "### Centrigrade to Fahrenheit"
      ]
    },
    {
      "cell_type": "code",
      "metadata": {
        "id": "o5HH0Dm_4C3X",
        "colab": {
          "base_uri": "https://localhost:8080/",
          "height": 34
        },
        "outputId": "099ab639-f5bc-4533-9bfe-74d9b66a32a0"
      },
      "source": [
        "#### Centrigrade to Fahrenheit\n",
        "\n",
        "# Code starts here\n",
        "import numpy as np\n",
        "# centigrade temperatures\n",
        "centigrade_temps = np.array([0, 10, 25, 32, 80, 99.99])\n",
        "\n",
        "# function for conversion\n",
        "def convert(celsius):\n",
        "   return (celsius * 1.8) + 32\n",
        "     \n",
        "# display fahrehheit temperatures\n",
        "print(convert(centigrade_temps))\n",
        "\n",
        "# Code ends here"
      ],
      "execution_count": null,
      "outputs": [
        {
          "output_type": "stream",
          "text": [
            "[ 32.     50.     77.     89.6   176.    211.982]\n"
          ],
          "name": "stdout"
        }
      ]
    }
  ]
}