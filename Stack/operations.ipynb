{
 "cells": [
  {
   "cell_type": "markdown",
   "metadata": {},
   "source": [
    "Stack Using LL"
   ]
  },
  {
   "cell_type": "code",
   "execution_count": 18,
   "metadata": {},
   "outputs": [
    {
     "name": "stdout",
     "output_type": "stream",
     "text": [
      "Current Stack from top to bottom:\n",
      "11\n",
      "12\n"
     ]
    }
   ],
   "source": [
    "class Node:\n",
    "    def __init__(self, value) -> None:\n",
    "        self.value = value\n",
    "        self.next = None\n",
    "\n",
    "class LinkedList:\n",
    "    def __init__(self) -> None:\n",
    "        self.head = None\n",
    "\n",
    "    def __iter__(self):\n",
    "        curr_node = self.head\n",
    "        while curr_node!=None:\n",
    "            yield curr_node\n",
    "            curr_node = curr_node.next\n",
    "\n",
    "    def prepend(self, value):\n",
    "        new_node = Node(value)\n",
    "        new_node.next = self.head\n",
    "        self.head = new_node\n",
    "\n",
    "class StackLL:\n",
    "    def __init__(self) -> None:\n",
    "        self.new_stack = LinkedList()\n",
    "\n",
    "    def __str__(self) -> str:\n",
    "        print(\"Current Stack from top to bottom:\")\n",
    "        values = [str(x.value) for x in self.new_stack]\n",
    "        return '\\n'.join(values)\n",
    "\n",
    "    def push(self, value):\n",
    "        self.new_stack.prepend(value)\n",
    "\n",
    "\n",
    "stack1 = StackLL()\n",
    "stack1.push(12)\n",
    "stack1.push(11)\n",
    "print(stack1)\n"
   ]
  },
  {
   "cell_type": "code",
   "execution_count": 45,
   "metadata": {},
   "outputs": [
    {
     "name": "stdout",
     "output_type": "stream",
     "text": [
      "No elements in stack\n",
      "No elements in stack\n",
      "Current Stack from top to bottom:\n",
      "11\n",
      "12\n",
      "Current Stack from top to bottom:\n",
      "10\n",
      "11\n",
      "12\n",
      "Current Stack from top to bottom:\n",
      "11\n",
      "12\n",
      "Current Stack from top to bottom:\n",
      "9\n",
      "11\n",
      "12\n"
     ]
    }
   ],
   "source": [
    "class StackL:\n",
    "    def __init__(self) -> None:\n",
    "        self.new_stack = []\n",
    "\n",
    "    def __str__(self) -> str:\n",
    "        print(\"Current Stack from top to bottom:\")\n",
    "        values = [str(x) for x in self.new_stack]\n",
    "        values = reversed(values)\n",
    "        return '\\n'.join(values)\n",
    "\n",
    "    def isEmpty(self):\n",
    "        if self.new_stack == []:\n",
    "            print(\"No elements in stack\")\n",
    "            return True\n",
    "        return False\n",
    "\n",
    "    def push(self, value):\n",
    "        self.new_stack.append(value)\n",
    "\n",
    "    def pop(self):\n",
    "        if not self.isEmpty():\n",
    "            self.new_stack.pop()\n",
    "\n",
    "    def peek(self):\n",
    "        if not self.isEmpty():\n",
    "            print(\"At peek:\")\n",
    "            print(self.new_stack[0])\n",
    "\n",
    "stack1 = StackL()\n",
    "stack1.pop()\n",
    "stack1.peek()\n",
    "stack1.push(12)\n",
    "stack1.push(11)\n",
    "print(stack1)\n",
    "stack1.push(10)\n",
    "print(stack1)\n",
    "stack1.pop()\n",
    "print(stack1)\n",
    "stack1.push(9)\n",
    "print(stack1)\n"
   ]
  },
  {
   "cell_type": "code",
   "execution_count": null,
   "metadata": {},
   "outputs": [],
   "source": []
  }
 ],
 "metadata": {
  "kernelspec": {
   "display_name": ".venv",
   "language": "python",
   "name": "python3"
  },
  "language_info": {
   "codemirror_mode": {
    "name": "ipython",
    "version": 3
   },
   "file_extension": ".py",
   "mimetype": "text/x-python",
   "name": "python",
   "nbconvert_exporter": "python",
   "pygments_lexer": "ipython3",
   "version": "3.9.6"
  }
 },
 "nbformat": 4,
 "nbformat_minor": 2
}
