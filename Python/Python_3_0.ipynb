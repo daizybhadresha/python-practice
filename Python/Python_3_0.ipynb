{
  "nbformat": 4,
  "nbformat_minor": 0,
  "metadata": {
    "colab": {
      "name": "Python 3.0.ipynb",
      "provenance": [],
      "collapsed_sections": [],
      "toc_visible": true,
      "include_colab_link": true
    },
    "kernelspec": {
      "name": "python3",
      "display_name": "Python 3"
    }
  },
  "cells": [
    {
      "cell_type": "markdown",
      "metadata": {
        "id": "view-in-github",
        "colab_type": "text"
      },
      "source": [
        "<a href=\"https://colab.research.google.com/github/daizybhadresha/python_practice/blob/main/Python_3_0.ipynb\" target=\"_parent\"><img src=\"https://colab.research.google.com/assets/colab-badge.svg\" alt=\"Open In Colab\"/></a>"
      ]
    },
    {
      "cell_type": "code",
      "metadata": {
        "colab": {
          "base_uri": "https://localhost:8080/"
        },
        "id": "FhqTvKPGpgJU",
        "outputId": "97984eaf-b0d1-457d-d46a-255509c552e5"
      },
      "source": [
        "a = 2\n",
        "print(id(a))\n",
        "a = 3\n",
        "print(id(a))"
      ],
      "execution_count": null,
      "outputs": [
        {
          "output_type": "stream",
          "text": [
            "94400910817824\n",
            "94400910817856\n"
          ],
          "name": "stdout"
        }
      ]
    },
    {
      "cell_type": "markdown",
      "metadata": {
        "id": "XpgG5USWztOV"
      },
      "source": [
        "# Class, Inheritance"
      ]
    },
    {
      "cell_type": "code",
      "metadata": {
        "colab": {
          "base_uri": "https://localhost:8080/",
          "height": 322
        },
        "id": "L17zgPr-zz4v",
        "outputId": "a4b781c5-5f59-44fb-b7bb-293cec002bf9"
      },
      "source": [
        "class infra:                      \n",
        "  no_of_rooms = 3                         # Class variables. Can be accessed with class name\n",
        "  place = \"Mumbai Suburban\"               # Class & instance var can have same name \n",
        "\n",
        "  print(no_of_rooms)                      # class var can be accessed directly (from outside any method)\n",
        "\n",
        "  def __init__(self, place, area):        # constructor\n",
        "    print(place)\n",
        "    self.place = place                    # instance variables\n",
        "    self.area = area\n",
        "    print(\"this is constructor\")\n",
        "  \n",
        "  def specs(anything):                    # Every methods inside class must have 1 argument\n",
        "    print(\"No.of rooms: \", anything.no_of_rooms) \n",
        "    ins_var = 30                          # instance variables.\n",
        "    print(\"No.of rooms: \", no_of_rooms)   # throws error -> name 'no_of_rooms' is not defined\n",
        "\n",
        "flat = infra(\"Mumbai\", \"Andheri\")                    # At this point content inside constructor is executed\n",
        "print(\"Class variable (accessed with class name /obj name): \", infra.no_of_rooms, flat.no_of_rooms)\n",
        "# Class & instance var can have same name, differs on how we access it\n",
        "print(\"Instance variable & Class var with same name: \", flat.place, infra.place)\n",
        "print(\"Instance vars inside init & inside : \", flat.area)\n",
        "print(\"Instance vars inside methods: \", flat.ins_var)\n",
        "flat.specs()"
      ],
      "execution_count": null,
      "outputs": [
        {
          "output_type": "stream",
          "name": "stdout",
          "text": [
            "3\n",
            "Mumbai\n",
            "this is constructor\n",
            "Class variable (accessed with class name /obj name):  3 3\n",
            "Instance variable & Class var with same name:  Mumbai Mumbai Suburban\n",
            "Instance vars inside init & inside :  Andheri\n"
          ]
        },
        {
          "output_type": "error",
          "ename": "AttributeError",
          "evalue": "ignored",
          "traceback": [
            "\u001b[0;31m---------------------------------------------------------------------------\u001b[0m",
            "\u001b[0;31mAttributeError\u001b[0m                            Traceback (most recent call last)",
            "\u001b[0;32m<ipython-input-40-164fdd92a55b>\u001b[0m in \u001b[0;36m<module>\u001b[0;34m()\u001b[0m\n\u001b[1;32m     21\u001b[0m \u001b[0mprint\u001b[0m\u001b[0;34m(\u001b[0m\u001b[0;34m\"Instance variable & Class var with same name: \"\u001b[0m\u001b[0;34m,\u001b[0m \u001b[0mflat\u001b[0m\u001b[0;34m.\u001b[0m\u001b[0mplace\u001b[0m\u001b[0;34m,\u001b[0m \u001b[0minfra\u001b[0m\u001b[0;34m.\u001b[0m\u001b[0mplace\u001b[0m\u001b[0;34m)\u001b[0m\u001b[0;34m\u001b[0m\u001b[0;34m\u001b[0m\u001b[0m\n\u001b[1;32m     22\u001b[0m \u001b[0mprint\u001b[0m\u001b[0;34m(\u001b[0m\u001b[0;34m\"Instance vars inside init & inside : \"\u001b[0m\u001b[0;34m,\u001b[0m \u001b[0mflat\u001b[0m\u001b[0;34m.\u001b[0m\u001b[0marea\u001b[0m\u001b[0;34m)\u001b[0m\u001b[0;34m\u001b[0m\u001b[0;34m\u001b[0m\u001b[0m\n\u001b[0;32m---> 23\u001b[0;31m \u001b[0mprint\u001b[0m\u001b[0;34m(\u001b[0m\u001b[0;34m\"Instance vars inside methods: \"\u001b[0m\u001b[0;34m,\u001b[0m \u001b[0mflat\u001b[0m\u001b[0;34m.\u001b[0m\u001b[0mins_var\u001b[0m\u001b[0;34m)\u001b[0m\u001b[0;34m\u001b[0m\u001b[0;34m\u001b[0m\u001b[0m\n\u001b[0m\u001b[1;32m     24\u001b[0m \u001b[0mflat\u001b[0m\u001b[0;34m.\u001b[0m\u001b[0mspecs\u001b[0m\u001b[0;34m(\u001b[0m\u001b[0;34m)\u001b[0m\u001b[0;34m\u001b[0m\u001b[0;34m\u001b[0m\u001b[0m\n",
            "\u001b[0;31mAttributeError\u001b[0m: 'infra' object has no attribute 'ins_var'"
          ]
        }
      ]
    },
    {
      "cell_type": "code",
      "metadata": {
        "colab": {
          "base_uri": "https://localhost:8080/"
        },
        "id": "UjtfPcycL7YS",
        "outputId": "1d805dc7-1091-46e3-8b57-6a3c42a4f766"
      },
      "source": [
        "class Base(object):\n",
        "  \n",
        "    # Constructor\n",
        "    def __init__(self, x):\n",
        "        self.x = x    \n",
        "  \n",
        "class Derived(Base):\n",
        "  \n",
        "    # Constructor\n",
        "    def __init__(self, x, y):\n",
        "        Base.x = x \n",
        "        self.y = y\n",
        "  \n",
        "    def printXY(self):\n",
        "       \n",
        "       # print(self.x, self.y) will also work\n",
        "       print(Base.x, self.y)\n",
        "  \n",
        "  \n",
        "# Driver Code\n",
        "d = Derived(10, 20)\n",
        "d.printXY()"
      ],
      "execution_count": null,
      "outputs": [
        {
          "output_type": "stream",
          "text": [
            "10 20\n"
          ],
          "name": "stdout"
        }
      ]
    },
    {
      "cell_type": "markdown",
      "metadata": {
        "id": "iQE1BUg5gtr6"
      },
      "source": [
        "### OOP Concepts"
      ]
    },
    {
      "cell_type": "markdown",
      "metadata": {
        "id": "TreOPBWAsqBt"
      },
      "source": [
        "Encapsulation"
      ]
    },
    {
      "cell_type": "code",
      "metadata": {
        "colab": {
          "base_uri": "https://localhost:8080/",
          "height": 287
        },
        "id": "Wa07v2decR7x",
        "outputId": "c5ae19ac-6a5c-4d8a-ed90-3be76f595431"
      },
      "source": [
        "class Person:\n",
        "  __age = 10      # private variable\n",
        "  name = \"xyz\"\n",
        "\n",
        "  # A member method that changes private variable\n",
        "  def access_hidden(self, add):\n",
        "    self.__age = self.__age + add\n",
        "    print(self.__age)\n",
        "\n",
        "P1 = Person()\n",
        "P1.access_hidden(3)\n",
        "print(P1.name)\n",
        "\n",
        "# We can access the value of hidden attribute by a tricky syntax\n",
        "print(P1._Person__age)\n",
        "\n",
        "# These lines causes error -> \n",
        "#'Person' object has no attribute 'age'\n",
        "print(P1.age)\n",
        "# 'Person' object has no attribute '__age'\n",
        "print(P1.__age)"
      ],
      "execution_count": null,
      "outputs": [
        {
          "output_type": "stream",
          "text": [
            "13\n",
            "xyz\n",
            "13\n"
          ],
          "name": "stdout"
        },
        {
          "output_type": "error",
          "ename": "AttributeError",
          "evalue": "ignored",
          "traceback": [
            "\u001b[0;31m---------------------------------------------------------------------------\u001b[0m",
            "\u001b[0;31mAttributeError\u001b[0m                            Traceback (most recent call last)",
            "\u001b[0;32m<ipython-input-6-3150e4bcc948>\u001b[0m in \u001b[0;36m<module>\u001b[0;34m()\u001b[0m\n\u001b[1;32m     17\u001b[0m \u001b[0;31m# These lines causes error ->\u001b[0m\u001b[0;34m\u001b[0m\u001b[0;34m\u001b[0m\u001b[0;34m\u001b[0m\u001b[0m\n\u001b[1;32m     18\u001b[0m \u001b[0;31m#'Person' object has no attribute 'age'\u001b[0m\u001b[0;34m\u001b[0m\u001b[0;34m\u001b[0m\u001b[0;34m\u001b[0m\u001b[0m\n\u001b[0;32m---> 19\u001b[0;31m \u001b[0mprint\u001b[0m\u001b[0;34m(\u001b[0m\u001b[0mP1\u001b[0m\u001b[0;34m.\u001b[0m\u001b[0mage\u001b[0m\u001b[0;34m)\u001b[0m\u001b[0;34m\u001b[0m\u001b[0;34m\u001b[0m\u001b[0m\n\u001b[0m\u001b[1;32m     20\u001b[0m \u001b[0;31m# 'Person' object has no attribute '__age'\u001b[0m\u001b[0;34m\u001b[0m\u001b[0;34m\u001b[0m\u001b[0;34m\u001b[0m\u001b[0m\n\u001b[1;32m     21\u001b[0m \u001b[0mprint\u001b[0m\u001b[0;34m(\u001b[0m\u001b[0mP1\u001b[0m\u001b[0;34m.\u001b[0m\u001b[0m__age\u001b[0m\u001b[0;34m)\u001b[0m\u001b[0;34m\u001b[0m\u001b[0;34m\u001b[0m\u001b[0m\n",
            "\u001b[0;31mAttributeError\u001b[0m: 'Person' object has no attribute 'age'"
          ]
        }
      ]
    },
    {
      "cell_type": "markdown",
      "metadata": {
        "id": "zwlb6nyspbiB"
      },
      "source": [
        "Abstraction"
      ]
    },
    {
      "cell_type": "code",
      "metadata": {
        "colab": {
          "base_uri": "https://localhost:8080/"
        },
        "id": "OlLNrgR5pbMq",
        "outputId": "f2e4ac69-6ebe-477d-9ece-a4aa21161458"
      },
      "source": [
        "from abc import ABC, abstractmethod\n",
        "\n",
        "class A(ABC):             # even if I dont extend 'ABC', it worked\n",
        "  @abstractmethod\n",
        "  def abs_method(self):\n",
        "    print(\"abstract method\")\n",
        "  def test_method(self):\n",
        "    pass\n",
        "\n",
        "class B(A):\n",
        "  def test(self):\n",
        "    pass\n",
        "  def abs_method(self):                         \n",
        "    print(\"instantiated abstract method\")\n",
        "\n",
        "b = B()   # Error : 'Can't instantiate abstract class B with abstract methods abs_method'  <- if i dont implement abstract method in 'B'\n",
        "b.test()\n",
        "b.abs_method()"
      ],
      "execution_count": null,
      "outputs": [
        {
          "output_type": "stream",
          "name": "stdout",
          "text": [
            "instantiated abstract method\n"
          ]
        }
      ]
    },
    {
      "cell_type": "markdown",
      "metadata": {
        "id": "aTk5ssC9-wBg"
      },
      "source": [
        "Inheritance"
      ]
    },
    {
      "cell_type": "code",
      "metadata": {
        "colab": {
          "base_uri": "https://localhost:8080/",
          "height": 287
        },
        "id": "FPXZZ95BM_iz",
        "outputId": "e82251e7-61d5-4ba8-8ada-11ff0a914a07"
      },
      "source": [
        "class Base1:\n",
        "  def __init__(self):\n",
        "    self.str1 = \"String 1 initialized directly\"\n",
        "    self.__privatevar = \"Shh!\"            # made private so it cannot be accessed by any derived classes\n",
        "    print(\"Base1\")\n",
        "\n",
        "class Base2:\n",
        "  def __init__(self, str2):\n",
        "    self.str2 = str2\n",
        "    print(\"Base2\")\n",
        "\n",
        "class Derived(Base1, Base2):\n",
        "  def __init__(self, str2):\n",
        "    Base1.__init__(self)\n",
        "    Base2.__init__(self, str2)\n",
        "    print(\"Derived\")\n",
        "    print(self.str1)\n",
        "    print(self.str2)\n",
        "  \n",
        "# Driver Code\n",
        "d = Derived(\"String 2 initialized by passing value\")\n",
        "print(d.privatevar)             # this should give error error \n"
      ],
      "execution_count": null,
      "outputs": [
        {
          "output_type": "stream",
          "name": "stdout",
          "text": [
            "Base1\n",
            "Base2\n",
            "Derived\n",
            "String 1 initialized directly\n",
            "String 2 initialized by passing value\n"
          ]
        },
        {
          "output_type": "error",
          "ename": "AttributeError",
          "evalue": "ignored",
          "traceback": [
            "\u001b[0;31m---------------------------------------------------------------------------\u001b[0m",
            "\u001b[0;31mAttributeError\u001b[0m                            Traceback (most recent call last)",
            "\u001b[0;32m<ipython-input-46-a2079168a484>\u001b[0m in \u001b[0;36m<module>\u001b[0;34m()\u001b[0m\n\u001b[1;32m     20\u001b[0m \u001b[0;31m# Driver Code\u001b[0m\u001b[0;34m\u001b[0m\u001b[0;34m\u001b[0m\u001b[0;34m\u001b[0m\u001b[0m\n\u001b[1;32m     21\u001b[0m \u001b[0md\u001b[0m \u001b[0;34m=\u001b[0m \u001b[0mDerived\u001b[0m\u001b[0;34m(\u001b[0m\u001b[0;34m\"String 2 initialized by passing value\"\u001b[0m\u001b[0;34m)\u001b[0m\u001b[0;34m\u001b[0m\u001b[0;34m\u001b[0m\u001b[0m\n\u001b[0;32m---> 22\u001b[0;31m \u001b[0mprint\u001b[0m\u001b[0;34m(\u001b[0m\u001b[0md\u001b[0m\u001b[0;34m.\u001b[0m\u001b[0mprivatevar\u001b[0m\u001b[0;34m)\u001b[0m\u001b[0;34m\u001b[0m\u001b[0;34m\u001b[0m\u001b[0m\n\u001b[0m",
            "\u001b[0;31mAttributeError\u001b[0m: 'Derived' object has no attribute 'privatevar'"
          ]
        }
      ]
    },
    {
      "cell_type": "markdown",
      "metadata": {
        "id": "YtuO3wCpgkv2"
      },
      "source": [
        "### Instance var & Class var - value change"
      ]
    },
    {
      "cell_type": "code",
      "metadata": {
        "colab": {
          "base_uri": "https://localhost:8080/"
        },
        "id": "q_tU4QsNgkLV",
        "outputId": "b7158d5f-ec25-4057-cdaa-711a878762d4"
      },
      "source": [
        "class Student:\n",
        "  dept = \"cs\"\n",
        "  \n",
        "  def __init__(self, name):\n",
        "    self.name = name\n",
        "    #print(Student.dept)        <- Class Var use\n",
        "\n",
        "s1 = Student(\"DB\")\n",
        "print(Student.dept, s1.dept, s1.name)\n",
        "\n",
        "s2 = Student(\"JB\")\n",
        "print(Student.dept, s2.dept, s2.name)\n",
        "\n",
        "s3 = Student(\"TM\")\n",
        "s3.dept = \"fin\"                            # this will change only for s3\n",
        "print(Student.dept, s3.dept, s3.name, s2.dept, s2.name, s1.dept, s1.name)\n",
        "\n",
        "Student.dept = \"mech\"                      # this will change for only s1, s2 since s3 mentioned explicit value to be changed to fin\n",
        "print(Student.dept, s3.dept, s3.name, s2.dept, s2.name, s1.dept, s1.name)"
      ],
      "execution_count": null,
      "outputs": [
        {
          "output_type": "stream",
          "name": "stdout",
          "text": [
            "cs cs DB\n",
            "cs cs JB\n",
            "cs fin TM cs JB cs DB\n",
            "mech fin TM mech JB mech DB\n"
          ]
        }
      ]
    },
    {
      "cell_type": "markdown",
      "metadata": {
        "id": "B7fk9jIzj0rj"
      },
      "source": [
        "### Class method & Static method"
      ]
    },
    {
      "cell_type": "code",
      "metadata": {
        "colab": {
          "base_uri": "https://localhost:8080/"
        },
        "id": "adEP3-E-Reml",
        "outputId": "9f4826bc-e1e0-4643-fdf3-1efa289735b9"
      },
      "source": [
        "from datetime import date\n",
        "   \n",
        "class Student:\n",
        "    dept = 'cs'\n",
        "\n",
        "    def __init__(self, name):\n",
        "      self.name = name\n",
        "      self.dept = 'mech'        # instance method can modify class var also with 'self'\n",
        "\n",
        "    @classmethod\n",
        "    def print_dept(cls):\n",
        "      if cls.dept == 'cs':\n",
        "        print(\"Computer Engineering\")\n",
        "\n",
        "    @staticmethod\n",
        "    def is_adult(age):          # cannot access instance var\n",
        "      print(Student.dept)       # Can use it this way\n",
        "      if age > 18:\n",
        "        print(\"Adult\")\n",
        "      else:\n",
        "        print(\"Not Adult\")\n",
        "      \n",
        "s1 = Student('mayank')\n",
        "print(s1.name, s1.dept)\n",
        "s1.print_dept()\n",
        "s1.is_adult(12)"
      ],
      "execution_count": null,
      "outputs": [
        {
          "output_type": "stream",
          "name": "stdout",
          "text": [
            "mayank mech\n",
            "Computer Engineering\n",
            "cs\n",
            "Not Adult\n"
          ]
        }
      ]
    },
    {
      "cell_type": "markdown",
      "metadata": {
        "id": "3mEDhhFMsRbH"
      },
      "source": [
        "### Destructor"
      ]
    },
    {
      "cell_type": "code",
      "metadata": {
        "colab": {
          "base_uri": "https://localhost:8080/"
        },
        "id": "feJ_ytovsShK",
        "outputId": "c3a391ef-f55d-4839-d91c-f195a8c1c218"
      },
      "source": [
        "class Employee:\n",
        "  \n",
        "    def __init__(self):\n",
        "        print('Employee created.')\n",
        "  \n",
        "    # Deleting (Calling destructor)\n",
        "    def __del__(self):\n",
        "        print('Destructor called, Employee deleted.')\n",
        "  \n",
        "obj1 = Employee()\n",
        "obj2 = Employee()\n",
        "del obj1               # deleted reference to object -> del function called automatically"
      ],
      "execution_count": null,
      "outputs": [
        {
          "output_type": "stream",
          "name": "stdout",
          "text": [
            "Employee created.\n",
            "Employee created.\n",
            "Destructor called, Employee deleted.\n"
          ]
        }
      ]
    },
    {
      "cell_type": "markdown",
      "metadata": {
        "id": "FaAgZDAei9V7"
      },
      "source": [
        "# Operators\n"
      ]
    },
    {
      "cell_type": "code",
      "metadata": {
        "colab": {
          "base_uri": "https://localhost:8080/"
        },
        "id": "dRH4vR7jtWLC",
        "outputId": "bad1328c-caae-47b0-87bf-6987bd8a64f0"
      },
      "source": [
        "# Operators : Multiply (*), Division (/), Floor Division (//), Modulo (%), Expotentiation (**)\n",
        "# Division always return float\n",
        "\n",
        "print(\"Intgr Division : \",10/5)\n",
        "print(\"Float Division : \",10.0/5.0)\n",
        "print(\"Floor Division : \",10//5)\n",
        "print(\"Modulo(Rem)    : \",10%5)\n",
        "\n",
        "print(\"Intgr Division : \",5/3)\n",
        "print(\"Floor Division : \",5//3)\n",
        "print(\"Modulo(Rem)    : \",5%3),\n",
        "\n",
        "# Float + Integer = Float -> 4 * 2 = 8   but  10/5=2.0 -> * 4 = 8.0\n",
        "print(10/5*4)  \n",
        "print(6 + 6)\n",
        "print(int(10/5))"
      ],
      "execution_count": null,
      "outputs": [
        {
          "output_type": "stream",
          "text": [
            "Intgr Division :  2.0\n",
            "Float Division :  2.0\n",
            "Floor Division :  2\n",
            "Modulo(Rem)    :  0\n",
            "Intgr Division :  1.6666666666666667\n",
            "Floor Division :  1\n",
            "Modulo(Rem)    :  2\n",
            "8.0\n",
            "12\n",
            "2\n"
          ],
          "name": "stdout"
        }
      ]
    },
    {
      "cell_type": "code",
      "metadata": {
        "colab": {
          "base_uri": "https://localhost:8080/"
        },
        "id": "ZPe1nh4oAHKZ",
        "outputId": "57188c84-60e9-4a6b-8ce2-c924fb64d554"
      },
      "source": [
        "# Membership Operators\n",
        "x = [\"apple\", \"banana\", \"orange\"]\n",
        "\n",
        "print(\"banana\" in x)\n",
        "\n",
        "print(\"banana\" and \"orange\" in x)\n",
        "\n",
        "print(\"banana\" and \"chickoo\" in x)\n",
        "\n",
        "print([\"banana\", \"orange\"] in x)   # this will search for a list(not elements of list) in the list x\n",
        "\n",
        "if (\"banana\", \"orange\" in x):\n",
        "  print(\"True\")"
      ],
      "execution_count": null,
      "outputs": [
        {
          "output_type": "stream",
          "text": [
            "True\n",
            "True\n",
            "False\n",
            "False\n",
            "True\n"
          ],
          "name": "stdout"
        }
      ]
    },
    {
      "cell_type": "code",
      "metadata": {
        "colab": {
          "base_uri": "https://localhost:8080/"
        },
        "id": "HA6OtIv6zT0G",
        "outputId": "a36202ad-8a91-4f72-db7c-3b78aa7b22e5"
      },
      "source": [
        "# Identity Operators\n",
        "\n",
        "x = [\"apple\", \"banana\"]\n",
        "y = [\"apple\", \"banana\"]\n",
        "z = x\n",
        "\n",
        "print(x is z)\n",
        "\n",
        "# returns True because z is the same object as x\n",
        "print(x is y)\n",
        "\n",
        "# returns False because x is not the same object as y, even if they have the same content\n",
        "print(x == y)"
      ],
      "execution_count": null,
      "outputs": [
        {
          "output_type": "stream",
          "text": [
            "True\n",
            "False\n",
            "True\n"
          ],
          "name": "stdout"
        }
      ]
    },
    {
      "cell_type": "code",
      "metadata": {
        "colab": {
          "base_uri": "https://localhost:8080/"
        },
        "id": "qxjKkDleCRCx",
        "outputId": "ab2ae5d1-38ac-4896-860b-0a25df814f32"
      },
      "source": [
        "# Bitwise Operators\n",
        "\n",
        "print(8 & 10)   # 1000 & 1010  1&1=1\n",
        "print(8 | 10)   # OR  1+1=1 1+0=1\n",
        "print(~ 8)      # NOT is 2's complement -> x = -x - 1 ->  -(x+1) -> -(8+1) = -1\n",
        "print(~ 10)\n",
        "print(8 ^ 10)   # XOR if bits are different then 1, same then 0  1^1/0^0=0 1^0/0^1=1\n",
        "print(8 >> 2)   # Shift right by pushing copies of the leftmost bit in from the left, and let the rightmost bits fall off\n",
        "print(8 << 2)   # Shifts left but keeps all the digits - Shift left by pushing zeros in from the right and let the leftmost bits fall off\n",
        "print(10 >> 2) \n",
        "print(10 << 2) "
      ],
      "execution_count": null,
      "outputs": [
        {
          "output_type": "stream",
          "text": [
            "8\n",
            "10\n",
            "-9\n",
            "-11\n",
            "2\n",
            "2\n",
            "32\n",
            "2\n",
            "40\n"
          ],
          "name": "stdout"
        }
      ]
    },
    {
      "cell_type": "markdown",
      "metadata": {
        "id": "5PqCeMTCiv0c"
      },
      "source": [
        "# Loops & Conditions\n"
      ]
    },
    {
      "cell_type": "code",
      "metadata": {
        "id": "5zxVCk9xNQfP",
        "colab": {
          "base_uri": "https://localhost:8080/"
        },
        "outputId": "47c001e5-17e1-487f-c03a-ec8f35fb1ef9"
      },
      "source": [
        "# Condition - if else..elif\n",
        "\n",
        "i = 20\n",
        "\n",
        "if (i == 10): \n",
        "    print (\"i is 10\") \n",
        "elif (i == 15): \n",
        "    print (\"i is 15\") \n",
        "elif (i == 20): \n",
        "    print (\"i is 20\") \n",
        "else: \n",
        "    print (\"i is not present\")\n",
        "\n",
        "# simple replacement to switch case\n",
        "\n",
        "switcher = { 0: \"zero\", 1: \"one\", 2: \"two\"} \n",
        "# get() method of dictionary data type returns value of passed argument if it is present  \n",
        "# in dictionary otherwise second argument (\"nothing\") will be returned\n",
        "argument = 2\n",
        "print(switcher.get(2, \"nothing\"))  \n",
        "print(switcher.get(3, \"nothing\"))\n",
        "\n",
        "# Loops\n",
        "\n",
        "# while\n",
        "count=0\n",
        "while(count < 3):\n",
        "  print(count)\n",
        "  count=count+1\n",
        "\n",
        "# single line while : if conent in while is jst a stmt\n",
        "count=0\n",
        "while (count < 3): count=count+1  # if while consists of single stmt\n"
      ],
      "execution_count": null,
      "outputs": [
        {
          "output_type": "stream",
          "text": [
            "i is 20\n",
            "two\n",
            "nothing\n",
            "0\n",
            "1\n",
            "2\n"
          ],
          "name": "stdout"
        }
      ]
    },
    {
      "cell_type": "code",
      "metadata": {
        "id": "-wNmexdtUTwx",
        "colab": {
          "base_uri": "https://localhost:8080/",
          "height": 425
        },
        "cellView": "code",
        "outputId": "d10d6b3c-1d0a-4b8c-cbfe-1edf00d2095d"
      },
      "source": [
        "# Iterating - List, Tuple, String, Dictionary\n",
        "\n",
        "# Iterating over a list  -  iterates over element\n",
        "print(\"List Iteration\") \n",
        "l = [\"first\", \"second\", \"third\"] \n",
        "for i in l: \n",
        "    print(i) \n",
        "       \n",
        "# Iterating over a tuple (immutable)  -  iterates over element\n",
        "print(\"\\nTuple Iteration\") \n",
        "t = (\"first\", \"second\", \"third\") \n",
        "for i in t: \n",
        "    print(i) \n",
        "       \n",
        "# Iterating over a String  - iterates over char\n",
        "print(\"\\nString Iteration\")     \n",
        "s = \"com sent\"\n",
        "for i in s : \n",
        "    print(i) \n",
        "       \n",
        "# Iterating over dictionary - iterates over keys\n",
        "print(\"\\nDictionary Iteration\")    \n",
        "d = dict()  \n",
        "d['xyz'] = 123\n",
        "d['abc'] = 345\n",
        "for i in d : \n",
        "    print(\"%s  %d\" %(i, d[i]))     # i - key,  d[i] - element"
      ],
      "execution_count": null,
      "outputs": [
        {
          "output_type": "stream",
          "text": [
            "List Iteration\n",
            "first\n",
            "second\n",
            "third\n",
            "\n",
            "Tuple Iteration\n",
            "first\n",
            "second\n",
            "third\n",
            "\n",
            "String Iteration\n",
            "c\n",
            "o\n",
            "m\n",
            " \n",
            "s\n",
            "e\n",
            "n\n",
            "t\n",
            "\n",
            "Dictionary Iteration\n",
            "xyz  123\n",
            "abc  345\n"
          ],
          "name": "stdout"
        }
      ]
    },
    {
      "cell_type": "code",
      "metadata": {
        "id": "5H3D0ng702n8",
        "colab": {
          "base_uri": "https://localhost:8080/",
          "height": 496
        },
        "cellView": "code",
        "outputId": "ad4b2a02-a42b-4d89-946c-48b9741f678b"
      },
      "source": [
        "# Loop Control Stmts : continue (go to nxt iteration), break (come out of loop), pass (empty function)\n",
        "\n",
        "# continue - Do nothing for this iteration\n",
        "print(\"\\nContinue\")  # continue returns control to the line 1 of the loop\n",
        "for letter in 'geeksforgeeks':  \n",
        "    if letter == 'e' or letter == 's': \n",
        "         continue\n",
        "    print('Current Letter :', letter)\n",
        "\n",
        "# break - stop anything from now\n",
        "print(\"\\nbreak\")     # break completely comes out of the loop\n",
        "for letter in 'geeksforgeeks':  \n",
        "    if letter == 'e' or letter == 's': \n",
        "         break\n",
        "    print('Current Letter :', letter)\n",
        "\n",
        "# pass - pass just does nothing - for empty loops - returns control to the next line / nxt iteration\n",
        "# useful for writing a function with no body - when you don’t write the implementation of a function but you want to implement it in the future\n",
        "# this is to avoid getting any error for empty fucntion with no content\n",
        "print(\"\\npass\")      \n",
        "for letter in 'geeksforgeeks':  \n",
        "    if letter == 'e' or letter == 's': \n",
        "         pass\n",
        "    print('Current Letter :', letter)"
      ],
      "execution_count": null,
      "outputs": [
        {
          "output_type": "stream",
          "text": [
            "\n",
            "Continue\n",
            "Current Letter : g\n",
            "Current Letter : k\n",
            "Current Letter : f\n",
            "Current Letter : o\n",
            "Current Letter : r\n",
            "Current Letter : g\n",
            "Current Letter : k\n",
            "\n",
            "break\n",
            "Current Letter : g\n",
            "\n",
            "pass\n",
            "Current Letter : g\n",
            "Current Letter : e\n",
            "Current Letter : e\n",
            "Current Letter : k\n",
            "Current Letter : s\n",
            "Current Letter : f\n",
            "Current Letter : o\n",
            "Current Letter : r\n",
            "Current Letter : g\n",
            "Current Letter : e\n",
            "Current Letter : e\n",
            "Current Letter : k\n",
            "Current Letter : s\n"
          ],
          "name": "stdout"
        }
      ]
    },
    {
      "cell_type": "code",
      "metadata": {
        "colab": {
          "base_uri": "https://localhost:8080/"
        },
        "id": "pcawOhWwtqcZ",
        "outputId": "c947ff49-2de8-49e6-ecea-cdcbb51fdaa3"
      },
      "source": [
        "# Print the numbers 0, 1, 2:\n",
        "for i in range(3):\n",
        "  print(i)"
      ],
      "execution_count": null,
      "outputs": [
        {
          "output_type": "stream",
          "text": [
            "0\n",
            "1\n",
            "2\n"
          ],
          "name": "stdout"
        }
      ]
    },
    {
      "cell_type": "markdown",
      "metadata": {
        "id": "Nrtv_0jNjAxA"
      },
      "source": [
        "# Variable & Assignment\n"
      ]
    },
    {
      "cell_type": "code",
      "metadata": {
        "id": "O9iiTdrobBUv",
        "colab": {
          "base_uri": "https://localhost:8080/"
        },
        "cellView": "code",
        "outputId": "56dbea85-8f07-42e2-9f5d-32dfedb6b448"
      },
      "source": [
        "#@title global, local, nonlocal variables\n",
        "x = \"awesome\"       # Global Outside Function\n",
        "\n",
        "def myfunc():\n",
        "  x = \"fantastic\"   # Local Var.\n",
        "  print(\"Python is \" + x)\n",
        "\n",
        "myfunc()\n",
        "print(\"Python is \" + x)\n",
        "\n",
        "## To create global variable - but inside the function\n",
        "\n",
        "def myfunc():\n",
        "  global x\n",
        "  x = \"fantastic\"\n",
        "\n",
        "myfunc()\n",
        "print(\"Python is \" + x)\n",
        "\n",
        "# nonlocal is used in nested functions. the scope is not global. it is not local to inner function. it bcomes local to outer function\n",
        "def outer():\n",
        "    x = \"local\"\n",
        "    def inner():\n",
        "        nonlocal x\n",
        "        x = \"nonlocal\"\n",
        "        print(\"inner:\", x)\n",
        "    inner()\n",
        "    print(\"outer:\", x)\n",
        "outer()\n",
        "print(x)"
      ],
      "execution_count": null,
      "outputs": [
        {
          "output_type": "stream",
          "text": [
            "Python is fantastic\n",
            "Python is awesome\n",
            "Python is fantastic\n",
            "inner: nonlocal\n",
            "outer: nonlocal\n",
            "fantastic\n"
          ],
          "name": "stdout"
        }
      ]
    },
    {
      "cell_type": "markdown",
      "metadata": {
        "id": "6NaTLLmqbf4C"
      },
      "source": [
        "### Use of underscore in variable"
      ]
    },
    {
      "cell_type": "code",
      "metadata": {
        "colab": {
          "base_uri": "https://localhost:8080/"
        },
        "id": "O6-FuB2GYq9-",
        "outputId": "b2791288-9f45-437d-b8e1-c44f3dfcc730"
      },
      "source": [
        "## Use of underscore\n",
        "\n",
        "# 1. Ignoring Values\n",
        "\n",
        "a, _, b = (1,2,3)\n",
        "print(a,b)\n",
        "\n",
        "a, *_, b = (1,2,3,4,5,6,7)\n",
        "print(a,b)\n",
        "\n",
        "#2. Looping\n",
        "\n",
        "print(\"\\n\") \n",
        "for _ in range(3):\n",
        "  print(_) \n",
        "\n",
        "langs = [\"Spanish\", \"English\", \"Germany\"]\n",
        "for _ in langs:\n",
        "  print(_)\n",
        "\n",
        "_ = 1\n",
        "while _ <= 5:\n",
        "  print(_, end = ' ') # default value of 'end' id '\\n' in python. we're changing it to space\n",
        "  _ = _ + 1\n",
        "\n",
        "# 3. Seperating Digits - Just for better readbility, in the end value will be same\n",
        "lakh = 1_00_000\n",
        "binary = 0b_0010\n",
        "octa = 0o_64; hexa = 0x_23_ab\n",
        "\n",
        "print(\"\\n\")\n",
        "print(lakh)\n",
        "print(binary)\n",
        "print(octa)\n",
        "print(hexa)\n"
      ],
      "execution_count": null,
      "outputs": [
        {
          "output_type": "stream",
          "text": [
            "1 3\n",
            "1 7\n",
            "\n",
            "\n",
            "0\n",
            "1\n",
            "2\n",
            "Spanish\n",
            "English\n",
            "Germany\n",
            "1 2 3 4 5 \n",
            "\n",
            "100000\n",
            "2\n",
            "52\n",
            "9131\n"
          ],
          "name": "stdout"
        }
      ]
    },
    {
      "cell_type": "code",
      "metadata": {
        "id": "j2rE2FCpbaBp"
      },
      "source": [
        "# 4. Naming uning underscore\n",
        "\n",
        "\n",
        "#Single Pre Underscore:- _variable/ _func - Just a notation for Internal use -Can be imported in a diff way\n",
        "class Sample:\n",
        "  without_lead_underscore = 0\n",
        "  _with_lead_underscore = 1\n",
        "\n",
        "  def without_lead_underscore():\n",
        "    print(\"Function without lead underscore\")\n",
        "\n",
        "  def _with_lead_underscore():\n",
        "    print(\"Function with lead underscore\")"
      ],
      "execution_count": null,
      "outputs": []
    },
    {
      "cell_type": "markdown",
      "metadata": {
        "id": "qcisDI8HtZs8"
      },
      "source": [
        "\n",
        "\n",
        "```\n",
        "# if the above code is saved as my_functions.py\n",
        ">>> from my_functions import *\n",
        ">>> without_lead_underscore()\n",
        "'Function without lead underscore'\n",
        ">>> _with_lead_underscore()\n",
        "Traceback (most recent call last):\n",
        "  File \"<stdin>\", line 1, in <module>\n",
        "NameError: name '_with_lead_underscore' is not defined\n",
        "```\n",
        "\n"
      ]
    },
    {
      "cell_type": "markdown",
      "metadata": {
        "id": "vZpffh8Wt9bg"
      },
      "source": [
        "\n",
        "\n",
        "```\n",
        "# You avoid the above error by importing the module normally.\n",
        "\n",
        ">>> import my_functions\n",
        ">>> my_functions.without_lead_underscore()\n",
        "'Function without lead underscore'\n",
        ">>> my_functions._with_lead_underscore()\n",
        "Function with lead underscore\n",
        "```\n",
        "\n"
      ]
    },
    {
      "cell_type": "code",
      "metadata": {
        "colab": {
          "base_uri": "https://localhost:8080/",
          "height": 131
        },
        "id": "dzO74y3ps2rv",
        "outputId": "b0d9476f-6da3-448d-cba0-66d0eccc2a19"
      },
      "source": [
        "# Single Post Underscore:- variable_  : To use python keyword with a twist\n",
        "\n",
        "# 'class' is a keyword\n",
        "\n",
        "# Adding _ makes it work\n",
        "def function(class_='ClassName'):\n",
        "  pass\n",
        "\n",
        "# This wont\n",
        "def function(class='ClassName'):\n",
        "  pass"
      ],
      "execution_count": null,
      "outputs": [
        {
          "output_type": "error",
          "ename": "SyntaxError",
          "evalue": "ignored",
          "traceback": [
            "\u001b[0;36m  File \u001b[0;32m\"<ipython-input-7-175b2ef86715>\"\u001b[0;36m, line \u001b[0;32m8\u001b[0m\n\u001b[0;31m    def function(class='ClassName'):\u001b[0m\n\u001b[0m                     ^\u001b[0m\n\u001b[0;31mSyntaxError\u001b[0m\u001b[0;31m:\u001b[0m invalid syntax\n"
          ]
        }
      ]
    },
    {
      "cell_type": "code",
      "metadata": {
        "id": "HyIGyvU5vOqY",
        "colab": {
          "base_uri": "https://localhost:8080/"
        },
        "outputId": "d479c86e-7aa1-4e6e-9b84-1b022035c3c8"
      },
      "source": [
        "# Double Pre Underscores:- __var : Name Mangling, prefix of _className is always added by interpreter\n",
        "\n",
        "class Samplea:\n",
        "  test_var = 0              # class variable\n",
        "  \n",
        "  def __init__(self):    \n",
        "    self.a = 1          # instance variable\n",
        "    self.__b = 2\n",
        "  \n",
        "  def __double_lead(self):\n",
        "    c = 3\n",
        "    print(\"__double_lead function\")\n",
        "\n",
        "  def test_func(self):\n",
        "    pass\n",
        "\n",
        "obj1 = Samplea()\n",
        "dir(obj1)           # This shows vars a as ->  'a',       __b as '_Samplea__b'   (_className__var)\n",
        "\n",
        "\n",
        "print(obj1._Samplea__b)\n",
        "obj1._Samplea__double_lead()"
      ],
      "execution_count": null,
      "outputs": [
        {
          "output_type": "execute_result",
          "data": {
            "text/plain": [
              "['_Samplea__b',\n",
              " '_Samplea__double_lead',\n",
              " '__class__',\n",
              " '__delattr__',\n",
              " '__dict__',\n",
              " '__dir__',\n",
              " '__doc__',\n",
              " '__eq__',\n",
              " '__format__',\n",
              " '__ge__',\n",
              " '__getattribute__',\n",
              " '__gt__',\n",
              " '__hash__',\n",
              " '__init__',\n",
              " '__init_subclass__',\n",
              " '__le__',\n",
              " '__lt__',\n",
              " '__module__',\n",
              " '__ne__',\n",
              " '__new__',\n",
              " '__reduce__',\n",
              " '__reduce_ex__',\n",
              " '__repr__',\n",
              " '__setattr__',\n",
              " '__sizeof__',\n",
              " '__str__',\n",
              " '__subclasshook__',\n",
              " '__weakref__',\n",
              " 'a',\n",
              " 'test_func',\n",
              " 'test_var']"
            ]
          },
          "metadata": {},
          "execution_count": 23
        }
      ]
    },
    {
      "cell_type": "code",
      "metadata": {
        "colab": {
          "base_uri": "https://localhost:8080/"
        },
        "id": "pxjgzZv21bJA",
        "outputId": "6f4c1124-4f1f-4719-a832-4c39c83bc79c"
      },
      "source": [
        "class Sampleb(Samplea):\n",
        "  def test(self):\n",
        "    super().__double_lead()\n",
        "\n",
        "  def __double_lead(self):\n",
        "    print(\"__double_lead function\")\n",
        "\n",
        "\n",
        "obj2 = Sampleb()\n",
        "dir(obj2)"
      ],
      "execution_count": null,
      "outputs": [
        {
          "output_type": "execute_result",
          "data": {
            "text/plain": [
              "['_Samplea__b',\n",
              " '_Samplea__double_lead',\n",
              " '_Sampleb__double_lead',\n",
              " '__class__',\n",
              " '__delattr__',\n",
              " '__dict__',\n",
              " '__dir__',\n",
              " '__doc__',\n",
              " '__eq__',\n",
              " '__format__',\n",
              " '__ge__',\n",
              " '__getattribute__',\n",
              " '__gt__',\n",
              " '__hash__',\n",
              " '__init__',\n",
              " '__init_subclass__',\n",
              " '__le__',\n",
              " '__lt__',\n",
              " '__module__',\n",
              " '__ne__',\n",
              " '__new__',\n",
              " '__reduce__',\n",
              " '__reduce_ex__',\n",
              " '__repr__',\n",
              " '__setattr__',\n",
              " '__sizeof__',\n",
              " '__str__',\n",
              " '__subclasshook__',\n",
              " '__weakref__',\n",
              " 'a',\n",
              " 'test']"
            ]
          },
          "metadata": {},
          "execution_count": 16
        }
      ]
    },
    {
      "cell_type": "markdown",
      "metadata": {
        "id": "87h7cI2DxFed"
      },
      "source": [
        "# Literals : String, Numeric, Bool, Special"
      ]
    },
    {
      "cell_type": "code",
      "metadata": {
        "id": "1V-_04pnaVN3",
        "colab": {
          "base_uri": "https://localhost:8080/"
        },
        "cellView": "code",
        "outputId": "3b955deb-a857-45b8-8a95-89f6b160cb3b"
      },
      "source": [
        "#@title assign value to multiple variables\n",
        "x, y, z = \"Orange\", 2, 2.0\n",
        "print(x, type(x))\n",
        "print(y, type(y))\n",
        "print(z, type(z))\n",
        "\n",
        "# OR\n",
        "x = y = z = \"Orange\"\n",
        "print(\"x: \" + x)\n",
        "\n",
        "# SOMETHING INTERESTING !!\n",
        "x, y = [\"apple\", \"banana\"]    # I wanted x & y to have same list, but it does not work this way\n",
        "print(x, type(x))\n",
        "print(y, type(y))\n",
        "\n",
        "x, y = [\"apple\", \"banana\"], [\"apple\", \"banana\"]\n",
        "print(x, type(x))\n",
        "print(y, type(y))\n",
        "\n",
        "x, y = \"apple\", \"banana\"\n",
        "print(x, type(x))\n",
        "print(y, type(y))"
      ],
      "execution_count": null,
      "outputs": [
        {
          "output_type": "stream",
          "text": [
            "Orange <class 'str'>\n",
            "2 <class 'int'>\n",
            "2.0 <class 'float'>\n",
            "x: Orange\n",
            "apple <class 'str'>\n",
            "banana <class 'str'>\n",
            "['apple', 'banana'] <class 'list'>\n",
            "['apple', 'banana'] <class 'list'>\n",
            "apple <class 'str'>\n",
            "banana <class 'str'>\n"
          ],
          "name": "stdout"
        }
      ]
    },
    {
      "cell_type": "markdown",
      "metadata": {
        "id": "PY8oC2JYxNHH"
      },
      "source": [
        "String literal can use both single, double, or triple quotes  ->    ' string',  \"string\", '''string''', \"\"\"string \"\"\" \n",
        "\n",
        " "
      ]
    },
    {
      "cell_type": "code",
      "metadata": {
        "colab": {
          "base_uri": "https://localhost:8080/"
        },
        "id": "fQFJVRl9xKcN",
        "outputId": "a81d60c3-9894-4ec8-c35e-9c63bc83affa"
      },
      "source": [
        "strings = \"This is Python\"\n",
        "char = \"C\"\n",
        "multiline_str = \"\"\"This is a multiline string with more than one line code.\n",
        "Second line\"\"\"\n",
        "unicode = u\"\\u00dcnic\\u00f6de\"\n",
        "raw_str = r\"raw \\n string\"\n",
        "\n",
        "print(strings)\n",
        "print(char)\n",
        "print(multiline_str)\n",
        "print(unicode)\n",
        "print(raw_str)"
      ],
      "execution_count": null,
      "outputs": [
        {
          "output_type": "stream",
          "text": [
            "This is Python\n",
            "C\n",
            "This is a multiline string with more than one line code.\n",
            "Second line\n",
            "Ünicöde\n",
            "raw \\n string\n"
          ],
          "name": "stdout"
        }
      ]
    },
    {
      "cell_type": "markdown",
      "metadata": {
        "id": "gd6OR3ewyJCd"
      },
      "source": [
        "Numeric Literals : Int, float, complex\n",
        "\n"
      ]
    },
    {
      "cell_type": "code",
      "metadata": {
        "colab": {
          "base_uri": "https://localhost:8080/"
        },
        "id": "a9gcWQAlyBDG",
        "outputId": "e25463cf-a9e9-44e3-8c7d-f331579a4fc6"
      },
      "source": [
        "# 4 below all literals are converted into decimal values while print\n",
        "a = 0b1010 #Binary Literals\n",
        "b = 100 #Decimal Literal \n",
        "c = 0o310 #Octal Literal\n",
        "d = 0x12c #Hexadecimal Literal\n",
        "\n",
        "#Float Literal : expotentials are converted into float\n",
        "float_1 = 10.5 \n",
        "float_2 = 1.5e2\n",
        "\n",
        "#Complex Literal \n",
        "x = 3.14j\n",
        "\n",
        "print(a, b, c, d)\n",
        "print(float_1, float_2)\n",
        "print(x, x.imag, x.real)  # x, imaginary, real part of complex numbers"
      ],
      "execution_count": null,
      "outputs": [
        {
          "output_type": "stream",
          "text": [
            "10 100 200 300\n",
            "10.5 150.0\n",
            "3.14j 3.14 0.0\n"
          ],
          "name": "stdout"
        }
      ]
    },
    {
      "cell_type": "markdown",
      "metadata": {
        "id": "S4ZiE_nSzmhu"
      },
      "source": [
        "Boolean Literals"
      ]
    },
    {
      "cell_type": "code",
      "metadata": {
        "colab": {
          "base_uri": "https://localhost:8080/"
        },
        "id": "XhvMPWz3zaMx",
        "outputId": "6f566db4-6cde-4755-809c-b0ab925523fc"
      },
      "source": [
        "# In Python, True represents the value as 1 and False as 0\n",
        "# True False can also be used in numeric expression\n",
        "\n",
        "x = (1 == True)   # x will be true because 1 == 1\n",
        "y = (1 == False)  \n",
        "a = True + 4      # 1 + 4\n",
        "b = False + 10\n",
        "\n",
        "print(\"x is\", x)\n",
        "print(\"y is\", y)\n",
        "print(\"a:\", a)\n",
        "print(\"b:\", b)"
      ],
      "execution_count": null,
      "outputs": [
        {
          "output_type": "stream",
          "text": [
            "x is True\n",
            "y is False\n",
            "a: 5\n",
            "b: 10\n"
          ],
          "name": "stdout"
        }
      ]
    },
    {
      "cell_type": "markdown",
      "metadata": {
        "id": "4D3t9bk20geV"
      },
      "source": [
        "Special Literals\n",
        "\n",
        "Python contains one special literal i.e. None. We use it to specify that the field has not been created."
      ]
    },
    {
      "cell_type": "code",
      "metadata": {
        "colab": {
          "base_uri": "https://localhost:8080/"
        },
        "id": "y6mEEE610fdJ",
        "outputId": "1b88732e-b94b-4f33-8020-a7b23c8e2b9f"
      },
      "source": [
        "drink = \"Available\"\n",
        "food = None\n",
        "print(drink)\n",
        "print(food)"
      ],
      "execution_count": null,
      "outputs": [
        {
          "output_type": "stream",
          "text": [
            "Available\n",
            "None\n"
          ],
          "name": "stdout"
        }
      ]
    },
    {
      "cell_type": "markdown",
      "metadata": {
        "id": "lzR5UKsOjkDh"
      },
      "source": [
        "# Iterators\n"
      ]
    },
    {
      "cell_type": "markdown",
      "metadata": {
        "id": "i_Z_Ci8lxvKV"
      },
      "source": [
        "**Python Iterators**\n",
        "\n",
        "Lists, tuples, dictionaries, and sets are all iterable objects. They are iterable containers which you can get an iterator from.\n",
        "\n",
        "All these objects have a iter() method which is used to get an iterator\n",
        "\n",
        "Even strings are iterable objects, and can return an iterator"
      ]
    },
    {
      "cell_type": "code",
      "metadata": {
        "id": "4K_PBC7bxuLD",
        "colab": {
          "base_uri": "https://localhost:8080/"
        },
        "outputId": "f1a5f254-94e0-44cf-e148-de934d54dca5"
      },
      "source": [
        "mytuple = (\"apple\", \"banana\", \"cherry\")\n",
        "myit = iter(mytuple)\n",
        "\n",
        "print(next(myit))\n",
        "print(next(myit))\n",
        "print(next(myit))\n",
        "\n",
        "mystr = \"banana\"\n",
        "myit = iter(mystr)\n",
        "\n",
        "# print(next(myit))\n",
        "# print(next(myit))\n",
        "# print(next(myit))\n",
        "# print(next(myit))\n",
        "# print(next(myit))\n",
        "# print(next(myit))\n",
        "\n",
        "# OR\n",
        "\n",
        "try:\n",
        "  while(1==1):\n",
        "    print(next(myit))\n",
        "except StopIteration:\n",
        "  print(\"String ended\")\n",
        "\n",
        "mydict = {\"1\":\"one\", \"2\":\"two\", \"3\":\"three\"}\n",
        "myit = iter(mydict)\n",
        "try:\n",
        "  while(1==1):\n",
        "    key = next(myit)\n",
        "    print(key, mydict[key] )\n",
        "except StopIteration:\n",
        "  print(\"Dict ended\")\n"
      ],
      "execution_count": null,
      "outputs": [
        {
          "output_type": "stream",
          "text": [
            "apple\n",
            "banana\n",
            "cherry\n",
            "b\n",
            "a\n",
            "n\n",
            "a\n",
            "n\n",
            "a\n",
            "String ended\n",
            "1 one\n",
            "2 two\n",
            "3 three\n",
            "Dict ended\n"
          ],
          "name": "stdout"
        }
      ]
    },
    {
      "cell_type": "markdown",
      "metadata": {
        "id": "IXSri637KEIe"
      },
      "source": [
        "Generators : Functions that return a generator iterator. It produces series of values usable in a for-loop or which can be retried 1 at a time using next() function"
      ]
    },
    {
      "cell_type": "code",
      "metadata": {
        "colab": {
          "base_uri": "https://localhost:8080/"
        },
        "id": "3WVKWtCUJbQw",
        "outputId": "4f37890b-9835-47c1-dc86-a9d3521201f5"
      },
      "source": [
        "sum = 0\n",
        "for i in range(10):\n",
        "  sum = sum + i*i\n",
        "\n",
        "print(sum)\n",
        "\n",
        "# OR \n",
        "\n",
        "print(sum(j*j for j in range(10)))"
      ],
      "execution_count": null,
      "outputs": [
        {
          "output_type": "stream",
          "text": [
            "285\n"
          ],
          "name": "stdout"
        }
      ]
    },
    {
      "cell_type": "markdown",
      "metadata": {
        "id": "pAcrUaK0va2w"
      },
      "source": [
        "\n",
        "To visualize the methods and attributes of any Python object, you can use dir(), which is a built-in function that serves that purpose. \n",
        "If you run dir() with an empty dictionary as an argument, then you’ll be able to see all the methods and attributes that dictionaries implement:\n",
        "\n",
        "\n",
        "\n",
        "\n",
        "\n"
      ]
    },
    {
      "cell_type": "code",
      "metadata": {
        "colab": {
          "base_uri": "https://localhost:8080/"
        },
        "id": "cmVejD27vO8T",
        "outputId": "c8267655-8d87-4171-d24c-b31d8d1d93f9"
      },
      "source": [
        "dir({})"
      ],
      "execution_count": null,
      "outputs": [
        {
          "output_type": "execute_result",
          "data": {
            "text/plain": [
              "['__class__',\n",
              " '__contains__',\n",
              " '__delattr__',\n",
              " '__delitem__',\n",
              " '__dir__',\n",
              " '__doc__',\n",
              " '__eq__',\n",
              " '__format__',\n",
              " '__ge__',\n",
              " '__getattribute__',\n",
              " '__getitem__',\n",
              " '__gt__',\n",
              " '__hash__',\n",
              " '__init__',\n",
              " '__init_subclass__',\n",
              " '__iter__',\n",
              " '__le__',\n",
              " '__len__',\n",
              " '__lt__',\n",
              " '__ne__',\n",
              " '__new__',\n",
              " '__reduce__',\n",
              " '__reduce_ex__',\n",
              " '__repr__',\n",
              " '__setattr__',\n",
              " '__setitem__',\n",
              " '__sizeof__',\n",
              " '__str__',\n",
              " '__subclasshook__',\n",
              " 'clear',\n",
              " 'copy',\n",
              " 'fromkeys',\n",
              " 'get',\n",
              " 'items',\n",
              " 'keys',\n",
              " 'pop',\n",
              " 'popitem',\n",
              " 'setdefault',\n",
              " 'update',\n",
              " 'values']"
            ]
          },
          "metadata": {
            "tags": []
          },
          "execution_count": 9
        }
      ]
    },
    {
      "cell_type": "markdown",
      "metadata": {
        "id": "BehFd3Dajuq7"
      },
      "source": [
        "# Functions"
      ]
    },
    {
      "cell_type": "markdown",
      "metadata": {
        "id": "qoQS8NVcsYQ0"
      },
      "source": [
        "**Return Statements**"
      ]
    },
    {
      "cell_type": "code",
      "metadata": {
        "colab": {
          "base_uri": "https://localhost:8080/"
        },
        "id": "Dhd0IfxpvYji",
        "outputId": "10810158-5b89-45c6-cbf2-fa56c54bac20"
      },
      "source": [
        "def test():\n",
        "  print(\"function called\")\n",
        "  return \"return statement\"\n",
        "\n",
        "print(test)\n",
        "print(test())\n",
        "\n",
        "def square_point(x, y, z):\n",
        "  x_squared = x * x\n",
        "  y_squared = y * y\n",
        "  z_squared = z * z\n",
        "  # Return all three values:\n",
        "  return x_squared, y_squared, z_squared\n",
        "\n",
        "print(square_point(3, 4, 5))\n",
        "\n",
        "# OR\n",
        "three_squared, four_squared, five_squared = square_point(3, 4, 5)"
      ],
      "execution_count": null,
      "outputs": [
        {
          "output_type": "stream",
          "text": [
            "<function test at 0x7fb62775e830>\n",
            "function called\n",
            "return statement\n",
            "(9, 16, 25)\n"
          ],
          "name": "stdout"
        }
      ]
    },
    {
      "cell_type": "markdown",
      "metadata": {
        "id": "wEhkUNETG0gx"
      },
      "source": [
        "**Call by Val vs Call by ref**"
      ]
    },
    {
      "cell_type": "code",
      "metadata": {
        "colab": {
          "base_uri": "https://localhost:8080/"
        },
        "id": "hOPHt63qGxIU",
        "outputId": "2b75adfc-237d-4188-8837-23689fdb682d"
      },
      "source": [
        "# Call by val \n",
        "def inc(num):\n",
        "  num = num + 1             # Since we are doing re-assignment, address will change, hence here 'num' is a new var\n",
        "\n",
        "num = 1\n",
        "inc(num)                    # So original remains same\n",
        "print(num)\n",
        "\n",
        "# Instance 2\n",
        "def add_more(mylist):\n",
        "  mylist.append(3)          # No reassignment, just change with mutable object\n",
        "\n",
        "mylist = [1,2]\n",
        "add_more(mylist)            # Change is reflected, hence same list\n",
        "print(mylist)    \n",
        "\n",
        "# Instance 3\n",
        "def clear_list(mylist):\n",
        "  mylist = []               # Complete reassignment, address change hence new variable -> older remains same\n",
        "mylist = [1,2]\n",
        "clear_list(mylist)\n",
        "print(mylist) \n",
        "\n",
        "### If we do something which completely changes the value of variable or we perform reassignment \n",
        "### ->  address changes\n",
        "\n",
        "# Instance 4\n",
        "def neg_num(num):         \n",
        "  return float(num)\n",
        "\n",
        "num = 1\n",
        "print(id(num))\n",
        "num = neg_num(num)\n",
        "print(id(num))\n",
        "print(num)"
      ],
      "execution_count": null,
      "outputs": [
        {
          "output_type": "stream",
          "name": "stdout",
          "text": [
            "1\n",
            "[1, 2, 3]\n",
            "[1, 2]\n",
            "94372300102144\n",
            "140266058010064\n",
            "1.0\n"
          ]
        }
      ]
    },
    {
      "cell_type": "markdown",
      "metadata": {
        "id": "-AS3MWC6smaC"
      },
      "source": [
        "**Arguments**"
      ]
    },
    {
      "cell_type": "code",
      "metadata": {
        "colab": {
          "base_uri": "https://localhost:8080/"
        },
        "id": "CHy0lsyRNLVa",
        "outputId": "f038a9a0-8449-4796-e529-5d15a1a1f984"
      },
      "source": [
        "# default value argument (Ex: msg)\n",
        "\n",
        "# def test1(name, msg=\"Hey\", time):            # This gave error-> SyntaxError: non-default argument follows default argument\n",
        "def test1(name, time, msg=\"Hey\"):              # Default value arg. should be at last while declaring as well as while calling\n",
        "  print(\"Hello\", name + \",\" + msg, time)\n",
        "\n",
        "# 3 positional arguments\n",
        "test1(\"Daizy\", \"Good morning!\", \"10:00 AM\") \n",
        "test1(\"Daizy\", \"10:00 AM\", \"Good morning!\")\n",
        "\n",
        "# 3 keyword arguments   \n",
        "test1(name=\"Daizy\", time=\"10:00 AM\", msg=\"Good morning!\")\n",
        "\n",
        "# 3 keyword arguments (out of order)\n",
        "test1(msg=\"Good morning!\", time=\"10:00 AM\", name=\"Daizy\")\n",
        "\n",
        "# 1 positional, 2 keyword   \n",
        "test1(\"Daizy\", \"10:00 AM\", msg=\"Good morning!\")\n",
        "test1(\"Daizy\", time=\"10:00 AM\", msg=\"Good morning!\")        \n",
        "\n",
        "# test1(name=\"Daizy\", msg=\"Good morning!\", \"10:00 AM\")   # SyntaxError: positional argument follows keyword argument # While calling also the value argument should be at last\n",
        "# test1(\"10:00 AM\", name=\"Daizy\", msg=\"Good morning!\")   # TypeError: test1() got multiple values for argument 'name'\n",
        "\n",
        "# send arguments with the key = value syntax.  The order of the arguments does not matter.\n",
        "def my_function(child3, child2, child1):\n",
        "  print(\"The youngest child is \" + child3)\n",
        "my_function(child1 = \"Emil\", child2 = \"Tobias\", child3 = \"Linus\")"
      ],
      "execution_count": null,
      "outputs": [
        {
          "output_type": "stream",
          "text": [
            "Hello Daizy,10:00 AM Good morning!\n",
            "Hello Daizy,Good morning! 10:00 AM\n",
            "Hello Daizy,Good morning! 10:00 AM\n",
            "Hello Daizy,Good morning! 10:00 AM\n",
            "Hello Daizy,Good morning! 10:00 AM\n",
            "Hello Daizy,Good morning! 10:00 AM\n",
            "The youngest child is Linus\n"
          ],
          "name": "stdout"
        }
      ]
    },
    {
      "cell_type": "markdown",
      "metadata": {
        "id": "yO0m__iMspiJ"
      },
      "source": [
        "Variable length arguments : *args & **kwargs"
      ]
    },
    {
      "cell_type": "code",
      "metadata": {
        "colab": {
          "base_uri": "https://localhost:8080/"
        },
        "id": "6nhnA376PpVU",
        "outputId": "b3569877-ff51-440b-bedd-e6d1616139dc"
      },
      "source": [
        "# If the number of arguments is unknown, add a * before the parameter name\n",
        "def adder(*num):\n",
        "    sum = 0\n",
        "    print(\"\\nData type of argument:\",type(num))\n",
        "    for n in num:\n",
        "        sum = sum + n\n",
        "    print(\"Sum:\",sum)\n",
        "\n",
        "adder(3,5)\n",
        "adder(1,2,3,5,6)\n",
        "\n",
        "def my_function(*kids):\n",
        "  print(\"The youngest child is \" + kids[2])\n",
        "my_function(\"Emil\", \"Tobias\", \"Linus\")\n",
        "\n",
        "# keyword arguments that will be passed into your function, add two asterix: **     The function will receive a dictionary of arguments\n",
        "def intro(**data):\n",
        "    print(\"\\nData type of argument:\",type(data))\n",
        "    for key, value in data.items():\n",
        "        print(\"{} is {}\".format(key,value))\n",
        "\n",
        "intro(Firstname=\"Sita\", Lastname=\"Sharma\", Age=22, Phone=1234567890)\n",
        "intro(Firstname=\"John\", Lastname=\"Wood\", Email=\"johnwood@nomail.com\", Country=\"Wakanda\", Age=25, Phone=9876543210)"
      ],
      "execution_count": null,
      "outputs": [
        {
          "output_type": "stream",
          "text": [
            "\n",
            "Data type of argument: <class 'tuple'>\n",
            "Sum: 8\n",
            "\n",
            "Data type of argument: <class 'tuple'>\n",
            "Sum: 17\n",
            "The youngest child is Linus\n",
            "\n",
            "Data type of argument: <class 'dict'>\n",
            "Firstname is Sita\n",
            "Lastname is Sharma\n",
            "Age is 22\n",
            "Phone is 1234567890\n",
            "\n",
            "Data type of argument: <class 'dict'>\n",
            "Firstname is John\n",
            "Lastname is Wood\n",
            "Email is johnwood@nomail.com\n",
            "Country is Wakanda\n",
            "Age is 25\n",
            "Phone is 9876543210\n"
          ],
          "name": "stdout"
        }
      ]
    },
    {
      "cell_type": "markdown",
      "metadata": {
        "id": "zCb3Z7_PtB7W"
      },
      "source": [
        "**Function inside function**"
      ]
    },
    {
      "cell_type": "code",
      "metadata": {
        "id": "aihJZWLL0fd3",
        "colab": {
          "base_uri": "https://localhost:8080/"
        },
        "outputId": "9fc4e38e-3eab-4c40-d653-fd6f6a663ef1"
      },
      "source": [
        "def myfunc():\n",
        "  x = 300\n",
        "  def myinnerfunc():\n",
        "    sam = 200\n",
        "    print(x)\n",
        "  #print(sam)    # Not accessible since 'sam' is beyond scope\n",
        "  myinnerfunc()\n",
        "\n",
        "myfunc()"
      ],
      "execution_count": null,
      "outputs": [
        {
          "output_type": "stream",
          "text": [
            "300\n"
          ],
          "name": "stdout"
        }
      ]
    },
    {
      "cell_type": "markdown",
      "metadata": {
        "id": "LwLHl1Tl400-"
      },
      "source": [
        "**Lambda function**\n",
        "\n",
        "Syntax :\n",
        "lambda arguments: expression"
      ]
    },
    {
      "cell_type": "code",
      "metadata": {
        "colab": {
          "base_uri": "https://localhost:8080/"
        },
        "id": "3HtLzqfI4zqE",
        "outputId": "5e043cb7-33e0-4f5b-92e3-0e3d14946b6c"
      },
      "source": [
        "double = lambda x: x * 2\n",
        "print(double(5))\n",
        "\n",
        "# Program to filter out only the even items from a list\n",
        "my_list = [1, 5, 4, 6, 8, 11, 3, 12]\n",
        "new_list = list( filter(lambda x: (x%2 == 0) , my_list) )\n",
        "print(new_list)\n",
        "\n",
        "# Program to double each item in a list using map()\n",
        "my_list = [1, 5, 4, 6, 8, 11, 3, 12]\n",
        "new_list = list(map(lambda x: x * 2 , my_list))e\n",
        "print(new_list)\n",
        "\n",
        "my_list = [1, 5, 4, 6, 8, 11, 3, 12]\n",
        "new_list = lambda x: x * 2\n",
        "print(new_list(my_list))"
      ],
      "execution_count": null,
      "outputs": [
        {
          "output_type": "stream",
          "text": [
            "10\n",
            "[4, 6, 8, 12]\n",
            "[2, 10, 8, 12, 16, 22, 6, 24]\n",
            "[1, 5, 4, 6, 8, 11, 3, 12, 1, 5, 4, 6, 8, 11, 3, 12]\n"
          ],
          "name": "stdout"
        }
      ]
    },
    {
      "cell_type": "code",
      "metadata": {
        "id": "MvKEOdaAy7LE",
        "colab": {
          "base_uri": "https://localhost:8080/",
          "height": 221
        },
        "outputId": "902bbb2a-4353-4524-fe11-0947f4454cb3"
      },
      "source": [
        ""
      ],
      "execution_count": null,
      "outputs": [
        {
          "output_type": "stream",
          "text": [
            "function2\n"
          ],
          "name": "stdout"
        },
        {
          "output_type": "error",
          "ename": "NameError",
          "evalue": "ignored",
          "traceback": [
            "\u001b[0;31m---------------------------------------------------------------------------\u001b[0m",
            "\u001b[0;31mNameError\u001b[0m                                 Traceback (most recent call last)",
            "\u001b[0;32m<ipython-input-8-6f6bf26f1d89>\u001b[0m in \u001b[0;36m<module>\u001b[0;34m()\u001b[0m\n\u001b[1;32m      7\u001b[0m \u001b[0mt\u001b[0m \u001b[0;34m=\u001b[0m \u001b[0mtest\u001b[0m\u001b[0;34m(\u001b[0m\u001b[0;34m)\u001b[0m\u001b[0;34m\u001b[0m\u001b[0;34m\u001b[0m\u001b[0m\n\u001b[1;32m      8\u001b[0m \u001b[0mt\u001b[0m\u001b[0;34m.\u001b[0m\u001b[0mfunction2\u001b[0m\u001b[0;34m(\u001b[0m\u001b[0;34m)\u001b[0m\u001b[0;34m\u001b[0m\u001b[0;34m\u001b[0m\u001b[0m\n\u001b[0;32m----> 9\u001b[0;31m \u001b[0mfunction1\u001b[0m\u001b[0;34m(\u001b[0m\u001b[0mt\u001b[0m\u001b[0;34m)\u001b[0m\u001b[0;34m\u001b[0m\u001b[0;34m\u001b[0m\u001b[0m\n\u001b[0m",
            "\u001b[0;31mNameError\u001b[0m: name 'function1' is not defined"
          ]
        }
      ]
    },
    {
      "cell_type": "markdown",
      "metadata": {
        "id": "gnhTrZ3p9PfW"
      },
      "source": [
        "**Raise an exception**"
      ]
    },
    {
      "cell_type": "code",
      "metadata": {
        "id": "mvMjzZBp9NC-",
        "colab": {
          "base_uri": "https://localhost:8080/",
          "height": 203
        },
        "outputId": "a97448bb-5c5d-4101-a253-da2204a47af5"
      },
      "source": [
        "x = -1\n",
        "\n",
        "if x < 0:\n",
        "  raise Exception(\"Sorry, no numbers below zero\")"
      ],
      "execution_count": null,
      "outputs": [
        {
          "output_type": "error",
          "ename": "Exception",
          "evalue": "ignored",
          "traceback": [
            "\u001b[0;31m---------------------------------------------------------------------------\u001b[0m",
            "\u001b[0;31mException\u001b[0m                                 Traceback (most recent call last)",
            "\u001b[0;32m<ipython-input-28-2edc57024fbc>\u001b[0m in \u001b[0;36m<module>\u001b[0;34m()\u001b[0m\n\u001b[1;32m      2\u001b[0m \u001b[0;34m\u001b[0m\u001b[0m\n\u001b[1;32m      3\u001b[0m \u001b[0;32mif\u001b[0m \u001b[0mx\u001b[0m \u001b[0;34m<\u001b[0m \u001b[0;36m0\u001b[0m\u001b[0;34m:\u001b[0m\u001b[0;34m\u001b[0m\u001b[0;34m\u001b[0m\u001b[0m\n\u001b[0;32m----> 4\u001b[0;31m   \u001b[0;32mraise\u001b[0m \u001b[0mException\u001b[0m\u001b[0;34m(\u001b[0m\u001b[0;34m\"Sorry, no numbers below zero\"\u001b[0m\u001b[0;34m)\u001b[0m\u001b[0;34m\u001b[0m\u001b[0;34m\u001b[0m\u001b[0m\n\u001b[0m",
            "\u001b[0;31mException\u001b[0m: Sorry, no numbers below zero"
          ]
        }
      ]
    },
    {
      "cell_type": "markdown",
      "metadata": {
        "id": "iKC_57Wn9cTc"
      },
      "source": [
        "**User Input**"
      ]
    },
    {
      "cell_type": "code",
      "metadata": {
        "id": "v5qQbwjA9YpE",
        "colab": {
          "base_uri": "https://localhost:8080/",
          "height": 52
        },
        "outputId": "4372e66b-59fb-4399-b984-9c81552df731"
      },
      "source": [
        "# User Input\n",
        "\n",
        "# Python 3.6\n",
        "username = input(\"Enter username:\")\n",
        "print(\"Username is: \" + username)\n",
        "\n",
        "# Python 2.7\n",
        "# username = raw_input(\"Enter username:\")\n",
        "# print(\"Username is: \" + username)"
      ],
      "execution_count": null,
      "outputs": [
        {
          "output_type": "stream",
          "text": [
            "Enter username:sampple\n",
            "Username is: sampple\n"
          ],
          "name": "stdout"
        }
      ]
    },
    {
      "cell_type": "markdown",
      "metadata": {
        "id": "MNd0tEGGB8wO"
      },
      "source": [
        "**Recursion**"
      ]
    },
    {
      "cell_type": "code",
      "metadata": {
        "id": "wRGcd205B6VT",
        "colab": {
          "base_uri": "https://localhost:8080/"
        },
        "outputId": "c2646133-53b9-4efa-8bde-17f983c68d66"
      },
      "source": [
        "def tri_recursion(k):\n",
        "  if(k>0):\n",
        "    result = k+tri_recursion(k-1)\n",
        "    print(result)\n",
        "  else:\n",
        "    result = 0\n",
        "  return result\n",
        "\n",
        "print(\"\\n\\nRecursion Example Results\")\n",
        "final = tri_recursion(6)  # if not assigned to any variable 21 will be printed twice bcuz other than print final value is also returned in the end that gets printed agian at last"
      ],
      "execution_count": null,
      "outputs": [
        {
          "output_type": "stream",
          "text": [
            "\n",
            "\n",
            "Recursion Example Results\n",
            "1\n",
            "3\n",
            "6\n",
            "10\n",
            "15\n",
            "21\n"
          ],
          "name": "stdout"
        }
      ]
    },
    {
      "cell_type": "markdown",
      "metadata": {
        "id": "X8ImrPaxtP4K"
      },
      "source": [
        "**Range function**"
      ]
    },
    {
      "cell_type": "code",
      "metadata": {
        "id": "dwX6-TGPdQny",
        "colab": {
          "base_uri": "https://localhost:8080/",
          "height": 158
        },
        "outputId": "ac7b3140-a96f-471e-f046-cf5ab8de8583"
      },
      "source": [
        "## xrange() of Python 2.x doesn’t exist in Python 3.x\n",
        "\n",
        "# for x in xrange(1, 5): \n",
        "#    print(x) \n",
        "# Output here : NameError: name 'xrange' is not defined\n",
        "\n",
        "num = int(input(\"Enter integer: \")) \n",
        "for x in range(1, num):               # 1 - (num-1)\n",
        "    print(x)\n",
        "\n",
        "for x in range(num): \n",
        "    print(x)"
      ],
      "execution_count": null,
      "outputs": [
        {
          "output_type": "stream",
          "text": [
            "Enter integer: 4\n",
            "1\n",
            "2\n",
            "3\n",
            "0\n",
            "1\n",
            "2\n",
            "3\n"
          ],
          "name": "stdout"
        }
      ]
    },
    {
      "cell_type": "markdown",
      "metadata": {
        "id": "42NZafIlj3O5"
      },
      "source": [
        "# Error Handling\n"
      ]
    },
    {
      "cell_type": "markdown",
      "metadata": {
        "id": "RquSxSzr8MBI"
      },
      "source": [
        "**try except else finally**\n",
        "\n",
        "try block : to test a block of code for errors.\n",
        "\n",
        "except block : handles the error. Can define any number of 'except'\n",
        "\n",
        "else keyword : executed if no errors were raised\n",
        "\n",
        "finally block : executed regardless of the result of the try- and except blocks."
      ]
    },
    {
      "cell_type": "code",
      "metadata": {
        "id": "KkNgUKNS1UyJ",
        "colab": {
          "base_uri": "https://localhost:8080/"
        },
        "outputId": "8c27f15c-cc3f-420d-f0d7-305b15b9d578"
      },
      "source": [
        "try:\n",
        "  print(\"Hello\")\n",
        "except:\n",
        "  print(\"Something went wrong\")\n",
        "else:\n",
        "  print(\"Nothing went wrong\")\n",
        "finally:\n",
        "  print(\"The 'try except' is finished\")\n",
        "\n",
        "print(\"\\n\")\n",
        "\n",
        "try:\n",
        "  print(ajeeb_var)\n",
        "except NameError:\n",
        "  print(\"Variable x is not defined\")\n",
        "except:\n",
        "  print(\"Something else went wrong\")\n",
        "else:\n",
        "  print(\"Nothing went wrong\")\n",
        "finally:\n",
        "  print(\"The 'try except' is finished\")\n",
        "\n",
        "\n",
        "try:\n",
        "    a = 1/0\n",
        "except Exception as e:\n",
        "    print(e)"
      ],
      "execution_count": null,
      "outputs": [
        {
          "output_type": "stream",
          "name": "stdout",
          "text": [
            "Hello\n",
            "Nothing went wrong\n",
            "The 'try except' is finished\n",
            "\n",
            "\n",
            "Variable x is not defined\n",
            "The 'try except' is finished\n",
            "division by zero\n"
          ]
        }
      ]
    },
    {
      "cell_type": "markdown",
      "metadata": {
        "id": "Y9ms7kTl30Iw"
      },
      "source": [
        "# Data Types, Casting"
      ]
    },
    {
      "cell_type": "markdown",
      "metadata": {
        "id": "5AuBpd3rlkUy"
      },
      "source": [
        "\n",
        "Text Type: str \n",
        "\n",
        "Numeric Types: int, float, complex \n",
        "\n",
        "Sequence Types: list, tuple, range \n",
        "\n",
        "Mapping Type: dict \n",
        "\n",
        "Set Types: set, frozenset \n",
        "\n",
        "Boolean Type: bool \n",
        "\n",
        "Binary Types: bytes, bytearray, memoryview \n",
        "\n",
        "\n"
      ]
    },
    {
      "cell_type": "code",
      "metadata": {
        "id": "69m7szo-dkAQ",
        "colab": {
          "base_uri": "https://localhost:8080/"
        },
        "outputId": "2854b9e0-66fa-46f5-82c5-e2778883f72c"
      },
      "source": [
        "x = \"Hello World\"\t                              # str\t\n",
        "print(type(x))\n",
        "x = 'Hello World'\t                              # str\t\n",
        "print(type(x))\n",
        "x = '''Hello World'''\t                          # str\t\n",
        "print(type(x))\n",
        "x = \"\"\"Hello World\"\"\"                           # str\t\n",
        "print(type(x))\n",
        "x = 20\t                                        # int\t\n",
        "print(type(x))\n",
        "x = 20.5                                        # float\t\n",
        "print(type(x))\n",
        "x = 1j\t                                        # complex\t\n",
        "print(type(x))\n",
        "x = [\"apple\", \"banana\", \"cherry\"]\t              # list\t- hetero or x = list([\"apple\", \"banana\", \"cherry\"])\n",
        "print(type(x))\n",
        "x = (\"apple\", \"banana\", 3)\t                    # tuple\t- hetero\n",
        "print(type(x))\n",
        "x = range(6)\t                                  # range\t0-5\n",
        "print(type(x))\n",
        "x = {\"name\" : \"John\", \"age\" : 36}\t              # dict\tor  x = dict() x['name'] = 'John' x['age'] = 36\n",
        "print(type(x))\n",
        "x = {\"apple\", \"banana\", \"cherry\"}\t              # set\t\n",
        "print(type(x))\n",
        "x = frozenset({\"apple\", \"banana\", \"cherry\"})\t  # frozenset\t\n",
        "print(type(x))\n",
        "x = True\t                                      # bool\t\n",
        "print(type(x))\n",
        "x = b\"Hello\"\t                                  # bytes\t\n",
        "print(x, type(x))\n",
        "x = bytearray(5)\t                              # bytearray\t\n",
        "print(x, type(x))\n",
        "x = memoryview(bytes(5))\t                      # memoryview\n",
        "print(x, type(x))"
      ],
      "execution_count": null,
      "outputs": [
        {
          "output_type": "stream",
          "text": [
            "<class 'str'>\n",
            "<class 'str'>\n",
            "<class 'str'>\n",
            "<class 'str'>\n",
            "<class 'int'>\n",
            "<class 'float'>\n",
            "<class 'complex'>\n",
            "<class 'list'>\n",
            "<class 'tuple'>\n",
            "<class 'range'>\n",
            "<class 'dict'>\n",
            "<class 'set'>\n",
            "<class 'frozenset'>\n",
            "<class 'bool'>\n",
            "b'Hello' <class 'bytes'>\n",
            "bytearray(b'\\x00\\x00\\x00\\x00\\x00') <class 'bytearray'>\n",
            "<memory at 0x7f4939c09e20> <class 'memoryview'>\n"
          ],
          "name": "stdout"
        }
      ]
    },
    {
      "cell_type": "markdown",
      "metadata": {
        "id": "K8BcjZGKiVSW"
      },
      "source": [
        "**Numbers & Type conversion**\n",
        "\n",
        "int : whole number, positive or negative, without decimals, of unlimited length.\n",
        "\n",
        "float : a number, positive or negative, containing one or more decimals,, scientific numbers with an \"e\" to indicate the power of 10."
      ]
    },
    {
      "cell_type": "code",
      "metadata": {
        "id": "LlvR6X3kjpti",
        "cellView": "code"
      },
      "source": [
        "# Casting\n",
        "x = int(1)       # x will be 1\n",
        "y = int(2.8)     # y will be 2\n",
        "z = int(\"3\")     # z will be 3\n",
        "x = float(1)     # x will be 1.0\n",
        "y = float(2.8)   # y will be 2.8\n",
        "z = float(\"3\")   # z will be 3.0\n",
        "w = float(\"4.2\") # w will be 4.2\n",
        "x = str(\"s1\")    # x will be 's1'\n",
        "y = str(2)       # y will be '2'\n",
        "z = str(3.0)     # z will be '3.0'\n"
      ],
      "execution_count": null,
      "outputs": []
    },
    {
      "cell_type": "markdown",
      "metadata": {
        "id": "2i-wEMyU3vRC"
      },
      "source": [
        "# with statement"
      ]
    },
    {
      "cell_type": "code",
      "metadata": {
        "id": "RLcxExzW38KP"
      },
      "source": [
        "## without 'with'\n",
        "file = open('file_path', 'w')\n",
        "file.write('hello world')\n",
        "file.close()\n",
        "\n",
        "## OR\n",
        "file = open('file_path', 'w')\n",
        "try:\n",
        "  file.write('hello world')\n",
        "finally:\n",
        "  file.close()\n",
        "\n",
        "\n",
        "## 'with' statement\n",
        "with open('file_path', 'w') as file:\n",
        "  file.write('hello world')\n"
      ],
      "execution_count": null,
      "outputs": []
    },
    {
      "cell_type": "markdown",
      "metadata": {
        "id": "5vzT8elGDa0A"
      },
      "source": [
        "# Strings\n"
      ]
    },
    {
      "cell_type": "code",
      "metadata": {
        "id": "54gUd5_8DXsL",
        "colab": {
          "base_uri": "https://localhost:8080/",
          "height": 105
        },
        "outputId": "b178e711-7ad7-41af-b879-ac1b903c830f"
      },
      "source": [
        "## Creating\n",
        "\n",
        "string1 = \"DAIZY BHADRESHA\"\n",
        "print(type(string1), string1)\n",
        "string1 = 'DAIZY BHADRESHA'\n",
        "print(type(string1), string1)\n",
        "string1 = '''DAIZY BHADRESHA'''\n",
        "print(type(string1), string1)\n",
        "\n",
        "# multi-line\n",
        "string1 = '''DAIZY \n",
        "  ..  BHADRESHA'''\n",
        "print(type(string1), string1)"
      ],
      "execution_count": null,
      "outputs": [
        {
          "output_type": "stream",
          "text": [
            "<class 'str'> DAIZY BHADRESHA\n",
            "<class 'str'> DAIZY BHADRESHA\n",
            "<class 'str'> DAIZY BHADRESHA\n",
            "<class 'str'> DAIZY \n",
            "  ..  BHADRESHA\n"
          ],
          "name": "stdout"
        }
      ]
    },
    {
      "cell_type": "code",
      "metadata": {
        "id": "yqpkEa7gXNYB",
        "colab": {
          "base_uri": "https://localhost:8080/",
          "height": 87
        },
        "outputId": "d2601b3c-6514-4557-d2bf-33fbe2f74e08"
      },
      "source": [
        "## slicing\n",
        "\n",
        "string1 = '''DAIZY BHADRESHA'''\n",
        "print(string1[0])\n",
        "print(string1[-3])\n",
        "\n",
        "print(string1[3:12])  # including 3 (starting from 0) excluding 12\n",
        "print(string1[3:-2])  # including 3 excluding -2"
      ],
      "execution_count": null,
      "outputs": [
        {
          "output_type": "stream",
          "text": [
            "D\n",
            "S\n",
            "ZY BHADRE\n",
            "ZY BHADRES\n"
          ],
          "name": "stdout"
        }
      ]
    },
    {
      "cell_type": "code",
      "metadata": {
        "id": "6Ft_jUjwX5_a"
      },
      "source": [
        "## Updating - str are immutable. Cannot update/delete any character in it. Reassignment can be done. Deleting entire string (variable) possible\n",
        "\n",
        "string1 = '''DAIZY BHADRESHA'''\n",
        "\n",
        "del string1   # del string1[2] - not possible \n",
        "# string1[2] = 'p' - not possible\n",
        "\n",
        "# possible\n",
        "string1 = '''DAIZY BHADRESHA'''\n",
        "string1 = '''DAIZY'''\n"
      ],
      "execution_count": null,
      "outputs": []
    },
    {
      "cell_type": "code",
      "metadata": {
        "id": "nJrKuLC9Y07B",
        "colab": {
          "base_uri": "https://localhost:8080/",
          "height": 212
        },
        "outputId": "86fa470a-efe2-48e9-8b95-1f36f2c1a22b"
      },
      "source": [
        "## Escape Sequencing in Python\n",
        "\n",
        "# escape character \\\n",
        "string1 = 'DAIZY B\\'HADRESHA'\n",
        "print(string1)\n",
        "\n",
        "string1 = \"DAIZY B\\\"HADRESHA\"\n",
        "print(string1)\n",
        "\n",
        "# opposite quotes work\n",
        "string1 = \"DAIZY B'HADRESHA\" \n",
        "print(string1)\n",
        "\n",
        "string1 = 'DAIZY B\"HADRESHA'\n",
        "print(string1)\n",
        "\n",
        "# paths \n",
        "string1 = 'C:\\\\Python\\\\Geeks\\\\'     #    'C:\\Python\\Geeks\\'  shows error\n",
        "print(string1)\n",
        "\n",
        "# To ignore the escape sequences in a String, r or R is used, this implies that the string is a raw string and escape sequences inside it are to be ignored. \n",
        "string1 = r\"This is \\x47\\x65\\x65\\x6b\\x73 in \\x48\\x45\\x58\"\n",
        "print(\"\\nPrinting Raw String in HEX Format: \") \n",
        "print(string1) \n",
        "\n",
        "string1 = \"This is \\x47\\x65\\x65\\x6b\\x73 in \\x48\\x45\\x58\"\n",
        "print(\"\\nPrinting in HEX with the use of Escape Sequences: \") \n",
        "print(string1) "
      ],
      "execution_count": null,
      "outputs": [
        {
          "output_type": "stream",
          "text": [
            "DAIZY B'HADRESHA\n",
            "DAIZY B\"HADRESHA\n",
            "DAIZY B'HADRESHA\n",
            "DAIZY B\"HADRESHA\n",
            "C:\\Python\\Geeks\\\n",
            "\n",
            "Printing Raw String in HEX Format: \n",
            "This is \\x47\\x65\\x65\\x6b\\x73 in \\x48\\x45\\x58\n",
            "\n",
            "Printing in HEX with the use of Escape Sequences: \n",
            "This is Geeks in HEX\n"
          ],
          "name": "stdout"
        }
      ]
    },
    {
      "cell_type": "code",
      "metadata": {
        "id": "7ta5i5xSz0Se",
        "colab": {
          "base_uri": "https://localhost:8080/"
        },
        "outputId": "b999dfb3-79cd-478a-f0c9-1f1cc1a12973"
      },
      "source": [
        "## Formatting of strings\n",
        "\n",
        "# Default order \n",
        "String1 = \"{} {} {}\".format('Daizy', 'Jayesh', 'Bhadresha')\n",
        "print(String1)\n",
        "\n",
        "# Positional Formatting \n",
        "String1 = \"{1} {0} {2}\".format('Jayesh', 'Daizy', 'Bhadresha') \n",
        "print(String1) \n",
        "\n",
        "# Keyword Formatting \n",
        "String1 = \"{fname} {mname} {sname}\".format(mname = 'Jayesh', fname= 'Daizy', sname='Bhadresha') \n",
        "print(String1) \n",
        "\n",
        "# Formatting of Integers - binary\n",
        "print(\"\\nBinary representation of {0} is {0:b}\".format(16) ) \n",
        "  \n",
        "# Formatting of Floats - exponent\n",
        "print(\"\\nExponent representation of {0} is {0:e}\".format(165.6458))\n",
        "  \n",
        "# Rounding off Integers - float\n",
        "String1 = \"{0:.2f}\".format(1/6)    # 1/6= 0.166666\n",
        "print(\"\\none-sixth is : \", String1)"
      ],
      "execution_count": null,
      "outputs": [
        {
          "output_type": "stream",
          "text": [
            "Daizy Jayesh Bhadresha\n",
            "Daizy Jayesh Bhadresha\n",
            "Daizy Jayesh Bhadresha\n",
            "\n",
            "Binary representation of 16 is 10000\n",
            "\n",
            "Exponent representation of 165.6458 is 1.656458e+02\n",
            "\n",
            "one-sixth is :  0.17\n"
          ],
          "name": "stdout"
        }
      ]
    },
    {
      "cell_type": "code",
      "metadata": {
        "id": "sVok3xbO2TCI",
        "colab": {
          "base_uri": "https://localhost:8080/",
          "height": 141
        },
        "outputId": "cc072ab0-c5d2-4f4c-ebd2-0752db74b284"
      },
      "source": [
        "## Old style Formatting for integers\n",
        "\n",
        "Integer1 = 123.3456789\n",
        "print(\"Formatting in 3.2f format: \") \n",
        "print('The value of Integer1 is %3.2f' %Integer1) \n",
        "print(\"Formatting in 2.2f format: \") \n",
        "print('The value of Integer1 is %2.2f' %Integer1) \n",
        "print(\"\\nFormatting in 3.4f format: \") \n",
        "print('The value of Integer1 is %3.4f' %Integer1) "
      ],
      "execution_count": null,
      "outputs": [
        {
          "output_type": "stream",
          "text": [
            "Formatting in 3.2f format: \n",
            "The value of Integer1 is 123.35\n",
            "Formatting in 2.2f format: \n",
            "The value of Integer1 is 123.35\n",
            "\n",
            "Formatting in 3.4f format: \n",
            "The value of Integer1 is 123.3457\n"
          ],
          "name": "stdout"
        }
      ]
    },
    {
      "cell_type": "code",
      "metadata": {
        "colab": {
          "base_uri": "https://localhost:8080/"
        },
        "id": "o4rRYzqrc3pA",
        "outputId": "aa3a677d-4cb6-471c-fd39-a044fc029c1b"
      },
      "source": [
        "# Other methods \n",
        "\n",
        "print(\"PrOgRaMiZ\".lower())\n",
        "print(\"PrOgRaMiZ\".upper())\n",
        "print(\"This will split all words, into a list\".split())\n",
        "print(\"This will split all words, into a list\".split(\",\"))\n",
        "print(' '.join(['This', 'will', 'join', 'all', 'words', 'into', 'a', 'string']))\n",
        "print('Happy New Year'.find('ew'))\n",
        "print('Happy New Year'.replace('Happy','Brilliant'))"
      ],
      "execution_count": null,
      "outputs": [
        {
          "output_type": "stream",
          "text": [
            "programiz\n",
            "PROGRAMIZ\n",
            "['This', 'will', 'split', 'all', 'words,', 'into', 'a', 'list']\n",
            "['This will split all words', ' into a list']\n",
            "This will join all words into a string\n",
            "7\n",
            "Brilliant New Year\n"
          ],
          "name": "stdout"
        }
      ]
    },
    {
      "cell_type": "code",
      "metadata": {
        "colab": {
          "base_uri": "https://localhost:8080/"
        },
        "id": "1C-a6dHBcd2V",
        "outputId": "8c8cea54-d19f-47e7-b7ef-6d37f59651ed"
      },
      "source": [
        "dir(\"\")"
      ],
      "execution_count": null,
      "outputs": [
        {
          "output_type": "execute_result",
          "data": {
            "text/plain": [
              "['__add__',\n",
              " '__class__',\n",
              " '__contains__',\n",
              " '__delattr__',\n",
              " '__dir__',\n",
              " '__doc__',\n",
              " '__eq__',\n",
              " '__format__',\n",
              " '__ge__',\n",
              " '__getattribute__',\n",
              " '__getitem__',\n",
              " '__getnewargs__',\n",
              " '__gt__',\n",
              " '__hash__',\n",
              " '__init__',\n",
              " '__init_subclass__',\n",
              " '__iter__',\n",
              " '__le__',\n",
              " '__len__',\n",
              " '__lt__',\n",
              " '__mod__',\n",
              " '__mul__',\n",
              " '__ne__',\n",
              " '__new__',\n",
              " '__reduce__',\n",
              " '__reduce_ex__',\n",
              " '__repr__',\n",
              " '__rmod__',\n",
              " '__rmul__',\n",
              " '__setattr__',\n",
              " '__sizeof__',\n",
              " '__str__',\n",
              " '__subclasshook__',\n",
              " 'capitalize',\n",
              " 'casefold',\n",
              " 'center',\n",
              " 'count',\n",
              " 'encode',\n",
              " 'endswith',\n",
              " 'expandtabs',\n",
              " 'find',\n",
              " 'format',\n",
              " 'format_map',\n",
              " 'index',\n",
              " 'isalnum',\n",
              " 'isalpha',\n",
              " 'isascii',\n",
              " 'isdecimal',\n",
              " 'isdigit',\n",
              " 'isidentifier',\n",
              " 'islower',\n",
              " 'isnumeric',\n",
              " 'isprintable',\n",
              " 'isspace',\n",
              " 'istitle',\n",
              " 'isupper',\n",
              " 'join',\n",
              " 'ljust',\n",
              " 'lower',\n",
              " 'lstrip',\n",
              " 'maketrans',\n",
              " 'partition',\n",
              " 'replace',\n",
              " 'rfind',\n",
              " 'rindex',\n",
              " 'rjust',\n",
              " 'rpartition',\n",
              " 'rsplit',\n",
              " 'rstrip',\n",
              " 'split',\n",
              " 'splitlines',\n",
              " 'startswith',\n",
              " 'strip',\n",
              " 'swapcase',\n",
              " 'title',\n",
              " 'translate',\n",
              " 'upper',\n",
              " 'zfill']"
            ]
          },
          "metadata": {
            "tags": []
          },
          "execution_count": 8
        }
      ]
    },
    {
      "cell_type": "markdown",
      "metadata": {
        "id": "CRNJlpllkiWx"
      },
      "source": [
        "# Data Structures\n"
      ]
    },
    {
      "cell_type": "code",
      "metadata": {
        "id": "FDDDwnIPpxcR",
        "colab": {
          "base_uri": "https://localhost:8080/",
          "height": 250
        },
        "outputId": "ceba58cf-65c0-4775-b288-944481c4c327"
      },
      "source": [
        "## Find & Point difference btw 2 dataframes\n",
        "\n",
        "import pandas as pd\n",
        "\n",
        "df1=pd.DataFrame({'A':[1,2,3],'B':[2,3,4]})\n",
        "df2=pd.DataFrame({'A':[1,3,2],'B':[2,2,3]})\n",
        "print(df1)\n",
        "print(df2)\n",
        "df1.merge(df2, indicator = True, how='outer').loc[lambda x : x['_merge']!='both']"
      ],
      "execution_count": null,
      "outputs": [
        {
          "output_type": "stream",
          "text": [
            "   A  B\n",
            "0  1  2\n",
            "1  2  3\n",
            "2  3  4\n",
            "   A  B\n",
            "0  1  2\n",
            "1  3  2\n",
            "2  2  3\n"
          ],
          "name": "stdout"
        },
        {
          "output_type": "execute_result",
          "data": {
            "text/html": [
              "<div>\n",
              "<style scoped>\n",
              "    .dataframe tbody tr th:only-of-type {\n",
              "        vertical-align: middle;\n",
              "    }\n",
              "\n",
              "    .dataframe tbody tr th {\n",
              "        vertical-align: top;\n",
              "    }\n",
              "\n",
              "    .dataframe thead th {\n",
              "        text-align: right;\n",
              "    }\n",
              "</style>\n",
              "<table border=\"1\" class=\"dataframe\">\n",
              "  <thead>\n",
              "    <tr style=\"text-align: right;\">\n",
              "      <th></th>\n",
              "      <th>A</th>\n",
              "      <th>B</th>\n",
              "      <th>_merge</th>\n",
              "    </tr>\n",
              "  </thead>\n",
              "  <tbody>\n",
              "    <tr>\n",
              "      <th>2</th>\n",
              "      <td>3</td>\n",
              "      <td>4</td>\n",
              "      <td>left_only</td>\n",
              "    </tr>\n",
              "    <tr>\n",
              "      <th>3</th>\n",
              "      <td>3</td>\n",
              "      <td>2</td>\n",
              "      <td>right_only</td>\n",
              "    </tr>\n",
              "  </tbody>\n",
              "</table>\n",
              "</div>"
            ],
            "text/plain": [
              "   A  B      _merge\n",
              "2  3  4   left_only\n",
              "3  3  2  right_only"
            ]
          },
          "metadata": {
            "tags": []
          },
          "execution_count": 22
        }
      ]
    },
    {
      "cell_type": "code",
      "metadata": {
        "id": "vD0Em-7OXNWr",
        "colab": {
          "base_uri": "https://localhost:8080/",
          "height": 34
        },
        "outputId": "b9a3ce69-a127-4586-a93e-4e3ab07b4baa"
      },
      "source": [
        "## dict does allow same keys - returns last value of the same key\n",
        "\n",
        "x = {\"name\" : \"John\", \"name\" : 36}\n",
        "print(x[\"name\"])"
      ],
      "execution_count": null,
      "outputs": [
        {
          "output_type": "stream",
          "text": [
            "36\n"
          ],
          "name": "stdout"
        }
      ]
    },
    {
      "cell_type": "code",
      "metadata": {
        "id": "gafBbom2sd69"
      },
      "source": [
        ""
      ],
      "execution_count": null,
      "outputs": []
    }
  ]
}