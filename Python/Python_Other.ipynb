{
  "nbformat": 4,
  "nbformat_minor": 0,
  "metadata": {
    "colab": {
      "name": "Python - Other",
      "provenance": [],
      "authorship_tag": "ABX9TyOgKttudCKAZOMbsYGJafn6",
      "include_colab_link": true
    },
    "kernelspec": {
      "name": "python3",
      "display_name": "Python 3"
    },
    "language_info": {
      "name": "python"
    }
  },
  "cells": [
    {
      "cell_type": "markdown",
      "metadata": {
        "id": "view-in-github",
        "colab_type": "text"
      },
      "source": [
        "<a href=\"https://colab.research.google.com/github/daizybhadresha/python_practice/blob/main/Python_Other.ipynb\" target=\"_parent\"><img src=\"https://colab.research.google.com/assets/colab-badge.svg\" alt=\"Open In Colab\"/></a>"
      ]
    },
    {
      "cell_type": "code",
      "metadata": {
        "id": "lWD1XQzVkw3j"
      },
      "source": [
        "## Every Python module has it’s __name__ defined and if this is ‘__main__’, it implies that the module is being run standalone by the user and we can do corresponding appropriate actions.\n",
        "## If you import this script as a module in another script, the __name__ is set to the name of the script/module.\n",
        "## Python files can act as either reusable modules, or as standalone programs.\n",
        "## if __name__ == “main”: is used to execute some code only if the file was run directly, and not imported.\n",
        "## If execited -> script.py directly -> __name__ variable will be __main__      o/p  -> \"Executed when invoked directly\"\n",
        "## If script is getting imported by some other module at that time __name__ will be module name\n",
        "\n",
        "print \"Always executed\"\n",
        "  \n",
        "if __name__ == \"__main__\": \n",
        "    print \"Executed when invoked directly\"\n",
        "else: \n",
        "    print \"Executed when imported\""
      ],
      "execution_count": null,
      "outputs": []
    },
    {
      "cell_type": "code",
      "metadata": {
        "id": "Fk9coHEJkwNP",
        "colab": {
          "base_uri": "https://localhost:8080/",
          "height": 52
        },
        "outputId": "816c30ac-0ec6-4d35-b3e6-bf0ef67b4600"
      },
      "source": [
        "import math \n",
        "  \n",
        "def Main(): \n",
        "    num = float(input(\"Enter a number: \")) \n",
        "    # fabs is used to get the absolute value of a decimal \n",
        "    num = math.fabs(num)  \n",
        "    print(num) \n",
        "if __name__==\"__main__\": \n",
        "    Main() "
      ],
      "execution_count": null,
      "outputs": [
        {
          "output_type": "stream",
          "text": [
            "Enter a number: 10\n",
            "10.0\n"
          ],
          "name": "stdout"
        }
      ]
    },
    {
      "cell_type": "code",
      "metadata": {
        "colab": {
          "base_uri": "https://localhost:8080/"
        },
        "id": "P82ZpnkjRFTW",
        "outputId": "4eec69a0-11cd-4659-acbe-1a7b6dfd000d"
      },
      "source": [
        "my_list = [1, 5, 4, 6, 8, 11, 3, 12]\n",
        "\n",
        "new_list = list(filter(lambda x: (x%2 == 0) , my_list))\n",
        "\n",
        "print(new_list)"
      ],
      "execution_count": null,
      "outputs": [
        {
          "output_type": "stream",
          "text": [
            "[4, 6, 8, 12]\n"
          ],
          "name": "stdout"
        }
      ]
    },
    {
      "cell_type": "code",
      "metadata": {
        "colab": {
          "base_uri": "https://localhost:8080/"
        },
        "id": "VooB724yxQWF",
        "outputId": "f4f052cc-754b-4db3-907d-f22e5070f802"
      },
      "source": [
        "my_list = [1, 5, 4]\n",
        "print(my_list[5:])"
      ],
      "execution_count": null,
      "outputs": [
        {
          "output_type": "stream",
          "text": [
            "[]\n"
          ],
          "name": "stdout"
        }
      ]
    },
    {
      "cell_type": "code",
      "metadata": {
        "colab": {
          "base_uri": "https://localhost:8080/"
        },
        "id": "FocCNBQuxtS0",
        "outputId": "8487d1df-8b4b-4f7f-c4cc-058bccd142e0"
      },
      "source": [
        "a = 1 + 2j\n",
        "print(type(a))"
      ],
      "execution_count": null,
      "outputs": [
        {
          "output_type": "stream",
          "text": [
            "<class 'complex'>\n"
          ],
          "name": "stdout"
        }
      ]
    }
  ]
}