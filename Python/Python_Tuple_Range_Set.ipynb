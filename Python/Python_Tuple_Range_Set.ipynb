{
  "nbformat": 4,
  "nbformat_minor": 0,
  "metadata": {
    "colab": {
      "name": "Python - Tuple, Range, Set",
      "provenance": [],
      "collapsed_sections": [],
      "toc_visible": true,
      "authorship_tag": "ABX9TyMxkSZJXF6Y3Z5jbg82+UE0",
      "include_colab_link": true
    },
    "kernelspec": {
      "name": "python3",
      "display_name": "Python 3"
    },
    "language_info": {
      "name": "python"
    }
  },
  "cells": [
    {
      "cell_type": "markdown",
      "metadata": {
        "id": "view-in-github",
        "colab_type": "text"
      },
      "source": [
        "<a href=\"https://colab.research.google.com/github/daizybhadresha/python_practice/blob/main/Python_Tuple_Range_Set.ipynb\" target=\"_parent\"><img src=\"https://colab.research.google.com/assets/colab-badge.svg\" alt=\"Open In Colab\"/></a>"
      ]
    },
    {
      "cell_type": "markdown",
      "metadata": {
        "id": "d-KxtDpnTWGx"
      },
      "source": [
        "### Creation"
      ]
    },
    {
      "cell_type": "code",
      "metadata": {
        "colab": {
          "base_uri": "https://localhost:8080/"
        },
        "id": "Wfwm0Gc7RlMX",
        "outputId": "ddc99aad-fe40-4e6b-81db-3ee65d6aaa0d"
      },
      "source": [
        "# Different types of tuples\n",
        "\n",
        "# Empty tuple\n",
        "my_tuple = ()\n",
        "print(my_tuple)\n",
        "\n",
        "# tuple with mixed datatypes\n",
        "my_tuple = (1, \"Hello\", 3.4)\n",
        "print(my_tuple)\n",
        "\n",
        "# paranthesis is not mandatory\n",
        "my_tuple = 3, 4.6, \"dog\"\n",
        "print(type(my_tuple), my_tuple)\n",
        "\n",
        "# tuple with one element \n",
        "my_tuple = (\"hello\")\n",
        "print(type(my_tuple))  # <class 'str'>\n",
        "\n",
        "my_tuple = (\"hello\",)\n",
        "print(type(my_tuple))  # <class 'tuple'>\n",
        "\n",
        "my_tuple = \"hello\",\n",
        "print(type(my_tuple))  # <class 'tuple'>"
      ],
      "execution_count": null,
      "outputs": [
        {
          "output_type": "stream",
          "text": [
            "()\n",
            "(1, 'Hello', 3.4)\n",
            "<class 'tuple'> (3, 4.6, 'dog')\n",
            "<class 'str'>\n",
            "<class 'tuple'>\n",
            "<class 'tuple'>\n"
          ],
          "name": "stdout"
        }
      ]
    },
    {
      "cell_type": "code",
      "metadata": {
        "colab": {
          "base_uri": "https://localhost:8080/"
        },
        "id": "l8Dv573kSS1t",
        "outputId": "e0f700f9-297c-473e-9f57-b65213baa286"
      },
      "source": [
        "# nested tuple\n",
        "my_tuple = (\"mouse\", [8, 4, 6], (1, 2, 3))\n",
        "print(my_tuple)\n",
        "\n",
        "# tuple unpacking is also possible\n",
        "a, b, c = my_tuple\n",
        "\n",
        "print(a)      # 3\n",
        "print(b)      # 4.6\n",
        "print(c)      # dog"
      ],
      "execution_count": null,
      "outputs": [
        {
          "output_type": "stream",
          "text": [
            "('mouse', [8, 4, 6], (1, 2, 3))\n",
            "mouse\n",
            "[8, 4, 6]\n",
            "(1, 2, 3)\n"
          ],
          "name": "stdout"
        }
      ]
    },
    {
      "cell_type": "code",
      "metadata": {
        "colab": {
          "base_uri": "https://localhost:8080/",
          "height": 235
        },
        "id": "UgdddrnP3pSQ",
        "outputId": "1f65e12a-9d5a-481d-ba31-5edbd83b3525"
      },
      "source": [
        "## Concatenation\n",
        "\n",
        "print((1, 2, 3) + (4, 5, 6))\n",
        "\n",
        "my_tuple = (1, 2, 3, 'mouse')\n",
        "my_tuple = my_tuple + (3,4,5)\n",
        "print(my_tuple)\n",
        "\n",
        "## Reassignment of items is not possible\n",
        "my_tuple[1] = 9\n",
        "\n"
      ],
      "execution_count": null,
      "outputs": [
        {
          "output_type": "stream",
          "text": [
            "(1, 2, 3, 4, 5, 6)\n",
            "(1, 2, 3, 'mouse', 3, 4, 5)\n"
          ],
          "name": "stdout"
        },
        {
          "output_type": "error",
          "ename": "TypeError",
          "evalue": "ignored",
          "traceback": [
            "\u001b[0;31m---------------------------------------------------------------------------\u001b[0m",
            "\u001b[0;31mTypeError\u001b[0m                                 Traceback (most recent call last)",
            "\u001b[0;32m<ipython-input-4-275fe0d7ba9b>\u001b[0m in \u001b[0;36m<module>\u001b[0;34m()\u001b[0m\n\u001b[1;32m      9\u001b[0m \u001b[0;31m## Reassignment of item is not possible\u001b[0m\u001b[0;34m\u001b[0m\u001b[0;34m\u001b[0m\u001b[0;34m\u001b[0m\u001b[0m\n\u001b[1;32m     10\u001b[0m \u001b[0;34m\u001b[0m\u001b[0m\n\u001b[0;32m---> 11\u001b[0;31m \u001b[0mmy_tuple\u001b[0m\u001b[0;34m[\u001b[0m\u001b[0;36m1\u001b[0m\u001b[0;34m]\u001b[0m \u001b[0;34m=\u001b[0m \u001b[0;36m9\u001b[0m\u001b[0;34m\u001b[0m\u001b[0;34m\u001b[0m\u001b[0m\n\u001b[0m",
            "\u001b[0;31mTypeError\u001b[0m: 'tuple' object does not support item assignment"
          ]
        }
      ]
    },
    {
      "cell_type": "markdown",
      "metadata": {
        "id": "qvzJJjG4M_i4"
      },
      "source": [
        "### Slicing"
      ]
    },
    {
      "cell_type": "code",
      "metadata": {
        "colab": {
          "base_uri": "https://localhost:8080/"
        },
        "id": "jVxblVB6Sjja",
        "outputId": "5de11238-0cc8-41c4-a62d-507d294ac83f"
      },
      "source": [
        "## Slicing  - Same as list\n",
        "\n",
        "List = ('G','E','E','K','S','F','O','R','G','E','E','K','S')\n",
        "\n",
        "# index starts with 0, excludes 2nd param... 2nd param is always excluded (:2nd param)\n",
        "print(List[3:8])    # 0.1.2    3 - 7th  \n",
        "print(List[5:])     # 5 - last\n",
        "print(List[:])      # all\n",
        "print(List[:-6])    # 0th to -5\n",
        "print(List[-6:-1])  # -6 to -2\n",
        "print(List[-1:-6])  # since invalid - returns nothing"
      ],
      "execution_count": null,
      "outputs": [
        {
          "output_type": "stream",
          "text": [
            "('K', 'S', 'F', 'O', 'R')\n",
            "('F', 'O', 'R', 'G', 'E', 'E', 'K', 'S')\n",
            "('G', 'E', 'E', 'K', 'S', 'F', 'O', 'R', 'G', 'E', 'E', 'K', 'S')\n",
            "('G', 'E', 'E', 'K', 'S', 'F', 'O')\n",
            "('R', 'G', 'E', 'E', 'K')\n",
            "()\n"
          ],
          "name": "stdout"
        }
      ]
    },
    {
      "cell_type": "code",
      "metadata": {
        "colab": {
          "base_uri": "https://localhost:8080/"
        },
        "id": "vXzoH0I2ZL-J",
        "outputId": "cb192163-3b04-4265-d368-894848d3447a"
      },
      "source": [
        "List = ('foo', 'bar', 'baz', 'qux', 'quux', 'corge')  # 7 elements : 0 - 6\n",
        "print(List[::])     # same as print(List[:])\n",
        "print(List[::2])    # OR a[0:6:2]   Start to end every 2nd elem (for stepping first elem is always considered)\n",
        "print(List[1::2])   # OR a[1:6:2]   2nd elem till last step 2\n",
        "print(List[::-2])   # OR a[6:0:-2]  end to start step 2\n",
        "print(List[::-1])   # Reverse list"
      ],
      "execution_count": null,
      "outputs": [
        {
          "output_type": "stream",
          "text": [
            "('foo', 'bar', 'baz', 'qux', 'quux', 'corge')\n",
            "('foo', 'baz', 'quux')\n",
            "('bar', 'qux', 'corge')\n",
            "('corge', 'qux', 'bar')\n",
            "('corge', 'quux', 'qux', 'baz', 'bar', 'foo')\n"
          ],
          "name": "stdout"
        }
      ]
    },
    {
      "cell_type": "markdown",
      "metadata": {
        "id": "klP5cY2UaIls"
      },
      "source": [
        "### Other Methods"
      ]
    },
    {
      "cell_type": "code",
      "metadata": {
        "colab": {
          "base_uri": "https://localhost:8080/",
          "height": 235
        },
        "id": "C8OrIUH8aGD5",
        "outputId": "2a73a91e-b466-4197-b1c6-e17b41a3d490"
      },
      "source": [
        "my_tuple = (\"mouse\", 6, 3, 'p', 2, 3)\n",
        "\n",
        "# Counts occurence of particular element\n",
        "print(my_tuple.count(3))     \n",
        "\n",
        "# Find index of the element (1st occurrence)\n",
        "print(my_tuple.index(\"p\"))  \n",
        "\n",
        "# Delete tuple\n",
        "del my_tuple\n",
        "print(my_tuple)"
      ],
      "execution_count": null,
      "outputs": [
        {
          "output_type": "stream",
          "text": [
            "2\n",
            "3\n"
          ],
          "name": "stdout"
        },
        {
          "output_type": "error",
          "ename": "NameError",
          "evalue": "ignored",
          "traceback": [
            "\u001b[0;31m---------------------------------------------------------------------------\u001b[0m",
            "\u001b[0;31mNameError\u001b[0m                                 Traceback (most recent call last)",
            "\u001b[0;32m<ipython-input-5-cc008395aad2>\u001b[0m in \u001b[0;36m<module>\u001b[0;34m()\u001b[0m\n\u001b[1;32m      9\u001b[0m \u001b[0;31m# Delete tuple\u001b[0m\u001b[0;34m\u001b[0m\u001b[0;34m\u001b[0m\u001b[0;34m\u001b[0m\u001b[0m\n\u001b[1;32m     10\u001b[0m \u001b[0;32mdel\u001b[0m \u001b[0mmy_tuple\u001b[0m\u001b[0;34m\u001b[0m\u001b[0;34m\u001b[0m\u001b[0m\n\u001b[0;32m---> 11\u001b[0;31m \u001b[0mprint\u001b[0m\u001b[0;34m(\u001b[0m\u001b[0mmy_tuple\u001b[0m\u001b[0;34m)\u001b[0m\u001b[0;34m\u001b[0m\u001b[0;34m\u001b[0m\u001b[0m\n\u001b[0m",
            "\u001b[0;31mNameError\u001b[0m: name 'my_tuple' is not defined"
          ]
        }
      ]
    },
    {
      "cell_type": "markdown",
      "metadata": {
        "id": "5mOD1UD_SBjZ"
      },
      "source": [
        "### Tuple vs List Size\n"
      ]
    },
    {
      "cell_type": "code",
      "metadata": {
        "colab": {
          "base_uri": "https://localhost:8080/"
        },
        "id": "NWdsZn_LQuoD",
        "outputId": "ed799fa7-b65a-408f-e1ea-6e7e346da096"
      },
      "source": [
        "# tuple requires less space\n",
        "a= (1,2,3,4,5,6,7,8,9,0)\n",
        "b= [1,2,3,4,5,6,7,8,9,0]\n",
        "\n",
        "# Dict can be replaced by tuple in few instances bcuz - it takes less space then dictionary\n",
        "# instead of -> List of tuples  --use-- Dictionary of Tuples/ List\n",
        "c= [('Swordfish', 'Dominic Sena', 2001), ('Snowden', ' Oliver Stone', 2016), ('Taxi Driver', 'Martin Scorsese', 1976)] \n",
        "d= {'Swordfish' : ('Dominic Sena', 2001), 'Snowden': ('Oliver Stone', 2016), 'Taxi Driver': ('Martin Scorsese', 1976)}\n",
        "e= {'Swordfish' : ['Dominic Sena', 2001], 'Snowden': ['Oliver Stone', 2016], 'Taxi Driver': ['Martin Scorsese', 1976]}\n",
        "\n",
        "print(\"Tuple vs List\", \"a=\", a.__sizeof__(), \"b=\", b.__sizeof__())\n",
        "print('List of tuples       c=',c.__sizeof__())\n",
        "print('Dict of tuple values d=',d.__sizeof__())\n",
        "print('Dict of list values  e=',d.__sizeof__())"
      ],
      "execution_count": null,
      "outputs": [
        {
          "output_type": "stream",
          "text": [
            "Tuple vs List a= 104 b= 120\n",
            "List of tuples       c= 64\n",
            "Dict of tuple values d= 216\n",
            "Dict of list values  e= 216\n"
          ],
          "name": "stdout"
        }
      ]
    },
    {
      "cell_type": "code",
      "metadata": {
        "colab": {
          "base_uri": "https://localhost:8080/"
        },
        "id": "WZ16b8LxZs6e",
        "outputId": "fa3b4c42-afe9-4082-ec0a-dbce3bbcab47"
      },
      "source": [
        "dir(())"
      ],
      "execution_count": null,
      "outputs": [
        {
          "output_type": "execute_result",
          "data": {
            "text/plain": [
              "['__add__',\n",
              " '__class__',\n",
              " '__contains__',\n",
              " '__delattr__',\n",
              " '__dir__',\n",
              " '__doc__',\n",
              " '__eq__',\n",
              " '__format__',\n",
              " '__ge__',\n",
              " '__getattribute__',\n",
              " '__getitem__',\n",
              " '__getnewargs__',\n",
              " '__gt__',\n",
              " '__hash__',\n",
              " '__init__',\n",
              " '__init_subclass__',\n",
              " '__iter__',\n",
              " '__le__',\n",
              " '__len__',\n",
              " '__lt__',\n",
              " '__mul__',\n",
              " '__ne__',\n",
              " '__new__',\n",
              " '__reduce__',\n",
              " '__reduce_ex__',\n",
              " '__repr__',\n",
              " '__rmul__',\n",
              " '__setattr__',\n",
              " '__sizeof__',\n",
              " '__str__',\n",
              " '__subclasshook__',\n",
              " 'count',\n",
              " 'index']"
            ]
          },
          "metadata": {
            "tags": []
          },
          "execution_count": 12
        }
      ]
    },
    {
      "cell_type": "markdown",
      "metadata": {
        "id": "2kS8-t4aUD5L"
      },
      "source": [
        "### Range"
      ]
    },
    {
      "cell_type": "markdown",
      "metadata": {
        "id": "2A6zEmoxUhma"
      },
      "source": [
        "Creation"
      ]
    },
    {
      "cell_type": "code",
      "metadata": {
        "colab": {
          "base_uri": "https://localhost:8080/"
        },
        "id": "9z9putMwZ-Pr",
        "outputId": "301894ea-5b55-4dfd-bcd0-15d216c8595a"
      },
      "source": [
        "# empty range\n",
        "print(range(0), list(range(0)))\n",
        "\n",
        "# using range(stop)\n",
        "print(range(10), list(range(10)))\n",
        "\n",
        "# using range(start, stop)\n",
        "print(range(1, 10), list(range(1, 10)))\n",
        "\n",
        "# customised list -> range(start, stop, step)  \n",
        "print(range(2,12,2), list(range(2,12,2)))\n",
        "print(range(2, -14, -2), list(range(2, -14, -2)))\n",
        "# print(list(range(2, 5, 0))) # range() arg 3 must not be zero"
      ],
      "execution_count": null,
      "outputs": [
        {
          "output_type": "stream",
          "text": [
            "range(0, 0) []\n",
            "range(0, 10) [0, 1, 2, 3, 4, 5, 6, 7, 8, 9]\n",
            "range(1, 10) [1, 2, 3, 4, 5, 6, 7, 8, 9]\n",
            "range(2, 12, 2) [2, 4, 6, 8, 10]\n",
            "range(2, -14, -2) [2, 0, -2, -4, -6, -8, -10, -12]\n"
          ],
          "name": "stdout"
        }
      ]
    }
  ]
}