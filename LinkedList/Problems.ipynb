{
 "cells": [
  {
   "cell_type": "code",
   "execution_count": 57,
   "metadata": {},
   "outputs": [
    {
     "name": "stdout",
     "output_type": "stream",
     "text": [
      "2 -> 5 -> 10 -> 15 -> 20\n",
      "2\n",
      "5\n",
      "10\n",
      "15\n",
      "20\n",
      "Could not find target : 12\n",
      "Found target : 20 at index: 4\n",
      "Value at index 3 is 15\n",
      "Value at index 2 is 10\n",
      "5 -> 9 -> 15 -> 20\n"
     ]
    }
   ],
   "source": [
    "%run LinkedList.ipynb"
   ]
  },
  {
   "cell_type": "code",
   "execution_count": 58,
   "metadata": {},
   "outputs": [],
   "source": [
    "def print_nodes(head1) -> str:\n",
    "    temp_node = head1\n",
    "    llist = \"\"\n",
    "    if temp_node is None:\n",
    "        return \"Linked List is empty!\"\n",
    "    while temp_node is not None:\n",
    "        llist += str(temp_node.value)\n",
    "        if temp_node.next is not None:\n",
    "            llist += \" -> \"\n",
    "        temp_node = temp_node.next\n",
    "    print(llist)"
   ]
  },
  {
   "cell_type": "code",
   "execution_count": 59,
   "metadata": {},
   "outputs": [
    {
     "name": "stdout",
     "output_type": "stream",
     "text": [
      "2 -> 18 -> 19 -> 23 -> 56 -> 90 -> 100\n",
      "0 -> 1 -> 12 -> 14 -> 15 -> 24\n"
     ]
    }
   ],
   "source": [
    "ll1 = LinkedList()\n",
    "ll1.append(2); ll1.append(18); ll1.append(19); ll1.append(23); ll1.append(56); ll1.append(90); ll1.append(100)\n",
    "print_nodes(ll1.head)\n",
    "\n",
    "ll2 = LinkedList()\n",
    "ll2.append(0); ll2.append(1); ll2.append(12); ll2.append(14); ll2.append(15); ll2.append(24)\n",
    "print_nodes(ll2.head)"
   ]
  },
  {
   "cell_type": "markdown",
   "metadata": {},
   "source": [
    "Merge 2 sorted Linked List in one sorted list\n",
    "Input: Heads of two sorted LLs\n",
    "Output: Head of new sorted LL"
   ]
  },
  {
   "cell_type": "code",
   "execution_count": 60,
   "metadata": {},
   "outputs": [],
   "source": [
    "def mergeTwoSortedLists(head1, head2):\n",
    "    prehead = Node(-1)\n",
    "    prev = prehead\n",
    "    while head1 and head2:\n",
    "        if head1.value <= head2.value:\n",
    "            prev.next = head1\n",
    "            head1 = head1.next\n",
    "        else:\n",
    "            prev.next = head2\n",
    "            head2 = head2.next\n",
    "        prev = prev.next\n",
    "\n",
    "    prev.next = head1 if head1 else head2\n",
    "\n",
    "    # return head of new list\n",
    "    return prehead.next"
   ]
  },
  {
   "cell_type": "code",
   "execution_count": 61,
   "metadata": {},
   "outputs": [
    {
     "name": "stdout",
     "output_type": "stream",
     "text": [
      "0 -> 1 -> 2 -> 12 -> 14 -> 15 -> 18 -> 19 -> 23 -> 24 -> 56 -> 90 -> 100\n"
     ]
    }
   ],
   "source": [
    "ll = mergeTwoSortedLists(ll1.head, ll2.head)\n",
    "print_nodes(ll)"
   ]
  },
  {
   "cell_type": "markdown",
   "metadata": {},
   "source": [
    "***\n",
    "\n",
    "\n",
    "**Remove duplicates**\\\n",
    "\\\n",
    "*Input: Head of sorted LL\\\n",
    "\\\n",
    "*Output: Sorted LL w/o duplicates\\\n",
    "\\\n",
    "Ex: [1,1,2,3,3,4] -> [1,2,3,4]"
   ]
  },
  {
   "cell_type": "code",
   "execution_count": 62,
   "metadata": {},
   "outputs": [
    {
     "name": "stdout",
     "output_type": "stream",
     "text": [
      "1 -> 1 -> 2 -> 3 -> 3 -> 4 -> 4\n"
     ]
    }
   ],
   "source": [
    "ll3 = LinkedList()\n",
    "ll3.append(1); ll3.append(1); ll3.append(2); ll3.append(3); ll3.append(3); ll3.append(4); ll3.append(4); \n",
    "print(ll3)"
   ]
  },
  {
   "cell_type": "code",
   "execution_count": 63,
   "metadata": {},
   "outputs": [],
   "source": [
    "def removeDuplicates(head1):\n",
    "    prev = head1\n",
    "    current = head1.next\n",
    "    elements = [head1.value]\n",
    "    while current:\n",
    "        if current.value in elements:\n",
    "            prev.next = current.next\n",
    "        else:\n",
    "            elements.append(current.value)\n",
    "        prev = current\n",
    "        current = current.next\n",
    "    \n",
    "    return head1\n"
   ]
  },
  {
   "cell_type": "code",
   "execution_count": 64,
   "metadata": {},
   "outputs": [
    {
     "name": "stdout",
     "output_type": "stream",
     "text": [
      "1 -> 2 -> 3 -> 4\n"
     ]
    }
   ],
   "source": [
    "ll4 = removeDuplicates(ll3.head)\n",
    "print_nodes(ll4)"
   ]
  },
  {
   "cell_type": "markdown",
   "metadata": {},
   "source": [
    "***\n",
    "**Check if LL is palindrome**\\\n",
    "\\\n",
    "*Input: Head of LL\\\n",
    "\\\n",
    "*Output: True or False\\\n",
    "\\\n",
    "Constraints: 0<= value >=9\\\n",
    "\n",
    "Ex: [1,2,3,3,2,1] -> True \\\n",
    "       [1,2] -> False"
   ]
  },
  {
   "cell_type": "code",
   "execution_count": 65,
   "metadata": {},
   "outputs": [
    {
     "name": "stdout",
     "output_type": "stream",
     "text": [
      "1 -> 0 -> 9 -> 9 -> 0 -> 1\n"
     ]
    }
   ],
   "source": [
    "ll5 = LinkedList()\n",
    "ll5.append(1); ll5.append(0); ll5.append(9); ll5.append(9); ll5.append(0); ll5.append(1); \n",
    "print_nodes(ll5.head)\n"
   ]
  },
  {
   "cell_type": "code",
   "execution_count": 66,
   "metadata": {},
   "outputs": [
    {
     "name": "stdout",
     "output_type": "stream",
     "text": [
      "1 -> 2 -> 9 -> 1 -> 2 -> 3\n"
     ]
    }
   ],
   "source": [
    "ll6 = LinkedList()\n",
    "ll6.append(1); ll6.append(2); ll6.append(9); ll6.append(1); ll6.append(2); ll6.append(3); \n",
    "print_nodes(ll6.head)"
   ]
  },
  {
   "cell_type": "code",
   "execution_count": 67,
   "metadata": {},
   "outputs": [
    {
     "name": "stdout",
     "output_type": "stream",
     "text": [
      "1 -> 4 -> 3 -> 4 -> 3 -> 3 -> 4 -> 2 -> 1 -> 2\n"
     ]
    }
   ],
   "source": [
    "ll7 = LinkedList()\n",
    "ll7.append(1); ll7.append(4); ll7.append(3); ll7.append(4); ll7.append(3); ll7.append(3); ll7.append(4); ll7.append(2); \n",
    "ll7.append(1); ll7.append(2); \n",
    "print_nodes(ll7.head)"
   ]
  },
  {
   "cell_type": "code",
   "execution_count": 68,
   "metadata": {},
   "outputs": [
    {
     "name": "stdout",
     "output_type": "stream",
     "text": [
      "1 -> 4 -> 3 -> 4 -> 1\n"
     ]
    }
   ],
   "source": [
    "ll8 = LinkedList()\n",
    "ll8.append(1); ll8.append(4); ll8.append(3); ll8.append(4); ll8.append(1); \n",
    "print_nodes(ll8.head)"
   ]
  },
  {
   "cell_type": "markdown",
   "metadata": {},
   "source": [
    "130032 230031\\\n",
    "1434334212\\\n",
    "13003030 03030032\\\n",
    "12344321\n",
    "\n",
    "not EOD\\\n",
    "    Add all the elements\n",
    "\n",
    "Start popping from end\\\n",
    "not EOD\\\n",
    "    top_elem == first elem in LL -> Palindrome"
   ]
  },
  {
   "cell_type": "code",
   "execution_count": 69,
   "metadata": {},
   "outputs": [],
   "source": [
    "def checkPalindrome(head):\n",
    "        pplist = []\n",
    "        current = head\n",
    "\n",
    "        while current:\n",
    "            pplist.append(current.value)\n",
    "            current = current.next\n",
    "\n",
    "        current = head\n",
    "        while current:\n",
    "            top_elem = pplist.pop()\n",
    "            if top_elem != current.value:\n",
    "                return False\n",
    "            current = current.next\n",
    "        \n",
    "        return True"
   ]
  },
  {
   "cell_type": "code",
   "execution_count": 70,
   "metadata": {},
   "outputs": [
    {
     "name": "stdout",
     "output_type": "stream",
     "text": [
      "True\n",
      "False\n",
      "False\n",
      "True\n"
     ]
    }
   ],
   "source": [
    "palidrome = checkPalindrome(ll5.head)\n",
    "print(palidrome)\n",
    "\n",
    "palidrome = checkPalindrome(ll6.head)\n",
    "print(palidrome)\n",
    "\n",
    "palidrome = checkPalindrome(ll7.head)\n",
    "print(palidrome)\n",
    "\n",
    "palidrome = checkPalindrome(ll8.head)\n",
    "print(palidrome)"
   ]
  },
  {
   "cell_type": "markdown",
   "metadata": {},
   "source": [
    "***\n",
    "**Remove Linked List Elements**\n",
    "\n",
    "Given the head of a linked list and an integer val, remove all the nodes of the linked list that has Node.val == val, and return the new head.\n",
    "\n",
    "*Input: head = [1,2,6,3,4,5,6], val = 6\\\n",
    "*Output: [1,2,3,4,5]"
   ]
  },
  {
   "cell_type": "code",
   "execution_count": 105,
   "metadata": {},
   "outputs": [],
   "source": [
    "def removeElement(head, value):\n",
    "    # Created a prehead\n",
    "    prehead = Node(-1); prehead.next = head \n",
    "    prev = prehead\n",
    "    current = head\n",
    "\n",
    "    while current:\n",
    "        if value == current.value:\n",
    "            prev.next = current.next\n",
    "        else:\n",
    "            prev = current\n",
    "        current = current.next\n",
    "    \n",
    "    # since we added a new prehead -1, increment head \n",
    "    return prehead.next"
   ]
  },
  {
   "cell_type": "code",
   "execution_count": 106,
   "metadata": {},
   "outputs": [
    {
     "name": "stdout",
     "output_type": "stream",
     "text": [
      "6 -> 6 -> 1 -> 6 -> 2 -> 6\n",
      "1 -> 2\n"
     ]
    }
   ],
   "source": [
    "ll9 = LinkedList()\n",
    "ll9.append(6); ll9.append(6); ll9.append(1); ll9.append(6); ll9.append(2); ll9.append(6); \n",
    "print_nodes(ll9.head)\n",
    "\n",
    "ll = removeElement(ll9.head, 6)\n",
    "print_nodes(ll)"
   ]
  },
  {
   "cell_type": "markdown",
   "metadata": {},
   "source": [
    "***\n",
    "**Reverse Linked List**\n",
    "\n",
    "Given the head of a singly linked list, reverse the list, and return the reversed list.\n",
    "\n",
    "*Input: head = [1,2,3,4,5]\\\n",
    "*Output: [5,4,3,2,1]"
   ]
  },
  {
   "cell_type": "code",
   "execution_count": 164,
   "metadata": {},
   "outputs": [],
   "source": [
    "def reverseList(head):\n",
    "    prev_node = None\n",
    "    curr_node = head\n",
    "\n",
    "    while curr_node:\n",
    "        next_node = curr_node.next\n",
    "        curr_node.next = prev_node\n",
    "        prev_node = curr_node\n",
    "        curr_node = next_node\n",
    "    return prev_node"
   ]
  },
  {
   "cell_type": "code",
   "execution_count": 165,
   "metadata": {},
   "outputs": [
    {
     "name": "stdout",
     "output_type": "stream",
     "text": [
      "1 -> 2 -> 3 -> 4 -> 5 -> 6\n",
      "6\n",
      "6 -> 5 -> 4 -> 3 -> 2 -> 1\n"
     ]
    }
   ],
   "source": [
    "ll10 = LinkedList()\n",
    "ll10.append(1); ll10.append(2); ll10.append(3); ll10.append(4); ll10.append(5); ll10.append(6); \n",
    "print_nodes(ll10.head)\n",
    "print(ll10.tail.value)\n",
    "\n",
    "ll = reverseList(ll10.head)\n",
    "print_nodes(ll)"
   ]
  },
  {
   "cell_type": "code",
   "execution_count": null,
   "metadata": {},
   "outputs": [],
   "source": []
  }
 ],
 "metadata": {
  "kernelspec": {
   "display_name": "Python 3",
   "language": "python",
   "name": "python3"
  },
  "language_info": {
   "codemirror_mode": {
    "name": "ipython",
    "version": 3
   },
   "file_extension": ".py",
   "mimetype": "text/x-python",
   "name": "python",
   "nbconvert_exporter": "python",
   "pygments_lexer": "ipython3",
   "version": "3.9.6"
  }
 },
 "nbformat": 4,
 "nbformat_minor": 2
}
