{
 "cells": [
  {
   "cell_type": "code",
   "execution_count": 39,
   "metadata": {},
   "outputs": [
    {
     "name": "stdout",
     "output_type": "stream",
     "text": [
      "2 -> 5 -> 10 -> 15 -> 20\n",
      "2\n",
      "5\n",
      "10\n",
      "15\n",
      "20\n",
      "Could not find target : 12\n",
      "Found target : 20 at index: 4\n",
      "Value at index 3 is 15\n",
      "Value at index 2 is 10\n",
      "5 -> 9 -> 15 -> 20\n"
     ]
    }
   ],
   "source": [
    "%run LinkedList.ipynb"
   ]
  },
  {
   "cell_type": "code",
   "execution_count": 44,
   "metadata": {},
   "outputs": [],
   "source": [
    "def print_nodes(head1) -> str:\n",
    "    temp_node = head1\n",
    "    llist = \"\"\n",
    "    if temp_node is None:\n",
    "        return \"Linked List is empty!\"\n",
    "    while temp_node is not None:\n",
    "        llist += str(temp_node.value)\n",
    "        if temp_node.next is not None:\n",
    "            llist += \" -> \"\n",
    "        temp_node = temp_node.next\n",
    "    print(llist)"
   ]
  },
  {
   "cell_type": "code",
   "execution_count": 77,
   "metadata": {},
   "outputs": [
    {
     "name": "stdout",
     "output_type": "stream",
     "text": [
      "2 -> 18 -> 19 -> 23 -> 56 -> 90 -> 100\n",
      "0 -> 1 -> 12 -> 14 -> 15 -> 24\n"
     ]
    }
   ],
   "source": [
    "ll1 = LinkedList()\n",
    "ll1.append(2)\n",
    "ll1.append(18)\n",
    "ll1.append(19)\n",
    "ll1.append(23)\n",
    "ll1.append(56)\n",
    "ll1.append(90)\n",
    "ll1.append(100)\n",
    "\n",
    "print_nodes(ll1.head)\n",
    "\n",
    "ll2 = LinkedList()\n",
    "ll2.append(0)\n",
    "ll2.append(1)\n",
    "ll2.append(12)\n",
    "ll2.append(14)\n",
    "ll2.append(15)\n",
    "ll2.append(24)\n",
    "\n",
    "print_nodes(ll2.head)"
   ]
  },
  {
   "cell_type": "markdown",
   "metadata": {},
   "source": [
    "Merge 2 sorted Linked List in one sorted list\n",
    "Input: Heads of two sorted LLs\n",
    "Output: Head of new sorted LL"
   ]
  },
  {
   "cell_type": "code",
   "execution_count": 76,
   "metadata": {},
   "outputs": [],
   "source": [
    "def mergeTwoSortedLists(head1, head2):\n",
    "    prehead = Node(-1)\n",
    "    prev = prehead\n",
    "    while head1 and head2:\n",
    "        if head1.value <= head2.value:\n",
    "            prev.next = head1\n",
    "            head1 = head1.next\n",
    "        else:\n",
    "            prev.next = head2\n",
    "            head2 = head2.next\n",
    "        prev = prev.next\n",
    "\n",
    "    prev.next = head1 if head1 else head2\n",
    "\n",
    "    # return head of new list\n",
    "    return prehead.next"
   ]
  },
  {
   "cell_type": "code",
   "execution_count": 78,
   "metadata": {},
   "outputs": [
    {
     "name": "stdout",
     "output_type": "stream",
     "text": [
      "0 -> 1 -> 2 -> 12 -> 14 -> 15 -> 18 -> 19 -> 23 -> 24 -> 56 -> 90 -> 100\n"
     ]
    }
   ],
   "source": [
    "ll = mergeTwoSortedLists(ll1.head, ll2.head)\n",
    "print_nodes(ll)"
   ]
  },
  {
   "cell_type": "markdown",
   "metadata": {},
   "source": [
    "***\n",
    "\n",
    "\n",
    "**Remove duplicates**\\\n",
    "\\\n",
    "*Input: Head of sorted LL\\\n",
    "\\\n",
    "*Output: Sorted LL w/o duplicates\\\n",
    "\\\n",
    "Ex: [1,1,2,3,3,4] -> [1,2,3,4]"
   ]
  },
  {
   "cell_type": "code",
   "execution_count": 80,
   "metadata": {},
   "outputs": [
    {
     "name": "stdout",
     "output_type": "stream",
     "text": [
      "1 -> 1 -> 2 -> 3 -> 3 -> 4 -> 4\n"
     ]
    }
   ],
   "source": [
    "ll3 = LinkedList()\n",
    "ll3.append(1)\n",
    "ll3.append(1)\n",
    "ll3.append(2)\n",
    "ll3.append(3)\n",
    "ll3.append(3)\n",
    "ll3.append(4)\n",
    "ll3.append(4)\n",
    "\n",
    "print(ll3)"
   ]
  },
  {
   "cell_type": "code",
   "execution_count": 98,
   "metadata": {},
   "outputs": [],
   "source": [
    "def removeDuplicates(head1):\n",
    "    prev = head1\n",
    "    current = head1.next\n",
    "    elements = [head1.value]\n",
    "    while current:\n",
    "        if current.value in elements:\n",
    "            prev.next = current.next\n",
    "        else:\n",
    "            elements.append(current.value)\n",
    "        prev = current\n",
    "        current = current.next\n",
    "    \n",
    "    return head1\n"
   ]
  },
  {
   "cell_type": "code",
   "execution_count": 99,
   "metadata": {},
   "outputs": [
    {
     "name": "stdout",
     "output_type": "stream",
     "text": [
      "1 -> 2 -> 3 -> 4\n"
     ]
    }
   ],
   "source": [
    "ll4 = removeDuplicates(ll3.head)\n",
    "print_nodes(ll4)"
   ]
  },
  {
   "cell_type": "markdown",
   "metadata": {},
   "source": [
    "***\n",
    "**Check if LL is palindrome**\\\n",
    "\\\n",
    "*Input: Head of LL\\\n",
    "\\\n",
    "*Output: True or False\\\n",
    "\\\n",
    "Constraints: 0<= value >=9\\\n",
    "\n",
    "Ex: [1,2,3,3,2,1] -> True \\\n",
    "       [1,2] -> False"
   ]
  },
  {
   "cell_type": "code",
   "execution_count": 117,
   "metadata": {},
   "outputs": [
    {
     "name": "stdout",
     "output_type": "stream",
     "text": [
      "1 -> 0 -> 9 -> 9 -> 0 -> 1\n",
      "6\n"
     ]
    }
   ],
   "source": [
    "ll5 = LinkedList()\n",
    "ll5.append(1)\n",
    "ll5.append(0)\n",
    "ll5.append(9)\n",
    "ll5.append(9)\n",
    "ll5.append(0)\n",
    "ll5.append(1)\n",
    "\n",
    "print_nodes(ll5.head)\n",
    "print(ll5.length)\n"
   ]
  },
  {
   "cell_type": "code",
   "execution_count": 119,
   "metadata": {},
   "outputs": [
    {
     "name": "stdout",
     "output_type": "stream",
     "text": [
      "1 -> 0 -> 9 -> 9 -> 0 -> 1\n",
      "6\n"
     ]
    }
   ],
   "source": [
    "ll6 = LinkedList()\n",
    "ll6.append(1)\n",
    "ll6.append(2)\n",
    "ll6.append(9)\n",
    "ll6.append(1)\n",
    "ll6.append(2)\n",
    "ll6.append(3)\n",
    "\n",
    "print_nodes(ll5.head)\n",
    "print(ll5.length)"
   ]
  },
  {
   "cell_type": "markdown",
   "metadata": {},
   "source": [
    "130032 230031\n",
    "\n",
    "1434334212\n",
    "\n",
    "13003030 03030032\n",
    "\n",
    "12344321\n",
    "\n",
    "not EOD\n",
    "    last elem is same as current\n",
    "        remove\n",
    "    else\n",
    "        append\n",
    "\n",
    "elems left -> not palindrome\n",
    "else -> palindrome"
   ]
  },
  {
   "cell_type": "code",
   "execution_count": 120,
   "metadata": {},
   "outputs": [],
   "source": [
    "def checkPalindrome(head):\n",
    "    pplist = [head.value]\n",
    "    current = head.next\n",
    "    top_elem = 0\n",
    "    while current:\n",
    "        top_elem = pplist[-1]\n",
    "        if top_elem == current.value:\n",
    "            print(\"Removed: \",top_elem)\n",
    "            pplist.pop()\n",
    "            print(pplist)\n",
    "        else:\n",
    "            print(\"Added: \",current.value)\n",
    "            pplist.append(current.value)\n",
    "            print(pplist)\n",
    "        current = current.next\n",
    "\n",
    "    if len(pplist) > 0:\n",
    "        return False\n",
    "    \n",
    "    return True"
   ]
  },
  {
   "cell_type": "code",
   "execution_count": 122,
   "metadata": {},
   "outputs": [
    {
     "name": "stdout",
     "output_type": "stream",
     "text": [
      "True\n",
      "False\n"
     ]
    }
   ],
   "source": [
    "palidrome = checkPalindrome(ll5.head)\n",
    "print(palidrome)\n",
    "\n",
    "palidrome = checkPalindrome(ll6.head)\n",
    "print(palidrome)"
   ]
  },
  {
   "cell_type": "code",
   "execution_count": null,
   "metadata": {},
   "outputs": [],
   "source": []
  }
 ],
 "metadata": {
  "kernelspec": {
   "display_name": "Python 3",
   "language": "python",
   "name": "python3"
  },
  "language_info": {
   "codemirror_mode": {
    "name": "ipython",
    "version": 3
   },
   "file_extension": ".py",
   "mimetype": "text/x-python",
   "name": "python",
   "nbconvert_exporter": "python",
   "pygments_lexer": "ipython3",
   "version": "3.9.6"
  }
 },
 "nbformat": 4,
 "nbformat_minor": 2
}
