{
  "nbformat": 4,
  "nbformat_minor": 0,
  "metadata": {
    "colab": {
      "name": "MCFS -  Preprocessing.ipynb",
      "provenance": [],
      "collapsed_sections": [],
      "include_colab_link": true
    },
    "kernelspec": {
      "name": "python3",
      "display_name": "Python 3"
    }
  },
  "cells": [
    {
      "cell_type": "markdown",
      "metadata": {
        "id": "view-in-github",
        "colab_type": "text"
      },
      "source": [
        "<a href=\"https://colab.research.google.com/github/daizybhadresha/python_practice/blob/main/MCFS_Preprocessing.ipynb\" target=\"_parent\"><img src=\"https://colab.research.google.com/assets/colab-badge.svg\" alt=\"Open In Colab\"/></a>"
      ]
    },
    {
      "cell_type": "code",
      "metadata": {
        "id": "2SSGPPfgpWlm"
      },
      "source": [
        "from google.colab import drive\n",
        "drive.mount('/content/drive')"
      ],
      "execution_count": null,
      "outputs": []
    },
    {
      "cell_type": "code",
      "metadata": {
        "id": "ql4h1BnbpXrZ",
        "outputId": "8c3a4449-1eaa-445c-a5ae-895a56013844",
        "colab": {
          "base_uri": "https://localhost:8080/",
          "height": 51
        }
      },
      "source": [
        "## Loading the data\n",
        "\n",
        "import pandas as pd\n",
        "\n",
        "path1 = '/content/drive/My Drive/Capstone/capstone_data/Customer_Data.xlsx'\n",
        "path2 = '/content/drive/My Drive/Capstone/capstone_data/Plant Master.xlsx'\n",
        "path3 = '/content/drive/My Drive/Capstone/capstone_data/Final_invoice.csv'\n",
        "path4 = '/content/drive/My Drive/Capstone/capstone_data/JTD.csv'\n",
        "\n",
        "cust_df = pd.read_excel(path1)\n",
        "plant_df = pd.read_excel(path2)\n",
        "invoice_df = pd.read_csv(path3)\n",
        "jtd_df = pd.read_csv(path4)"
      ],
      "execution_count": null,
      "outputs": [
        {
          "output_type": "stream",
          "text": [
            "/usr/local/lib/python3.6/dist-packages/IPython/core/interactiveshell.py:2718: DtypeWarning: Columns (9,10,14,15,21,41,51) have mixed types. Specify dtype option on import or set low_memory=False.\n",
            "  interactivity=interactivity, compiler=compiler, result=result)\n"
          ],
          "name": "stderr"
        }
      ]
    },
    {
      "cell_type": "code",
      "metadata": {
        "id": "WKCpUtne4sNJ"
      },
      "source": [
        "# Deleting all the columns with all NaN values\n",
        "def delCols_With_AllNaN(dataframe):\n",
        "  dataframe_1 = dataframe.dropna(axis = 1, how='all')\n",
        "  print(\"Deleted columns: \",list(set(dataframe.columns) - set(dataframe_1.columns)))\n",
        "  print(\"Dimension after Deletions: \", dataframe_1.shape)\n",
        "  return dataframe_1\n",
        "\n",
        "# Deleting all the columns with all NaN values\n",
        "def delRows_With_AnyNaN(dataframe):\n",
        "  dataframe_1 = dataframe.dropna(axis = 0, how='any')\n",
        "  print(\"Dimension after Deletions: \", dataframe_1.shape)\n",
        "  return dataframe_1\n",
        "\n",
        "# Removing the cols which only has 2 values - 0's/NaN\n",
        "def delCols_With_AllZeroes(dataframe):\n",
        "  numeric_cols = dataframe.select_dtypes('number').columns\n",
        "  cols_to_be_deleted = []\n",
        "  for col in numeric_cols:\n",
        "    if dataframe[col].sum() == 0:\n",
        "      cols_to_be_deleted += [col]\n",
        "  \n",
        "  print(cols_to_be_deleted)\n",
        "  dataframe_1 = dataframe.drop(columns=cols_to_be_deleted)\n",
        "  print(\"Deleted columns: \",list(set(dataframe.columns) - set(dataframe_1.columns)))\n",
        "  print(\"Dimension after Deletions: \", dataframe_1.shape)\n",
        "  return dataframe_1\n",
        "\n",
        "# Removing unwanted columns/ with > **% missing data\n",
        "def delCols_With_MissingThreshold(dataframe,threshold):\n",
        "  l = []\n",
        "  dataframe_1 = dataframe.drop(dataframe.loc[:,list((100*(dataframe.isnull().sum()/len(dataframe.index))>=threshold))].columns, 1)\n",
        "  l = list(dataframe_1.columns.values)\n",
        "  print(\"# Columns having more than %s percent missing values:\"%threshold,(dataframe.shape[1] - len(l)))\n",
        "  print(\"Columns deleted: \",list(set(list((dataframe.columns.values))) - set(l)))\n",
        "  print(\"Dimension after Deletions: \", dataframe_1.shape)\n",
        "  return dataframe_1\n",
        "\n",
        "# Fill null with 'No Info.'\n",
        "def fillCol_With_Text_NoInfo(dataframe, cols):\n",
        "  for col in cols:\n",
        "    dataframe[col].fillna('No Info.', inplace = True)\n",
        "\n"
      ],
      "execution_count": null,
      "outputs": []
    },
    {
      "cell_type": "code",
      "metadata": {
        "id": "lIcBwgnb5bGY",
        "outputId": "a997af58-41be-4849-b4cc-53fbff4f2f33",
        "colab": {
          "base_uri": "https://localhost:8080/",
          "height": 309
        }
      },
      "source": [
        "#### Cleaning of invoice df \n",
        "\n",
        "# 1st - Deleting all the columns with all NaN values\n",
        "invoice_df_1 = delCols_With_AllNaN(invoice_df)\n",
        "\n",
        "# 2nd - Removing the cols which only has 2 values - 0's/NaN \n",
        "invoice_df_2 = delCols_With_AllZeroes(invoice_df_1)\n",
        "\n",
        "# 3rd - Removing unwanted columns/ with >90% missing data\n",
        "invoice_df_2 = delCols_With_MissingThreshold(invoice_df_2, 90)\n",
        "\n",
        "# 4th - Deleting the unrequired columns\n",
        "cols_to_be_deleted = ['Gate Pass Time', 'ODN No.',  'Print Status', 'Recovrbl Exp', 'Regn No', 'User ID', 'Total Value']\n",
        "invoice_df_2 = invoice_df_2.drop(columns=cols_to_be_deleted)\n",
        "print(\"Dimension after Deletions: \", invoice_df_2.shape)\n",
        "\n",
        "# 5th - Missing Technician - 'No Info.'\n",
        "fillCol_With_Text_NoInfo(invoice_df_2, ['Technician Name'])\n",
        "\n",
        "print(invoice_df_2.columns, invoice_df_2.shape)\n"
      ],
      "execution_count": null,
      "outputs": [
        {
          "output_type": "stream",
          "text": [
            "Deleted columns:  ['Service Advisor Name']\n",
            "Dimension after Deletions:  (492314, 58)\n",
            "['Amt Rcvd From Custom', 'Amt Rcvd From Ins Co', 'CGST(14%)', 'CGST(2.5%)', 'CGST(6%)', 'CGST(9%)', 'IGST(12%)', 'IGST(18%)', 'IGST(28%)', 'IGST(5%)', 'Outstanding Amt', 'SGST/UGST(14%)', 'SGST/UGST(2.5%)', 'SGST/UGST(6%)', 'SGST/UGST(9%)', 'TDS amount', 'Total CGST', 'Total GST', 'Total IGST', 'Total SGST/UGST']\n",
            "Deleted columns:  ['TDS amount', 'IGST(12%)', 'Total SGST/UGST', 'Amt Rcvd From Custom', 'SGST/UGST(6%)', 'IGST(18%)', 'SGST/UGST(9%)', 'CGST(9%)', 'SGST/UGST(2.5%)', 'Outstanding Amt', 'IGST(5%)', 'CGST(2.5%)', 'Total GST', 'SGST/UGST(14%)', 'CGST(6%)', 'Total IGST', 'IGST(28%)', 'Amt Rcvd From Ins Co', 'Total CGST', 'CGST(14%)']\n",
            "Dimension after Deletions:  (492314, 38)\n",
            "# Columns having more than 90 percent missing values: 6\n",
            "Columns deleted:  ['Cash /Cashless Type', 'Policy no.', 'Gate Pass Date', 'Expiry Date', 'Insurance Company', 'Claim No.']\n",
            "Dimension after Deletions:  (492314, 32)\n",
            "Dimension after Deletions:  (492314, 25)\n",
            "Index(['Unnamed: 0', 'Area / Locality', 'CITY', 'Cust Type', 'Customer No.',\n",
            "       'District', 'Invoice Date', 'Invoice No', 'Invoice Time', 'Job Card No',\n",
            "       'JobCard Date', 'JobCard Time', 'KMs Reading', 'Labour Total', 'Make',\n",
            "       'Misc Total', 'Model', 'OSL Total', 'Order Type', 'Parts Total',\n",
            "       'Pin code', 'Plant', 'Plant Name1', 'Technician Name',\n",
            "       'Total Amt Wtd Tax.'],\n",
            "      dtype='object') (492314, 25)\n"
          ],
          "name": "stdout"
        }
      ]
    },
    {
      "cell_type": "code",
      "metadata": {
        "id": "D2aF3ODon3Oe",
        "outputId": "8e8a44ea-b47e-4f47-96c5-b33279725cb7",
        "colab": {
          "base_uri": "https://localhost:8080/",
          "height": 459
        }
      },
      "source": [
        "## Imputing Area/Locality - Creating new Locality Dataset [\"Locality name\", \"Pincode\"]\n",
        "\n",
        "path5 = '/content/drive/My Drive/Capstone/capstone_data/Location.csv'\n",
        "locality_df = pd.read_csv(path5)\n",
        "locality_df['Pincode'] = locality_df.key.apply(lambda x : x[3:])\n",
        "locality_df.drop_duplicates(subset =\"Pincode\", keep = 'first', inplace = True)\n",
        "locality_df.rename(columns={\"place_name\": \"Locality name\"}, inplace = True)\n",
        "locality_df = locality_df[[\"Locality name\",\"Pincode\"]]\n",
        "\n",
        "path6 = '/content/drive/My Drive/Capstone/capstone_data/Locality_New.csv'\n",
        "locality_df_1 = pd.read_csv(path6)\n",
        "locality_df_1.drop_duplicates(subset =\"Pincode\", keep = 'first', inplace = True)\n",
        "locality_df_1 = locality_df_1[[\"Locality name\",\"Pincode\"]]\n",
        "\n",
        "path7 = '/content/drive/My Drive/Capstone/capstone_data/Locality_2.csv'\n",
        "locality_df_2 = pd.read_csv(path7)\n",
        "locality_df_2.drop_duplicates(subset =\"pincode\", keep = 'first', inplace = True)\n",
        "locality_df_2.rename(columns={\"Taluk\": \"Locality name\", \"pincode\":\"Pincode\" }, inplace = True)\n",
        "locality_df_2 = locality_df_2[[\"Locality name\",\"Pincode\"]]\n",
        "\n",
        "area_df = pd.concat([locality_df, locality_df_1, locality_df_2])\n",
        "#print(len(area_df))\n",
        "area_df.drop_duplicates(subset =\"Pincode\", keep = 'first', inplace = True)\n",
        "print(\"Total unique rows of Locality df : \", len(area_df))\n",
        "print(area_df.head())\n",
        "\n",
        "## Missing Area/Locality\n",
        "print(\"Total missing area/locality : \",invoice_df_2['Area / Locality'].isnull().sum())   # 23890,  4.85% missing\n",
        "\n",
        "## Merging the newly created locality dataset with the current Invoice dataset\n",
        "result = pd.merge(invoice_df_2, area_df, how='left', left_on='Pin code', right_on='Pincode', indicator=True)  #pd.merge(invoice_df_2, locality_df, on='Pin code', how='left', indicator=True)\n",
        "print(result.columns)\n",
        "result['Area / Locality'].fillna(result['Locality name'], inplace = True)\n",
        "print(\"After merge not null rows : \", result['Area / Locality'].notnull().sum())  # 15,522‬,  3.15% missing\n",
        "\n",
        "## Filling NaN with \"No Info.\"\n",
        "fillCol_With_Text_NoInfo(result, ['Area / Locality'])\n",
        "print(\"Total Not null rows : \",result['Area / Locality'].notnull().sum())\n",
        "result.drop(['Locality name', 'Pincode', '_merge'],axis=1, inplace = True)\n",
        "print(result.columns)"
      ],
      "execution_count": null,
      "outputs": [
        {
          "output_type": "stream",
          "text": [
            "/usr/local/lib/python3.6/dist-packages/IPython/core/interactiveshell.py:2718: DtypeWarning: Columns (2,6,7) have mixed types. Specify dtype option on import or set low_memory=False.\n",
            "  interactivity=interactivity, compiler=compiler, result=result)\n"
          ],
          "name": "stderr"
        },
        {
          "output_type": "stream",
          "text": [
            "Total unique rows of Locality df :  19977\n",
            "             Locality name Pincode\n",
            "0          Connaught Place  110001\n",
            "1               Darya Ganj  110002\n",
            "2                  Aliganj  110003\n",
            "3       Rashtrapati Bhawan  110004\n",
            "4  Lower Camp Anand Parbat  110005\n",
            "Total missing area/locality :  23890\n",
            "Index(['Unnamed: 0', 'Area / Locality', 'CITY', 'Cust Type', 'Customer No.',\n",
            "       'District', 'Invoice Date', 'Invoice No', 'Invoice Time', 'Job Card No',\n",
            "       'JobCard Date', 'JobCard Time', 'KMs Reading', 'Labour Total', 'Make',\n",
            "       'Misc Total', 'Model', 'OSL Total', 'Order Type', 'Parts Total',\n",
            "       'Pin code', 'Plant', 'Plant Name1', 'Technician Name',\n",
            "       'Total Amt Wtd Tax.', 'Locality name', 'Pincode', '_merge'],\n",
            "      dtype='object')\n",
            "After merge not null rows :  476792\n",
            "Total Not null rows :  492314\n",
            "Index(['Unnamed: 0', 'Area / Locality', 'CITY', 'Cust Type', 'Customer No.',\n",
            "       'District', 'Invoice Date', 'Invoice No', 'Invoice Time', 'Job Card No',\n",
            "       'JobCard Date', 'JobCard Time', 'KMs Reading', 'Labour Total', 'Make',\n",
            "       'Misc Total', 'Model', 'OSL Total', 'Order Type', 'Parts Total',\n",
            "       'Pin code', 'Plant', 'Plant Name1', 'Technician Name',\n",
            "       'Total Amt Wtd Tax.'],\n",
            "      dtype='object')\n"
          ],
          "name": "stdout"
        }
      ]
    },
    {
      "cell_type": "code",
      "metadata": {
        "id": "GUasPnoN85qa",
        "outputId": "bebe18c6-2c3e-4220-8674-0c07345128d3",
        "colab": {
          "base_uri": "https://localhost:8080/",
          "height": 136
        }
      },
      "source": [
        "result.drop(result.columns[result.columns.str.contains('unnamed',case = False)],axis = 1, inplace = True)\n",
        "print(result.columns)"
      ],
      "execution_count": null,
      "outputs": [
        {
          "output_type": "stream",
          "text": [
            "Index(['Area / Locality', 'CITY', 'Cust Type', 'Customer No.', 'District',\n",
            "       'Invoice Date', 'Invoice No', 'Invoice Time', 'Job Card No',\n",
            "       'JobCard Date', 'JobCard Time', 'KMs Reading', 'Labour Total', 'Make',\n",
            "       'Misc Total', 'Model', 'OSL Total', 'Order Type', 'Parts Total',\n",
            "       'Pin code', 'Plant', 'Plant Name1', 'Technician Name',\n",
            "       'Total Amt Wtd Tax.'],\n",
            "      dtype='object')\n"
          ],
          "name": "stdout"
        }
      ]
    },
    {
      "cell_type": "code",
      "metadata": {
        "id": "aC3Xo1_d2bJ_"
      },
      "source": [
        "## Exporting processed data\n",
        "\n",
        "result.to_csv('/content/drive/My Drive/Capstone/capstone_data/Invoice_Preprocesed.csv')\n"
      ],
      "execution_count": null,
      "outputs": []
    },
    {
      "cell_type": "code",
      "metadata": {
        "id": "ViXtVcr1hFMl"
      },
      "source": [
        "#### To reformat\n",
        "\n",
        "\n",
        "## No. of states\n",
        "\n",
        "print(plant_df['State'].unique())\n",
        "print(invoice_df['District'].unique())\n",
        "\n",
        "### Proof that there are districts in Invoice whose pincode does not match with pincode in plant dataset   Ex: District (Andaman and Nico.In.) has pincode 125001 which is of Haryana\n",
        "# print(plant_df[plant_df['Plant'] == 'X064'])\n",
        "# invoice_df[invoice_df['District'] == 'Andaman and Nico.In.']"
      ],
      "execution_count": null,
      "outputs": []
    },
    {
      "cell_type": "markdown",
      "metadata": {
        "id": "hhiyL_yfIEfq"
      },
      "source": [
        "https://blog.projectionhub.com/auto-repair-shop-projected-financials-for-first-3-years/\n"
      ]
    },
    {
      "cell_type": "markdown",
      "metadata": {
        "id": "BSoJk2gvB4u5"
      },
      "source": [
        ""
      ]
    },
    {
      "cell_type": "markdown",
      "metadata": {
        "id": "Ndc3YEMtB7Lb"
      },
      "source": [
        ""
      ]
    },
    {
      "cell_type": "code",
      "metadata": {
        "id": "rG1LW2DQCndU",
        "outputId": "033791a9-e579-4bf2-801e-b8a8832af4f6",
        "colab": {
          "base_uri": "https://localhost:8080/",
          "height": 434
        }
      },
      "source": [
        "# Import label encoder \n",
        "from sklearn import preprocessing \n",
        "label_encoder = preprocessing.LabelEncoder() \n",
        "df = pd.DataFrame()\n",
        "df['Cust Type'] = label_encoder.fit_transform(invoice_df_2['Cust Type'])\n",
        "print(df['Cust Type'])\n",
        "df['Cust Type'] = label_encoder.inverse_transform(df['Cust Type'])\n",
        "print(df['Cust Type'])"
      ],
      "execution_count": null,
      "outputs": [
        {
          "output_type": "stream",
          "text": [
            "0         6\n",
            "1         6\n",
            "2         6\n",
            "3         6\n",
            "4         6\n",
            "         ..\n",
            "492309    6\n",
            "492310    6\n",
            "492311    6\n",
            "492312    6\n",
            "492313    6\n",
            "Name: Cust Type, Length: 492314, dtype: int64\n",
            "0         Retail\n",
            "1         Retail\n",
            "2         Retail\n",
            "3         Retail\n",
            "4         Retail\n",
            "           ...  \n",
            "492309    Retail\n",
            "492310    Retail\n",
            "492311    Retail\n",
            "492312    Retail\n",
            "492313    Retail\n",
            "Name: Cust Type, Length: 492314, dtype: object\n"
          ],
          "name": "stdout"
        }
      ]
    },
    {
      "cell_type": "code",
      "metadata": {
        "id": "JxjHFsbIAgV5",
        "outputId": "18e63089-bb46-4bf5-dfb6-69e561e5cc25",
        "colab": {
          "base_uri": "https://localhost:8080/",
          "height": 564
        }
      },
      "source": [
        "## Plant DF \n",
        "print(plant_df.info())\n",
        "#delCols_With_AnyNaN(plant_df)\n",
        "print(len(plant_df[(plant_df['Postal Code']<110000) | (plant_df['Postal Code']>930000)]['Postal Code'].unique()))\n",
        "\n",
        "plant_df[(plant_df['Postal Code']<110000) | (plant_df['Postal Code']>930000)]"
      ],
      "execution_count": null,
      "outputs": [
        {
          "output_type": "stream",
          "text": [
            "<class 'pandas.core.frame.DataFrame'>\n",
            "RangeIndex: 438 entries, 0 to 437\n",
            "Data columns (total 13 columns):\n",
            "Plant                      438 non-null object\n",
            "Name 1                     438 non-null object\n",
            "Valuation Area             438 non-null object\n",
            "Customer no. - plant       438 non-null object\n",
            "Vendor number plant        2 non-null object\n",
            "Factory calendar           438 non-null object\n",
            "Name 2                     436 non-null object\n",
            "House number and street    436 non-null object\n",
            "PO Box                     437 non-null float64\n",
            "Postal Code                438 non-null int64\n",
            "City                       438 non-null object\n",
            "Sales organization         433 non-null object\n",
            "State                      438 non-null object\n",
            "dtypes: float64(1), int64(1), object(11)\n",
            "memory usage: 44.6+ KB\n",
            "None\n",
            "1\n"
          ],
          "name": "stdout"
        },
        {
          "output_type": "execute_result",
          "data": {
            "text/html": [
              "<div>\n",
              "<style scoped>\n",
              "    .dataframe tbody tr th:only-of-type {\n",
              "        vertical-align: middle;\n",
              "    }\n",
              "\n",
              "    .dataframe tbody tr th {\n",
              "        vertical-align: top;\n",
              "    }\n",
              "\n",
              "    .dataframe thead th {\n",
              "        text-align: right;\n",
              "    }\n",
              "</style>\n",
              "<table border=\"1\" class=\"dataframe\">\n",
              "  <thead>\n",
              "    <tr style=\"text-align: right;\">\n",
              "      <th></th>\n",
              "      <th>Plant</th>\n",
              "      <th>Name 1</th>\n",
              "      <th>Valuation Area</th>\n",
              "      <th>Customer no. - plant</th>\n",
              "      <th>Vendor number plant</th>\n",
              "      <th>Factory calendar</th>\n",
              "      <th>Name 2</th>\n",
              "      <th>House number and street</th>\n",
              "      <th>PO Box</th>\n",
              "      <th>Postal Code</th>\n",
              "      <th>City</th>\n",
              "      <th>Sales organization</th>\n",
              "      <th>State</th>\n",
              "    </tr>\n",
              "  </thead>\n",
              "  <tbody>\n",
              "    <tr>\n",
              "      <th>413</th>\n",
              "      <td>X688</td>\n",
              "      <td>X688 - GIRRAJJI MOTORS</td>\n",
              "      <td>X688</td>\n",
              "      <td>PLX688</td>\n",
              "      <td>NaN</td>\n",
              "      <td>IN</td>\n",
              "      <td>Agra</td>\n",
              "      <td>Plot No.10K, Mauja Rohta, Gwal</td>\n",
              "      <td>NaN</td>\n",
              "      <td>999999</td>\n",
              "      <td>Agra</td>\n",
              "      <td>MFCD</td>\n",
              "      <td>Uttar Pradesh</td>\n",
              "    </tr>\n",
              "    <tr>\n",
              "      <th>414</th>\n",
              "      <td>X689</td>\n",
              "      <td>X689 - POONAM MOTORS</td>\n",
              "      <td>X689</td>\n",
              "      <td>PLX689</td>\n",
              "      <td>NaN</td>\n",
              "      <td>IN</td>\n",
              "      <td>Delhi</td>\n",
              "      <td>Opp. Rama Krishna Apartment, N</td>\n",
              "      <td>999999.0</td>\n",
              "      <td>999999</td>\n",
              "      <td>Delhi</td>\n",
              "      <td>MFCA</td>\n",
              "      <td>Delhi</td>\n",
              "    </tr>\n",
              "    <tr>\n",
              "      <th>420</th>\n",
              "      <td>X706</td>\n",
              "      <td>X706 - ADITYA &amp; BROTHERS</td>\n",
              "      <td>X706</td>\n",
              "      <td>PLX706</td>\n",
              "      <td>NaN</td>\n",
              "      <td>IN</td>\n",
              "      <td>Manendragarh</td>\n",
              "      <td>Plot No. 343/10, In Front Of K</td>\n",
              "      <td>999999.0</td>\n",
              "      <td>999999</td>\n",
              "      <td>Manendragarh</td>\n",
              "      <td>MFCD</td>\n",
              "      <td>Chhattisgarh</td>\n",
              "    </tr>\n",
              "    <tr>\n",
              "      <th>430</th>\n",
              "      <td>X756</td>\n",
              "      <td>X756 - ZENITH AUTOMOTIVE SERVI</td>\n",
              "      <td>X756</td>\n",
              "      <td>PLX756</td>\n",
              "      <td>NaN</td>\n",
              "      <td>IN</td>\n",
              "      <td>Meerut</td>\n",
              "      <td>NaN</td>\n",
              "      <td>0.0</td>\n",
              "      <td>999999</td>\n",
              "      <td>Meerut</td>\n",
              "      <td>MFCD</td>\n",
              "      <td>Uttar Pradesh</td>\n",
              "    </tr>\n",
              "  </tbody>\n",
              "</table>\n",
              "</div>"
            ],
            "text/plain": [
              "    Plant                          Name 1  ... Sales organization          State\n",
              "413  X688          X688 - GIRRAJJI MOTORS  ...               MFCD  Uttar Pradesh\n",
              "414  X689            X689 - POONAM MOTORS  ...               MFCA          Delhi\n",
              "420  X706        X706 - ADITYA & BROTHERS  ...               MFCD   Chhattisgarh\n",
              "430  X756  X756 - ZENITH AUTOMOTIVE SERVI  ...               MFCD  Uttar Pradesh\n",
              "\n",
              "[4 rows x 13 columns]"
            ]
          },
          "metadata": {
            "tags": []
          },
          "execution_count": 12
        }
      ]
    },
    {
      "cell_type": "code",
      "metadata": {
        "id": "Vv_IzJrj-81k",
        "outputId": "624dc0cf-2b79-4b04-d76e-266453dc2795",
        "colab": {
          "base_uri": "https://localhost:8080/",
          "height": 54
        }
      },
      "source": [
        "\n",
        "## \"Make\" Column\n",
        "make_list = result['Make'].unique().tolist()\n",
        "print(make_list)\n",
        "\n",
        "import re\n",
        "# for each row\n",
        "for i in range(len(jtd_df)) : \n",
        "  print(jtd_df.loc[i, \"Description\"], df.loc[i, \"Age\"]) \n",
        "\n",
        "shop=\"hello seattle what have -you (got) 824.72 SY.CYL.HEAD COVER-PLAS\"\n",
        "regex = r'\\w+'\n",
        "list1=re.findall(regex,shop)\n",
        "print(list1)\n",
        "\n",
        "print(jtd_df.columns)\n",
        "print(jtd_df.head(10))\n",
        "print(jtd_df[jtd_df['Item Category']=='P010']['Description'].unique())\n",
        "\n",
        "# DF - Identify null rows of Model\n",
        "result_1 = result[result[\"Model\"].isnull()][\"Job Card No\"]\n",
        "print(\"Total null values of Model : \", len(result_1))\n",
        "result_1 = pd.merge(result_1, jtd_df, how='left', left_on='Job Card No', right_on='DBM Order', indicator=True)\n",
        "print(\"Total null values of Model : \", len(result_1))\n",
        "\n",
        "# For each of these row's 'Job Card No', find associated Description and add it as a columns Description\n",
        "\n",
        "\n",
        "# For each row of description\n",
        "  # fetch words in the sentence\n",
        "    # fetch eeach word in the list\n",
        "      # if it contains in the make_list\n",
        "        # add it to a new column\n",
        "\n",
        "# Merge the above df back in the result"
      ],
      "execution_count": null,
      "outputs": [
        {
          "output_type": "stream",
          "text": [
            "['GENERAL MOTORS', 'TATA MOTORS', 'MARUTI SUZUKI', 'HYUNDAI', 'TOYOTA', 'HONDA', 'FIAT', 'FORD', 'SKODA', 'MAHINDRA &  MAHINDRA', 'VOLKSWAGEN', 'NISSAN', 'RENAULT', 'MERCEDES BENZ', 'MITSUBISHI MOTORS', 'DAEWOO', 'BMW', 'FORCE', 'SONALIKA', 'VOLVO', 'HINDUSTAN MOTORS', 'AUDI', 'PREMIER\\xa0AUTOMOBILES', 'PORCHE', 'LAND ROVER', 'JEEP', 'MORRIS', 'SAN MOTORS']\n"
          ],
          "name": "stdout"
        }
      ]
    }
  ]
}